{
  "nbformat": 4,
  "nbformat_minor": 0,
  "metadata": {
    "colab": {
      "provenance": [],
      "toc_visible": true
    },
    "kernelspec": {
      "name": "python3",
      "display_name": "Python 3"
    },
    "language_info": {
      "name": "python"
    }
  },
  "cells": [
    {
      "cell_type": "markdown",
      "source": [
        "# KLASIFIKASI KANKER PARU - PARU menggunakan Lung Cancer Dataset"
      ],
      "metadata": {
        "id": "KbtUPARW7hy6"
      }
    },
    {
      "cell_type": "markdown",
      "source": [
        "Nama : Alfendo Rizky Syachputra\n",
        "\n",
        "NIM  : A11.2019.11918"
      ],
      "metadata": {
        "id": "HdK7eTH6nja6"
      }
    },
    {
      "cell_type": "markdown",
      "source": [
        "## 1. Mengumpulkan Data\n",
        "Dataset yang diambil dari UCI Machine Learning [Link](https://archive.ics.uci.edu/ml/machine-learning-databases/lung-cancer/)\n",
        "\n",
        "Keterangan :\n",
        "- 32 Sampel data dan 57 atribut (fitur)\n",
        "- Terdapat missing value\n",
        "- Class label pada atribut pertama"
      ],
      "metadata": {
        "id": "C9FPUVJZ7wpZ"
      }
    },
    {
      "cell_type": "markdown",
      "source": [
        "## 2. Menalaah Data\n",
        "tediri dari:\n",
        "- load library yang diperlukan\n",
        "- load dataset\n",
        "- memberikan nama header dan atributnya\n",
        "- menaganalisa tipe dan relasi data\n",
        "- memeberikan laporan ata kesimpulan dari hasil telaah data"
      ],
      "metadata": {
        "id": "Qxe1mT2X8udx"
      }
    },
    {
      "cell_type": "code",
      "source": [
        "import numpy as np\n",
        "import pandas as pd\n",
        "from sklearn.model_selection import train_test_split\n",
        "from sklearn.model_selection import GridSearchCV\n",
        "from sklearn.metrics import accuracy_score\n",
        "from sklearn.metrics import precision_score\n",
        "from sklearn.metrics import recall_score\n",
        "from sklearn.metrics import confusion_matrix\n",
        "from sklearn.pipeline import Pipeline\n",
        "from sklearn.tree import DecisionTreeClassifier\n",
        "from sklearn.naive_bayes import MultinomialNB\n",
        "import matplotlib.pyplot as plt\n",
        "%matplotlib inline\n",
        "import seaborn as sns\n",
        "import missingno\n",
        "\n",
        "from sklearn.preprocessing import StandardScaler\n",
        "from sklearn.decomposition import PCA"
      ],
      "metadata": {
        "id": "HEkSxgFx7sEL"
      },
      "execution_count": null,
      "outputs": []
    },
    {
      "cell_type": "markdown",
      "source": [
        "**link** : https://archive.ics.uci.edu/ml/machine-learning-databases/lung-cancer/lung-cancer.data"
      ],
      "metadata": {
        "id": "P95tg5JT9wVC"
      }
    },
    {
      "cell_type": "code",
      "source": [
        "url = 'https://archive.ics.uci.edu/ml/machine-learning-databases/lung-cancer/lung-cancer.data'\n",
        "df = pd.read_csv(url, header=None)"
      ],
      "metadata": {
        "id": "OskPVvsS-Srx"
      },
      "execution_count": null,
      "outputs": []
    },
    {
      "cell_type": "code",
      "source": [
        "df.head()"
      ],
      "metadata": {
        "colab": {
          "base_uri": "https://localhost:8080/",
          "height": 236
        },
        "id": "5CzVny_p9ZN5",
        "outputId": "59f29373-3fa4-47db-92c3-d4fa15dd1cb7"
      },
      "execution_count": null,
      "outputs": [
        {
          "output_type": "execute_result",
          "data": {
            "text/plain": [
              "   0   1   2   3  4   5   6   7   8   9   ...  47  48  49  50  51  52  53  54  \\\n",
              "0   1   0   3   0  ?   0   2   2   2   1  ...   2   2   2   2   2   1   1   1   \n",
              "1   1   0   3   3  1   0   3   1   3   1  ...   2   2   2   2   2   2   2   1   \n",
              "2   1   0   3   3  2   0   3   3   3   1  ...   2   2   2   2   2   2   2   2   \n",
              "3   1   0   2   3  2   1   3   3   3   1  ...   2   2   2   2   2   2   2   2   \n",
              "4   1   0   3   2  1   1   3   3   3   2  ...   2   2   2   2   2   2   2   1   \n",
              "\n",
              "   55  56  \n",
              "0   2   2  \n",
              "1   2   2  \n",
              "2   1   2  \n",
              "3   2   2  \n",
              "4   2   2  \n",
              "\n",
              "[5 rows x 57 columns]"
            ],
            "text/html": [
              "\n",
              "  <div id=\"df-87f450c2-3d29-48c0-bcfe-75316a7571dc\">\n",
              "    <div class=\"colab-df-container\">\n",
              "      <div>\n",
              "<style scoped>\n",
              "    .dataframe tbody tr th:only-of-type {\n",
              "        vertical-align: middle;\n",
              "    }\n",
              "\n",
              "    .dataframe tbody tr th {\n",
              "        vertical-align: top;\n",
              "    }\n",
              "\n",
              "    .dataframe thead th {\n",
              "        text-align: right;\n",
              "    }\n",
              "</style>\n",
              "<table border=\"1\" class=\"dataframe\">\n",
              "  <thead>\n",
              "    <tr style=\"text-align: right;\">\n",
              "      <th></th>\n",
              "      <th>0</th>\n",
              "      <th>1</th>\n",
              "      <th>2</th>\n",
              "      <th>3</th>\n",
              "      <th>4</th>\n",
              "      <th>5</th>\n",
              "      <th>6</th>\n",
              "      <th>7</th>\n",
              "      <th>8</th>\n",
              "      <th>9</th>\n",
              "      <th>...</th>\n",
              "      <th>47</th>\n",
              "      <th>48</th>\n",
              "      <th>49</th>\n",
              "      <th>50</th>\n",
              "      <th>51</th>\n",
              "      <th>52</th>\n",
              "      <th>53</th>\n",
              "      <th>54</th>\n",
              "      <th>55</th>\n",
              "      <th>56</th>\n",
              "    </tr>\n",
              "  </thead>\n",
              "  <tbody>\n",
              "    <tr>\n",
              "      <th>0</th>\n",
              "      <td>1</td>\n",
              "      <td>0</td>\n",
              "      <td>3</td>\n",
              "      <td>0</td>\n",
              "      <td>?</td>\n",
              "      <td>0</td>\n",
              "      <td>2</td>\n",
              "      <td>2</td>\n",
              "      <td>2</td>\n",
              "      <td>1</td>\n",
              "      <td>...</td>\n",
              "      <td>2</td>\n",
              "      <td>2</td>\n",
              "      <td>2</td>\n",
              "      <td>2</td>\n",
              "      <td>2</td>\n",
              "      <td>1</td>\n",
              "      <td>1</td>\n",
              "      <td>1</td>\n",
              "      <td>2</td>\n",
              "      <td>2</td>\n",
              "    </tr>\n",
              "    <tr>\n",
              "      <th>1</th>\n",
              "      <td>1</td>\n",
              "      <td>0</td>\n",
              "      <td>3</td>\n",
              "      <td>3</td>\n",
              "      <td>1</td>\n",
              "      <td>0</td>\n",
              "      <td>3</td>\n",
              "      <td>1</td>\n",
              "      <td>3</td>\n",
              "      <td>1</td>\n",
              "      <td>...</td>\n",
              "      <td>2</td>\n",
              "      <td>2</td>\n",
              "      <td>2</td>\n",
              "      <td>2</td>\n",
              "      <td>2</td>\n",
              "      <td>2</td>\n",
              "      <td>2</td>\n",
              "      <td>1</td>\n",
              "      <td>2</td>\n",
              "      <td>2</td>\n",
              "    </tr>\n",
              "    <tr>\n",
              "      <th>2</th>\n",
              "      <td>1</td>\n",
              "      <td>0</td>\n",
              "      <td>3</td>\n",
              "      <td>3</td>\n",
              "      <td>2</td>\n",
              "      <td>0</td>\n",
              "      <td>3</td>\n",
              "      <td>3</td>\n",
              "      <td>3</td>\n",
              "      <td>1</td>\n",
              "      <td>...</td>\n",
              "      <td>2</td>\n",
              "      <td>2</td>\n",
              "      <td>2</td>\n",
              "      <td>2</td>\n",
              "      <td>2</td>\n",
              "      <td>2</td>\n",
              "      <td>2</td>\n",
              "      <td>2</td>\n",
              "      <td>1</td>\n",
              "      <td>2</td>\n",
              "    </tr>\n",
              "    <tr>\n",
              "      <th>3</th>\n",
              "      <td>1</td>\n",
              "      <td>0</td>\n",
              "      <td>2</td>\n",
              "      <td>3</td>\n",
              "      <td>2</td>\n",
              "      <td>1</td>\n",
              "      <td>3</td>\n",
              "      <td>3</td>\n",
              "      <td>3</td>\n",
              "      <td>1</td>\n",
              "      <td>...</td>\n",
              "      <td>2</td>\n",
              "      <td>2</td>\n",
              "      <td>2</td>\n",
              "      <td>2</td>\n",
              "      <td>2</td>\n",
              "      <td>2</td>\n",
              "      <td>2</td>\n",
              "      <td>2</td>\n",
              "      <td>2</td>\n",
              "      <td>2</td>\n",
              "    </tr>\n",
              "    <tr>\n",
              "      <th>4</th>\n",
              "      <td>1</td>\n",
              "      <td>0</td>\n",
              "      <td>3</td>\n",
              "      <td>2</td>\n",
              "      <td>1</td>\n",
              "      <td>1</td>\n",
              "      <td>3</td>\n",
              "      <td>3</td>\n",
              "      <td>3</td>\n",
              "      <td>2</td>\n",
              "      <td>...</td>\n",
              "      <td>2</td>\n",
              "      <td>2</td>\n",
              "      <td>2</td>\n",
              "      <td>2</td>\n",
              "      <td>2</td>\n",
              "      <td>2</td>\n",
              "      <td>2</td>\n",
              "      <td>1</td>\n",
              "      <td>2</td>\n",
              "      <td>2</td>\n",
              "    </tr>\n",
              "  </tbody>\n",
              "</table>\n",
              "<p>5 rows × 57 columns</p>\n",
              "</div>\n",
              "      <button class=\"colab-df-convert\" onclick=\"convertToInteractive('df-87f450c2-3d29-48c0-bcfe-75316a7571dc')\"\n",
              "              title=\"Convert this dataframe to an interactive table.\"\n",
              "              style=\"display:none;\">\n",
              "        \n",
              "  <svg xmlns=\"http://www.w3.org/2000/svg\" height=\"24px\"viewBox=\"0 0 24 24\"\n",
              "       width=\"24px\">\n",
              "    <path d=\"M0 0h24v24H0V0z\" fill=\"none\"/>\n",
              "    <path d=\"M18.56 5.44l.94 2.06.94-2.06 2.06-.94-2.06-.94-.94-2.06-.94 2.06-2.06.94zm-11 1L8.5 8.5l.94-2.06 2.06-.94-2.06-.94L8.5 2.5l-.94 2.06-2.06.94zm10 10l.94 2.06.94-2.06 2.06-.94-2.06-.94-.94-2.06-.94 2.06-2.06.94z\"/><path d=\"M17.41 7.96l-1.37-1.37c-.4-.4-.92-.59-1.43-.59-.52 0-1.04.2-1.43.59L10.3 9.45l-7.72 7.72c-.78.78-.78 2.05 0 2.83L4 21.41c.39.39.9.59 1.41.59.51 0 1.02-.2 1.41-.59l7.78-7.78 2.81-2.81c.8-.78.8-2.07 0-2.86zM5.41 20L4 18.59l7.72-7.72 1.47 1.35L5.41 20z\"/>\n",
              "  </svg>\n",
              "      </button>\n",
              "      \n",
              "  <style>\n",
              "    .colab-df-container {\n",
              "      display:flex;\n",
              "      flex-wrap:wrap;\n",
              "      gap: 12px;\n",
              "    }\n",
              "\n",
              "    .colab-df-convert {\n",
              "      background-color: #E8F0FE;\n",
              "      border: none;\n",
              "      border-radius: 50%;\n",
              "      cursor: pointer;\n",
              "      display: none;\n",
              "      fill: #1967D2;\n",
              "      height: 32px;\n",
              "      padding: 0 0 0 0;\n",
              "      width: 32px;\n",
              "    }\n",
              "\n",
              "    .colab-df-convert:hover {\n",
              "      background-color: #E2EBFA;\n",
              "      box-shadow: 0px 1px 2px rgba(60, 64, 67, 0.3), 0px 1px 3px 1px rgba(60, 64, 67, 0.15);\n",
              "      fill: #174EA6;\n",
              "    }\n",
              "\n",
              "    [theme=dark] .colab-df-convert {\n",
              "      background-color: #3B4455;\n",
              "      fill: #D2E3FC;\n",
              "    }\n",
              "\n",
              "    [theme=dark] .colab-df-convert:hover {\n",
              "      background-color: #434B5C;\n",
              "      box-shadow: 0px 1px 3px 1px rgba(0, 0, 0, 0.15);\n",
              "      filter: drop-shadow(0px 1px 2px rgba(0, 0, 0, 0.3));\n",
              "      fill: #FFFFFF;\n",
              "    }\n",
              "  </style>\n",
              "\n",
              "      <script>\n",
              "        const buttonEl =\n",
              "          document.querySelector('#df-87f450c2-3d29-48c0-bcfe-75316a7571dc button.colab-df-convert');\n",
              "        buttonEl.style.display =\n",
              "          google.colab.kernel.accessAllowed ? 'block' : 'none';\n",
              "\n",
              "        async function convertToInteractive(key) {\n",
              "          const element = document.querySelector('#df-87f450c2-3d29-48c0-bcfe-75316a7571dc');\n",
              "          const dataTable =\n",
              "            await google.colab.kernel.invokeFunction('convertToInteractive',\n",
              "                                                     [key], {});\n",
              "          if (!dataTable) return;\n",
              "\n",
              "          const docLinkHtml = 'Like what you see? Visit the ' +\n",
              "            '<a target=\"_blank\" href=https://colab.research.google.com/notebooks/data_table.ipynb>data table notebook</a>'\n",
              "            + ' to learn more about interactive tables.';\n",
              "          element.innerHTML = '';\n",
              "          dataTable['output_type'] = 'display_data';\n",
              "          await google.colab.output.renderOutput(dataTable, element);\n",
              "          const docLink = document.createElement('div');\n",
              "          docLink.innerHTML = docLinkHtml;\n",
              "          element.appendChild(docLink);\n",
              "        }\n",
              "      </script>\n",
              "    </div>\n",
              "  </div>\n",
              "  "
            ]
          },
          "metadata": {},
          "execution_count": 219
        }
      ]
    },
    {
      "cell_type": "code",
      "source": [
        "df.tail()"
      ],
      "metadata": {
        "colab": {
          "base_uri": "https://localhost:8080/",
          "height": 236
        },
        "id": "Cc6Kwaig9arR",
        "outputId": "8d525fb4-1a5e-4c6c-f3d9-92ce09fc8c0c"
      },
      "execution_count": null,
      "outputs": [
        {
          "output_type": "execute_result",
          "data": {
            "text/plain": [
              "    0   1   2   3  4   5   6   7   8   9   ...  47  48  49  50  51  52  53  \\\n",
              "27   3   0   2   2  1   0   2   2   2   1  ...   3   3   2   2   3   2   2   \n",
              "28   3   0   3   2  2   0   2   2   2   1  ...   2   2   2   3   1   2   2   \n",
              "29   3   0   2   1  1   0   2   2   1   1  ...   2   2   3   2   2   2   2   \n",
              "30   3   0   2   3  2   1   2   2   3   1  ...   2   2   2   2   2   2   2   \n",
              "31   3   0   2   3  1   0   2   3   3   1  ...   2   2   2   2   2   2   2   \n",
              "\n",
              "    54  55  56  \n",
              "27   2   2   1  \n",
              "28   2   2   2  \n",
              "29   2   2   1  \n",
              "30   1   2   2  \n",
              "31   2   2   2  \n",
              "\n",
              "[5 rows x 57 columns]"
            ],
            "text/html": [
              "\n",
              "  <div id=\"df-6f355707-54b9-44a0-8e27-bc4971b20c86\">\n",
              "    <div class=\"colab-df-container\">\n",
              "      <div>\n",
              "<style scoped>\n",
              "    .dataframe tbody tr th:only-of-type {\n",
              "        vertical-align: middle;\n",
              "    }\n",
              "\n",
              "    .dataframe tbody tr th {\n",
              "        vertical-align: top;\n",
              "    }\n",
              "\n",
              "    .dataframe thead th {\n",
              "        text-align: right;\n",
              "    }\n",
              "</style>\n",
              "<table border=\"1\" class=\"dataframe\">\n",
              "  <thead>\n",
              "    <tr style=\"text-align: right;\">\n",
              "      <th></th>\n",
              "      <th>0</th>\n",
              "      <th>1</th>\n",
              "      <th>2</th>\n",
              "      <th>3</th>\n",
              "      <th>4</th>\n",
              "      <th>5</th>\n",
              "      <th>6</th>\n",
              "      <th>7</th>\n",
              "      <th>8</th>\n",
              "      <th>9</th>\n",
              "      <th>...</th>\n",
              "      <th>47</th>\n",
              "      <th>48</th>\n",
              "      <th>49</th>\n",
              "      <th>50</th>\n",
              "      <th>51</th>\n",
              "      <th>52</th>\n",
              "      <th>53</th>\n",
              "      <th>54</th>\n",
              "      <th>55</th>\n",
              "      <th>56</th>\n",
              "    </tr>\n",
              "  </thead>\n",
              "  <tbody>\n",
              "    <tr>\n",
              "      <th>27</th>\n",
              "      <td>3</td>\n",
              "      <td>0</td>\n",
              "      <td>2</td>\n",
              "      <td>2</td>\n",
              "      <td>1</td>\n",
              "      <td>0</td>\n",
              "      <td>2</td>\n",
              "      <td>2</td>\n",
              "      <td>2</td>\n",
              "      <td>1</td>\n",
              "      <td>...</td>\n",
              "      <td>3</td>\n",
              "      <td>3</td>\n",
              "      <td>2</td>\n",
              "      <td>2</td>\n",
              "      <td>3</td>\n",
              "      <td>2</td>\n",
              "      <td>2</td>\n",
              "      <td>2</td>\n",
              "      <td>2</td>\n",
              "      <td>1</td>\n",
              "    </tr>\n",
              "    <tr>\n",
              "      <th>28</th>\n",
              "      <td>3</td>\n",
              "      <td>0</td>\n",
              "      <td>3</td>\n",
              "      <td>2</td>\n",
              "      <td>2</td>\n",
              "      <td>0</td>\n",
              "      <td>2</td>\n",
              "      <td>2</td>\n",
              "      <td>2</td>\n",
              "      <td>1</td>\n",
              "      <td>...</td>\n",
              "      <td>2</td>\n",
              "      <td>2</td>\n",
              "      <td>2</td>\n",
              "      <td>3</td>\n",
              "      <td>1</td>\n",
              "      <td>2</td>\n",
              "      <td>2</td>\n",
              "      <td>2</td>\n",
              "      <td>2</td>\n",
              "      <td>2</td>\n",
              "    </tr>\n",
              "    <tr>\n",
              "      <th>29</th>\n",
              "      <td>3</td>\n",
              "      <td>0</td>\n",
              "      <td>2</td>\n",
              "      <td>1</td>\n",
              "      <td>1</td>\n",
              "      <td>0</td>\n",
              "      <td>2</td>\n",
              "      <td>2</td>\n",
              "      <td>1</td>\n",
              "      <td>1</td>\n",
              "      <td>...</td>\n",
              "      <td>2</td>\n",
              "      <td>2</td>\n",
              "      <td>3</td>\n",
              "      <td>2</td>\n",
              "      <td>2</td>\n",
              "      <td>2</td>\n",
              "      <td>2</td>\n",
              "      <td>2</td>\n",
              "      <td>2</td>\n",
              "      <td>1</td>\n",
              "    </tr>\n",
              "    <tr>\n",
              "      <th>30</th>\n",
              "      <td>3</td>\n",
              "      <td>0</td>\n",
              "      <td>2</td>\n",
              "      <td>3</td>\n",
              "      <td>2</td>\n",
              "      <td>1</td>\n",
              "      <td>2</td>\n",
              "      <td>2</td>\n",
              "      <td>3</td>\n",
              "      <td>1</td>\n",
              "      <td>...</td>\n",
              "      <td>2</td>\n",
              "      <td>2</td>\n",
              "      <td>2</td>\n",
              "      <td>2</td>\n",
              "      <td>2</td>\n",
              "      <td>2</td>\n",
              "      <td>2</td>\n",
              "      <td>1</td>\n",
              "      <td>2</td>\n",
              "      <td>2</td>\n",
              "    </tr>\n",
              "    <tr>\n",
              "      <th>31</th>\n",
              "      <td>3</td>\n",
              "      <td>0</td>\n",
              "      <td>2</td>\n",
              "      <td>3</td>\n",
              "      <td>1</td>\n",
              "      <td>0</td>\n",
              "      <td>2</td>\n",
              "      <td>3</td>\n",
              "      <td>3</td>\n",
              "      <td>1</td>\n",
              "      <td>...</td>\n",
              "      <td>2</td>\n",
              "      <td>2</td>\n",
              "      <td>2</td>\n",
              "      <td>2</td>\n",
              "      <td>2</td>\n",
              "      <td>2</td>\n",
              "      <td>2</td>\n",
              "      <td>2</td>\n",
              "      <td>2</td>\n",
              "      <td>2</td>\n",
              "    </tr>\n",
              "  </tbody>\n",
              "</table>\n",
              "<p>5 rows × 57 columns</p>\n",
              "</div>\n",
              "      <button class=\"colab-df-convert\" onclick=\"convertToInteractive('df-6f355707-54b9-44a0-8e27-bc4971b20c86')\"\n",
              "              title=\"Convert this dataframe to an interactive table.\"\n",
              "              style=\"display:none;\">\n",
              "        \n",
              "  <svg xmlns=\"http://www.w3.org/2000/svg\" height=\"24px\"viewBox=\"0 0 24 24\"\n",
              "       width=\"24px\">\n",
              "    <path d=\"M0 0h24v24H0V0z\" fill=\"none\"/>\n",
              "    <path d=\"M18.56 5.44l.94 2.06.94-2.06 2.06-.94-2.06-.94-.94-2.06-.94 2.06-2.06.94zm-11 1L8.5 8.5l.94-2.06 2.06-.94-2.06-.94L8.5 2.5l-.94 2.06-2.06.94zm10 10l.94 2.06.94-2.06 2.06-.94-2.06-.94-.94-2.06-.94 2.06-2.06.94z\"/><path d=\"M17.41 7.96l-1.37-1.37c-.4-.4-.92-.59-1.43-.59-.52 0-1.04.2-1.43.59L10.3 9.45l-7.72 7.72c-.78.78-.78 2.05 0 2.83L4 21.41c.39.39.9.59 1.41.59.51 0 1.02-.2 1.41-.59l7.78-7.78 2.81-2.81c.8-.78.8-2.07 0-2.86zM5.41 20L4 18.59l7.72-7.72 1.47 1.35L5.41 20z\"/>\n",
              "  </svg>\n",
              "      </button>\n",
              "      \n",
              "  <style>\n",
              "    .colab-df-container {\n",
              "      display:flex;\n",
              "      flex-wrap:wrap;\n",
              "      gap: 12px;\n",
              "    }\n",
              "\n",
              "    .colab-df-convert {\n",
              "      background-color: #E8F0FE;\n",
              "      border: none;\n",
              "      border-radius: 50%;\n",
              "      cursor: pointer;\n",
              "      display: none;\n",
              "      fill: #1967D2;\n",
              "      height: 32px;\n",
              "      padding: 0 0 0 0;\n",
              "      width: 32px;\n",
              "    }\n",
              "\n",
              "    .colab-df-convert:hover {\n",
              "      background-color: #E2EBFA;\n",
              "      box-shadow: 0px 1px 2px rgba(60, 64, 67, 0.3), 0px 1px 3px 1px rgba(60, 64, 67, 0.15);\n",
              "      fill: #174EA6;\n",
              "    }\n",
              "\n",
              "    [theme=dark] .colab-df-convert {\n",
              "      background-color: #3B4455;\n",
              "      fill: #D2E3FC;\n",
              "    }\n",
              "\n",
              "    [theme=dark] .colab-df-convert:hover {\n",
              "      background-color: #434B5C;\n",
              "      box-shadow: 0px 1px 3px 1px rgba(0, 0, 0, 0.15);\n",
              "      filter: drop-shadow(0px 1px 2px rgba(0, 0, 0, 0.3));\n",
              "      fill: #FFFFFF;\n",
              "    }\n",
              "  </style>\n",
              "\n",
              "      <script>\n",
              "        const buttonEl =\n",
              "          document.querySelector('#df-6f355707-54b9-44a0-8e27-bc4971b20c86 button.colab-df-convert');\n",
              "        buttonEl.style.display =\n",
              "          google.colab.kernel.accessAllowed ? 'block' : 'none';\n",
              "\n",
              "        async function convertToInteractive(key) {\n",
              "          const element = document.querySelector('#df-6f355707-54b9-44a0-8e27-bc4971b20c86');\n",
              "          const dataTable =\n",
              "            await google.colab.kernel.invokeFunction('convertToInteractive',\n",
              "                                                     [key], {});\n",
              "          if (!dataTable) return;\n",
              "\n",
              "          const docLinkHtml = 'Like what you see? Visit the ' +\n",
              "            '<a target=\"_blank\" href=https://colab.research.google.com/notebooks/data_table.ipynb>data table notebook</a>'\n",
              "            + ' to learn more about interactive tables.';\n",
              "          element.innerHTML = '';\n",
              "          dataTable['output_type'] = 'display_data';\n",
              "          await google.colab.output.renderOutput(dataTable, element);\n",
              "          const docLink = document.createElement('div');\n",
              "          docLink.innerHTML = docLinkHtml;\n",
              "          element.appendChild(docLink);\n",
              "        }\n",
              "      </script>\n",
              "    </div>\n",
              "  </div>\n",
              "  "
            ]
          },
          "metadata": {},
          "execution_count": 220
        }
      ]
    },
    {
      "cell_type": "code",
      "source": [
        "# memberi nama header atribut\n",
        "df.columns = ['Class', 'fitur1', 'fitur2', 'fitur3', 'fitur4', 'fitur5', 'fitur6', 'fitur7', 'fitur8', 'fitur9',\n",
        "              'fitur10', 'fitur11', 'fitur12', 'fitur13', 'fitur14', 'fitur15', 'fitur16', 'fitur17', 'fitur18',\n",
        "              'fitur19', 'fitur20', 'fitur21', 'fitur22', 'fitur23', 'fitur24', 'fitur25', 'fitur26', 'fitur27',\n",
        "              'fitur28', 'fitur29', 'fitur30', 'fitur31', 'fitur32', 'fitur33', 'fitur34', 'fitur35', 'fitur36',\n",
        "              'fitur37', 'fitur38', 'fitur39', 'fitur40', 'fitur41', 'fitur42', 'fitur43', 'fitur44', 'fitur45',\n",
        "              'fitur46', 'fitur47', 'fitur48', 'fitur49', 'fitur50', 'fitur51', 'fitur52', 'fitur53', 'fitur54', \n",
        "              'fitur55', 'fitur56']"
      ],
      "metadata": {
        "id": "4ihvTEYQ_I_Z"
      },
      "execution_count": null,
      "outputs": []
    },
    {
      "cell_type": "code",
      "source": [
        "df.head(10)"
      ],
      "metadata": {
        "colab": {
          "base_uri": "https://localhost:8080/",
          "height": 392
        },
        "id": "tpPJDPaUBL2H",
        "outputId": "47c5e899-7434-438e-8119-28654ce838f4"
      },
      "execution_count": null,
      "outputs": [
        {
          "output_type": "execute_result",
          "data": {
            "text/plain": [
              "   Class  fitur1  fitur2  fitur3 fitur4  fitur5  fitur6  fitur7  fitur8  \\\n",
              "0      1       0       3       0      ?       0       2       2       2   \n",
              "1      1       0       3       3      1       0       3       1       3   \n",
              "2      1       0       3       3      2       0       3       3       3   \n",
              "3      1       0       2       3      2       1       3       3       3   \n",
              "4      1       0       3       2      1       1       3       3       3   \n",
              "5      1       0       3       3      2       0       3       3       3   \n",
              "6      1       0       3       2      1       0       3       3       3   \n",
              "7      1       0       2       2      1       0       3       1       3   \n",
              "8      1       0       3       1      1       0       3       1       3   \n",
              "9      2       0       2       3      2       0       2       2       2   \n",
              "\n",
              "   fitur9  ...  fitur47  fitur48  fitur49  fitur50  fitur51  fitur52  fitur53  \\\n",
              "0       1  ...        2        2        2        2        2        1        1   \n",
              "1       1  ...        2        2        2        2        2        2        2   \n",
              "2       1  ...        2        2        2        2        2        2        2   \n",
              "3       1  ...        2        2        2        2        2        2        2   \n",
              "4       2  ...        2        2        2        2        2        2        2   \n",
              "5       1  ...        2        2        2        2        2        2        2   \n",
              "6       1  ...        2        2        2        2        1        2        2   \n",
              "7       3  ...        2        2        1        2        2        2        2   \n",
              "8       1  ...        2        2        2        2        2        2        2   \n",
              "9       1  ...        2        2        2        1        3        2        1   \n",
              "\n",
              "   fitur54  fitur55  fitur56  \n",
              "0        1        2        2  \n",
              "1        1        2        2  \n",
              "2        2        1        2  \n",
              "3        2        2        2  \n",
              "4        1        2        2  \n",
              "5        2        1        2  \n",
              "6        2        1        2  \n",
              "7        1        2        2  \n",
              "8        1        2        2  \n",
              "9        1        2        2  \n",
              "\n",
              "[10 rows x 57 columns]"
            ],
            "text/html": [
              "\n",
              "  <div id=\"df-62dd76e2-2f54-4509-a1aa-1afb6efe14ad\">\n",
              "    <div class=\"colab-df-container\">\n",
              "      <div>\n",
              "<style scoped>\n",
              "    .dataframe tbody tr th:only-of-type {\n",
              "        vertical-align: middle;\n",
              "    }\n",
              "\n",
              "    .dataframe tbody tr th {\n",
              "        vertical-align: top;\n",
              "    }\n",
              "\n",
              "    .dataframe thead th {\n",
              "        text-align: right;\n",
              "    }\n",
              "</style>\n",
              "<table border=\"1\" class=\"dataframe\">\n",
              "  <thead>\n",
              "    <tr style=\"text-align: right;\">\n",
              "      <th></th>\n",
              "      <th>Class</th>\n",
              "      <th>fitur1</th>\n",
              "      <th>fitur2</th>\n",
              "      <th>fitur3</th>\n",
              "      <th>fitur4</th>\n",
              "      <th>fitur5</th>\n",
              "      <th>fitur6</th>\n",
              "      <th>fitur7</th>\n",
              "      <th>fitur8</th>\n",
              "      <th>fitur9</th>\n",
              "      <th>...</th>\n",
              "      <th>fitur47</th>\n",
              "      <th>fitur48</th>\n",
              "      <th>fitur49</th>\n",
              "      <th>fitur50</th>\n",
              "      <th>fitur51</th>\n",
              "      <th>fitur52</th>\n",
              "      <th>fitur53</th>\n",
              "      <th>fitur54</th>\n",
              "      <th>fitur55</th>\n",
              "      <th>fitur56</th>\n",
              "    </tr>\n",
              "  </thead>\n",
              "  <tbody>\n",
              "    <tr>\n",
              "      <th>0</th>\n",
              "      <td>1</td>\n",
              "      <td>0</td>\n",
              "      <td>3</td>\n",
              "      <td>0</td>\n",
              "      <td>?</td>\n",
              "      <td>0</td>\n",
              "      <td>2</td>\n",
              "      <td>2</td>\n",
              "      <td>2</td>\n",
              "      <td>1</td>\n",
              "      <td>...</td>\n",
              "      <td>2</td>\n",
              "      <td>2</td>\n",
              "      <td>2</td>\n",
              "      <td>2</td>\n",
              "      <td>2</td>\n",
              "      <td>1</td>\n",
              "      <td>1</td>\n",
              "      <td>1</td>\n",
              "      <td>2</td>\n",
              "      <td>2</td>\n",
              "    </tr>\n",
              "    <tr>\n",
              "      <th>1</th>\n",
              "      <td>1</td>\n",
              "      <td>0</td>\n",
              "      <td>3</td>\n",
              "      <td>3</td>\n",
              "      <td>1</td>\n",
              "      <td>0</td>\n",
              "      <td>3</td>\n",
              "      <td>1</td>\n",
              "      <td>3</td>\n",
              "      <td>1</td>\n",
              "      <td>...</td>\n",
              "      <td>2</td>\n",
              "      <td>2</td>\n",
              "      <td>2</td>\n",
              "      <td>2</td>\n",
              "      <td>2</td>\n",
              "      <td>2</td>\n",
              "      <td>2</td>\n",
              "      <td>1</td>\n",
              "      <td>2</td>\n",
              "      <td>2</td>\n",
              "    </tr>\n",
              "    <tr>\n",
              "      <th>2</th>\n",
              "      <td>1</td>\n",
              "      <td>0</td>\n",
              "      <td>3</td>\n",
              "      <td>3</td>\n",
              "      <td>2</td>\n",
              "      <td>0</td>\n",
              "      <td>3</td>\n",
              "      <td>3</td>\n",
              "      <td>3</td>\n",
              "      <td>1</td>\n",
              "      <td>...</td>\n",
              "      <td>2</td>\n",
              "      <td>2</td>\n",
              "      <td>2</td>\n",
              "      <td>2</td>\n",
              "      <td>2</td>\n",
              "      <td>2</td>\n",
              "      <td>2</td>\n",
              "      <td>2</td>\n",
              "      <td>1</td>\n",
              "      <td>2</td>\n",
              "    </tr>\n",
              "    <tr>\n",
              "      <th>3</th>\n",
              "      <td>1</td>\n",
              "      <td>0</td>\n",
              "      <td>2</td>\n",
              "      <td>3</td>\n",
              "      <td>2</td>\n",
              "      <td>1</td>\n",
              "      <td>3</td>\n",
              "      <td>3</td>\n",
              "      <td>3</td>\n",
              "      <td>1</td>\n",
              "      <td>...</td>\n",
              "      <td>2</td>\n",
              "      <td>2</td>\n",
              "      <td>2</td>\n",
              "      <td>2</td>\n",
              "      <td>2</td>\n",
              "      <td>2</td>\n",
              "      <td>2</td>\n",
              "      <td>2</td>\n",
              "      <td>2</td>\n",
              "      <td>2</td>\n",
              "    </tr>\n",
              "    <tr>\n",
              "      <th>4</th>\n",
              "      <td>1</td>\n",
              "      <td>0</td>\n",
              "      <td>3</td>\n",
              "      <td>2</td>\n",
              "      <td>1</td>\n",
              "      <td>1</td>\n",
              "      <td>3</td>\n",
              "      <td>3</td>\n",
              "      <td>3</td>\n",
              "      <td>2</td>\n",
              "      <td>...</td>\n",
              "      <td>2</td>\n",
              "      <td>2</td>\n",
              "      <td>2</td>\n",
              "      <td>2</td>\n",
              "      <td>2</td>\n",
              "      <td>2</td>\n",
              "      <td>2</td>\n",
              "      <td>1</td>\n",
              "      <td>2</td>\n",
              "      <td>2</td>\n",
              "    </tr>\n",
              "    <tr>\n",
              "      <th>5</th>\n",
              "      <td>1</td>\n",
              "      <td>0</td>\n",
              "      <td>3</td>\n",
              "      <td>3</td>\n",
              "      <td>2</td>\n",
              "      <td>0</td>\n",
              "      <td>3</td>\n",
              "      <td>3</td>\n",
              "      <td>3</td>\n",
              "      <td>1</td>\n",
              "      <td>...</td>\n",
              "      <td>2</td>\n",
              "      <td>2</td>\n",
              "      <td>2</td>\n",
              "      <td>2</td>\n",
              "      <td>2</td>\n",
              "      <td>2</td>\n",
              "      <td>2</td>\n",
              "      <td>2</td>\n",
              "      <td>1</td>\n",
              "      <td>2</td>\n",
              "    </tr>\n",
              "    <tr>\n",
              "      <th>6</th>\n",
              "      <td>1</td>\n",
              "      <td>0</td>\n",
              "      <td>3</td>\n",
              "      <td>2</td>\n",
              "      <td>1</td>\n",
              "      <td>0</td>\n",
              "      <td>3</td>\n",
              "      <td>3</td>\n",
              "      <td>3</td>\n",
              "      <td>1</td>\n",
              "      <td>...</td>\n",
              "      <td>2</td>\n",
              "      <td>2</td>\n",
              "      <td>2</td>\n",
              "      <td>2</td>\n",
              "      <td>1</td>\n",
              "      <td>2</td>\n",
              "      <td>2</td>\n",
              "      <td>2</td>\n",
              "      <td>1</td>\n",
              "      <td>2</td>\n",
              "    </tr>\n",
              "    <tr>\n",
              "      <th>7</th>\n",
              "      <td>1</td>\n",
              "      <td>0</td>\n",
              "      <td>2</td>\n",
              "      <td>2</td>\n",
              "      <td>1</td>\n",
              "      <td>0</td>\n",
              "      <td>3</td>\n",
              "      <td>1</td>\n",
              "      <td>3</td>\n",
              "      <td>3</td>\n",
              "      <td>...</td>\n",
              "      <td>2</td>\n",
              "      <td>2</td>\n",
              "      <td>1</td>\n",
              "      <td>2</td>\n",
              "      <td>2</td>\n",
              "      <td>2</td>\n",
              "      <td>2</td>\n",
              "      <td>1</td>\n",
              "      <td>2</td>\n",
              "      <td>2</td>\n",
              "    </tr>\n",
              "    <tr>\n",
              "      <th>8</th>\n",
              "      <td>1</td>\n",
              "      <td>0</td>\n",
              "      <td>3</td>\n",
              "      <td>1</td>\n",
              "      <td>1</td>\n",
              "      <td>0</td>\n",
              "      <td>3</td>\n",
              "      <td>1</td>\n",
              "      <td>3</td>\n",
              "      <td>1</td>\n",
              "      <td>...</td>\n",
              "      <td>2</td>\n",
              "      <td>2</td>\n",
              "      <td>2</td>\n",
              "      <td>2</td>\n",
              "      <td>2</td>\n",
              "      <td>2</td>\n",
              "      <td>2</td>\n",
              "      <td>1</td>\n",
              "      <td>2</td>\n",
              "      <td>2</td>\n",
              "    </tr>\n",
              "    <tr>\n",
              "      <th>9</th>\n",
              "      <td>2</td>\n",
              "      <td>0</td>\n",
              "      <td>2</td>\n",
              "      <td>3</td>\n",
              "      <td>2</td>\n",
              "      <td>0</td>\n",
              "      <td>2</td>\n",
              "      <td>2</td>\n",
              "      <td>2</td>\n",
              "      <td>1</td>\n",
              "      <td>...</td>\n",
              "      <td>2</td>\n",
              "      <td>2</td>\n",
              "      <td>2</td>\n",
              "      <td>1</td>\n",
              "      <td>3</td>\n",
              "      <td>2</td>\n",
              "      <td>1</td>\n",
              "      <td>1</td>\n",
              "      <td>2</td>\n",
              "      <td>2</td>\n",
              "    </tr>\n",
              "  </tbody>\n",
              "</table>\n",
              "<p>10 rows × 57 columns</p>\n",
              "</div>\n",
              "      <button class=\"colab-df-convert\" onclick=\"convertToInteractive('df-62dd76e2-2f54-4509-a1aa-1afb6efe14ad')\"\n",
              "              title=\"Convert this dataframe to an interactive table.\"\n",
              "              style=\"display:none;\">\n",
              "        \n",
              "  <svg xmlns=\"http://www.w3.org/2000/svg\" height=\"24px\"viewBox=\"0 0 24 24\"\n",
              "       width=\"24px\">\n",
              "    <path d=\"M0 0h24v24H0V0z\" fill=\"none\"/>\n",
              "    <path d=\"M18.56 5.44l.94 2.06.94-2.06 2.06-.94-2.06-.94-.94-2.06-.94 2.06-2.06.94zm-11 1L8.5 8.5l.94-2.06 2.06-.94-2.06-.94L8.5 2.5l-.94 2.06-2.06.94zm10 10l.94 2.06.94-2.06 2.06-.94-2.06-.94-.94-2.06-.94 2.06-2.06.94z\"/><path d=\"M17.41 7.96l-1.37-1.37c-.4-.4-.92-.59-1.43-.59-.52 0-1.04.2-1.43.59L10.3 9.45l-7.72 7.72c-.78.78-.78 2.05 0 2.83L4 21.41c.39.39.9.59 1.41.59.51 0 1.02-.2 1.41-.59l7.78-7.78 2.81-2.81c.8-.78.8-2.07 0-2.86zM5.41 20L4 18.59l7.72-7.72 1.47 1.35L5.41 20z\"/>\n",
              "  </svg>\n",
              "      </button>\n",
              "      \n",
              "  <style>\n",
              "    .colab-df-container {\n",
              "      display:flex;\n",
              "      flex-wrap:wrap;\n",
              "      gap: 12px;\n",
              "    }\n",
              "\n",
              "    .colab-df-convert {\n",
              "      background-color: #E8F0FE;\n",
              "      border: none;\n",
              "      border-radius: 50%;\n",
              "      cursor: pointer;\n",
              "      display: none;\n",
              "      fill: #1967D2;\n",
              "      height: 32px;\n",
              "      padding: 0 0 0 0;\n",
              "      width: 32px;\n",
              "    }\n",
              "\n",
              "    .colab-df-convert:hover {\n",
              "      background-color: #E2EBFA;\n",
              "      box-shadow: 0px 1px 2px rgba(60, 64, 67, 0.3), 0px 1px 3px 1px rgba(60, 64, 67, 0.15);\n",
              "      fill: #174EA6;\n",
              "    }\n",
              "\n",
              "    [theme=dark] .colab-df-convert {\n",
              "      background-color: #3B4455;\n",
              "      fill: #D2E3FC;\n",
              "    }\n",
              "\n",
              "    [theme=dark] .colab-df-convert:hover {\n",
              "      background-color: #434B5C;\n",
              "      box-shadow: 0px 1px 3px 1px rgba(0, 0, 0, 0.15);\n",
              "      filter: drop-shadow(0px 1px 2px rgba(0, 0, 0, 0.3));\n",
              "      fill: #FFFFFF;\n",
              "    }\n",
              "  </style>\n",
              "\n",
              "      <script>\n",
              "        const buttonEl =\n",
              "          document.querySelector('#df-62dd76e2-2f54-4509-a1aa-1afb6efe14ad button.colab-df-convert');\n",
              "        buttonEl.style.display =\n",
              "          google.colab.kernel.accessAllowed ? 'block' : 'none';\n",
              "\n",
              "        async function convertToInteractive(key) {\n",
              "          const element = document.querySelector('#df-62dd76e2-2f54-4509-a1aa-1afb6efe14ad');\n",
              "          const dataTable =\n",
              "            await google.colab.kernel.invokeFunction('convertToInteractive',\n",
              "                                                     [key], {});\n",
              "          if (!dataTable) return;\n",
              "\n",
              "          const docLinkHtml = 'Like what you see? Visit the ' +\n",
              "            '<a target=\"_blank\" href=https://colab.research.google.com/notebooks/data_table.ipynb>data table notebook</a>'\n",
              "            + ' to learn more about interactive tables.';\n",
              "          element.innerHTML = '';\n",
              "          dataTable['output_type'] = 'display_data';\n",
              "          await google.colab.output.renderOutput(dataTable, element);\n",
              "          const docLink = document.createElement('div');\n",
              "          docLink.innerHTML = docLinkHtml;\n",
              "          element.appendChild(docLink);\n",
              "        }\n",
              "      </script>\n",
              "    </div>\n",
              "  </div>\n",
              "  "
            ]
          },
          "metadata": {},
          "execution_count": 222
        }
      ]
    },
    {
      "cell_type": "code",
      "source": [
        " # menganalisa tipe dan relasi data\n",
        " # melihat tipe dataset\n",
        " type(df)"
      ],
      "metadata": {
        "colab": {
          "base_uri": "https://localhost:8080/"
        },
        "id": "7iDj-1ZRBNPn",
        "outputId": "b1fcf38c-e7d3-4dc1-98a8-a5e85e8c2188"
      },
      "execution_count": null,
      "outputs": [
        {
          "output_type": "execute_result",
          "data": {
            "text/plain": [
              "pandas.core.frame.DataFrame"
            ]
          },
          "metadata": {},
          "execution_count": 223
        }
      ]
    },
    {
      "cell_type": "code",
      "source": [
        "# melihat ukuran dataset\n",
        "df.shape"
      ],
      "metadata": {
        "colab": {
          "base_uri": "https://localhost:8080/"
        },
        "id": "Pb6AjmgrFStw",
        "outputId": "13c9eae3-feef-462d-cd07-2a524917e9fa"
      },
      "execution_count": null,
      "outputs": [
        {
          "output_type": "execute_result",
          "data": {
            "text/plain": [
              "(32, 57)"
            ]
          },
          "metadata": {},
          "execution_count": 224
        }
      ]
    },
    {
      "cell_type": "code",
      "source": [
        "# melihat informasi tipe data\n",
        "df.info()"
      ],
      "metadata": {
        "colab": {
          "base_uri": "https://localhost:8080/"
        },
        "id": "yQuCxNFWFYWG",
        "outputId": "d56918bb-64a7-409e-bc28-55efb9da865f"
      },
      "execution_count": null,
      "outputs": [
        {
          "output_type": "stream",
          "name": "stdout",
          "text": [
            "<class 'pandas.core.frame.DataFrame'>\n",
            "RangeIndex: 32 entries, 0 to 31\n",
            "Data columns (total 57 columns):\n",
            " #   Column   Non-Null Count  Dtype \n",
            "---  ------   --------------  ----- \n",
            " 0   Class    32 non-null     int64 \n",
            " 1   fitur1   32 non-null     int64 \n",
            " 2   fitur2   32 non-null     int64 \n",
            " 3   fitur3   32 non-null     int64 \n",
            " 4   fitur4   32 non-null     object\n",
            " 5   fitur5   32 non-null     int64 \n",
            " 6   fitur6   32 non-null     int64 \n",
            " 7   fitur7   32 non-null     int64 \n",
            " 8   fitur8   32 non-null     int64 \n",
            " 9   fitur9   32 non-null     int64 \n",
            " 10  fitur10  32 non-null     int64 \n",
            " 11  fitur11  32 non-null     int64 \n",
            " 12  fitur12  32 non-null     int64 \n",
            " 13  fitur13  32 non-null     int64 \n",
            " 14  fitur14  32 non-null     int64 \n",
            " 15  fitur15  32 non-null     int64 \n",
            " 16  fitur16  32 non-null     int64 \n",
            " 17  fitur17  32 non-null     int64 \n",
            " 18  fitur18  32 non-null     int64 \n",
            " 19  fitur19  32 non-null     int64 \n",
            " 20  fitur20  32 non-null     int64 \n",
            " 21  fitur21  32 non-null     int64 \n",
            " 22  fitur22  32 non-null     int64 \n",
            " 23  fitur23  32 non-null     int64 \n",
            " 24  fitur24  32 non-null     int64 \n",
            " 25  fitur25  32 non-null     int64 \n",
            " 26  fitur26  32 non-null     int64 \n",
            " 27  fitur27  32 non-null     int64 \n",
            " 28  fitur28  32 non-null     int64 \n",
            " 29  fitur29  32 non-null     int64 \n",
            " 30  fitur30  32 non-null     int64 \n",
            " 31  fitur31  32 non-null     int64 \n",
            " 32  fitur32  32 non-null     int64 \n",
            " 33  fitur33  32 non-null     int64 \n",
            " 34  fitur34  32 non-null     int64 \n",
            " 35  fitur35  32 non-null     int64 \n",
            " 36  fitur36  32 non-null     int64 \n",
            " 37  fitur37  32 non-null     int64 \n",
            " 38  fitur38  32 non-null     object\n",
            " 39  fitur39  32 non-null     int64 \n",
            " 40  fitur40  32 non-null     int64 \n",
            " 41  fitur41  32 non-null     int64 \n",
            " 42  fitur42  32 non-null     int64 \n",
            " 43  fitur43  32 non-null     int64 \n",
            " 44  fitur44  32 non-null     int64 \n",
            " 45  fitur45  32 non-null     int64 \n",
            " 46  fitur46  32 non-null     int64 \n",
            " 47  fitur47  32 non-null     int64 \n",
            " 48  fitur48  32 non-null     int64 \n",
            " 49  fitur49  32 non-null     int64 \n",
            " 50  fitur50  32 non-null     int64 \n",
            " 51  fitur51  32 non-null     int64 \n",
            " 52  fitur52  32 non-null     int64 \n",
            " 53  fitur53  32 non-null     int64 \n",
            " 54  fitur54  32 non-null     int64 \n",
            " 55  fitur55  32 non-null     int64 \n",
            " 56  fitur56  32 non-null     int64 \n",
            "dtypes: int64(55), object(2)\n",
            "memory usage: 14.4+ KB\n"
          ]
        }
      ]
    },
    {
      "cell_type": "code",
      "source": [
        "# melihat distribusi Class (apa saja jenisnya)\n",
        "df['Class'].unique()"
      ],
      "metadata": {
        "colab": {
          "base_uri": "https://localhost:8080/"
        },
        "id": "XBXGycZ6FlzQ",
        "outputId": "340a0935-7243-488d-e06f-e07c1ccbecd1"
      },
      "execution_count": null,
      "outputs": [
        {
          "output_type": "execute_result",
          "data": {
            "text/plain": [
              "array([1, 2, 3])"
            ]
          },
          "metadata": {},
          "execution_count": 226
        }
      ]
    },
    {
      "cell_type": "code",
      "source": [
        "# melihat distribusi Class (jumlah tiap class)\n",
        "df['Class'].value_counts()"
      ],
      "metadata": {
        "colab": {
          "base_uri": "https://localhost:8080/"
        },
        "id": "WwFcuvODGFcH",
        "outputId": "b65385ea-04cf-4e37-d26c-a40cb266ceb0"
      },
      "execution_count": null,
      "outputs": [
        {
          "output_type": "execute_result",
          "data": {
            "text/plain": [
              "2    13\n",
              "3    10\n",
              "1     9\n",
              "Name: Class, dtype: int64"
            ]
          },
          "metadata": {},
          "execution_count": 227
        }
      ]
    },
    {
      "cell_type": "code",
      "source": [
        "# melihat distribusi Class (Visualisasi dengan Diagram Batang)\n",
        "sns.set(font_scale=1.4)\n",
        "df['Class'].value_counts().plot(kind='bar', figsize=(10,6), rot=0)\n",
        "plt.xlabel('Tipe Penyakit Kanker Paru - Paru', labelpad=10)\n",
        "plt.ylabel('Jumlah', labelpad=10)\n",
        "plt.title('Ditribusi Penderita Penyakit Kanker Paru - Paru', y=1.02)\n",
        "plt.show()"
      ],
      "metadata": {
        "colab": {
          "base_uri": "https://localhost:8080/",
          "height": 436
        },
        "id": "fiOXqNcdGV3N",
        "outputId": "bfd1f7f6-13b7-404a-a5b6-c9c0fa0537c3"
      },
      "execution_count": null,
      "outputs": [
        {
          "output_type": "display_data",
          "data": {
            "text/plain": [
              "<Figure size 720x432 with 1 Axes>"
            ],
            "image/png": "[encoded data removed]"
          },
          "metadata": {}
        }
      ]
    },
    {
      "cell_type": "code",
      "source": [
        "# melihat diskripsi statistik dataset\n",
        "df.describe()"
      ],
      "metadata": {
        "colab": {
          "base_uri": "https://localhost:8080/",
          "height": 394
        },
        "id": "YABKV0ujH27u",
        "outputId": "511ee13a-832c-4d71-8990-d35eb7fe7489"
      },
      "execution_count": null,
      "outputs": [
        {
          "output_type": "execute_result",
          "data": {
            "text/plain": [
              "           Class     fitur1     fitur2     fitur3     fitur5     fitur6  \\\n",
              "count  32.000000  32.000000  32.000000  32.000000  32.000000  32.000000   \n",
              "mean    2.031250   0.031250   2.375000   2.031250   0.281250   2.187500   \n",
              "std     0.782237   0.176777   0.553581   1.031265   0.456803   0.737804   \n",
              "min     1.000000   0.000000   1.000000   0.000000   0.000000   1.000000   \n",
              "25%     1.000000   0.000000   2.000000   1.750000   0.000000   2.000000   \n",
              "50%     2.000000   0.000000   2.000000   2.000000   0.000000   2.000000   \n",
              "75%     3.000000   0.000000   3.000000   3.000000   1.000000   3.000000   \n",
              "max     3.000000   1.000000   3.000000   3.000000   1.000000   3.000000   \n",
              "\n",
              "          fitur7     fitur8     fitur9    fitur10  ...    fitur47    fitur48  \\\n",
              "count  32.000000  32.000000  32.000000  32.000000  ...  32.000000  32.000000   \n",
              "mean    2.125000   2.406250   1.156250   1.406250  ...   2.062500   2.062500   \n",
              "std     0.751343   0.756024   0.514899   0.559918  ...   0.245935   0.245935   \n",
              "min     1.000000   1.000000   1.000000   1.000000  ...   2.000000   2.000000   \n",
              "25%     2.000000   2.000000   1.000000   1.000000  ...   2.000000   2.000000   \n",
              "50%     2.000000   3.000000   1.000000   1.000000  ...   2.000000   2.000000   \n",
              "75%     3.000000   3.000000   1.000000   2.000000  ...   2.000000   2.000000   \n",
              "max     3.000000   3.000000   3.000000   3.000000  ...   3.000000   3.000000   \n",
              "\n",
              "         fitur49    fitur50    fitur51    fitur52    fitur53    fitur54  \\\n",
              "count  32.000000  32.000000  32.000000  32.000000  32.000000  32.000000   \n",
              "mean    2.000000   2.000000   2.000000   1.843750   1.843750   1.562500   \n",
              "std     0.359211   0.359211   0.508001   0.447889   0.447889   0.504016   \n",
              "min     1.000000   1.000000   1.000000   1.000000   1.000000   1.000000   \n",
              "25%     2.000000   2.000000   2.000000   2.000000   2.000000   1.000000   \n",
              "50%     2.000000   2.000000   2.000000   2.000000   2.000000   2.000000   \n",
              "75%     2.000000   2.000000   2.000000   2.000000   2.000000   2.000000   \n",
              "max     3.000000   3.000000   3.000000   3.000000   3.000000   2.000000   \n",
              "\n",
              "         fitur55    fitur56  \n",
              "count  32.000000  32.000000  \n",
              "mean    1.812500   1.718750  \n",
              "std     0.396558   0.456803  \n",
              "min     1.000000   1.000000  \n",
              "25%     2.000000   1.000000  \n",
              "50%     2.000000   2.000000  \n",
              "75%     2.000000   2.000000  \n",
              "max     2.000000   2.000000  \n",
              "\n",
              "[8 rows x 55 columns]"
            ],
            "text/html": [
              "\n",
              "  <div id=\"df-af993f83-83f6-45d5-8ca2-a1fa73d1ff98\">\n",
              "    <div class=\"colab-df-container\">\n",
              "      <div>\n",
              "<style scoped>\n",
              "    .dataframe tbody tr th:only-of-type {\n",
              "        vertical-align: middle;\n",
              "    }\n",
              "\n",
              "    .dataframe tbody tr th {\n",
              "        vertical-align: top;\n",
              "    }\n",
              "\n",
              "    .dataframe thead th {\n",
              "        text-align: right;\n",
              "    }\n",
              "</style>\n",
              "<table border=\"1\" class=\"dataframe\">\n",
              "  <thead>\n",
              "    <tr style=\"text-align: right;\">\n",
              "      <th></th>\n",
              "      <th>Class</th>\n",
              "      <th>fitur1</th>\n",
              "      <th>fitur2</th>\n",
              "      <th>fitur3</th>\n",
              "      <th>fitur5</th>\n",
              "      <th>fitur6</th>\n",
              "      <th>fitur7</th>\n",
              "      <th>fitur8</th>\n",
              "      <th>fitur9</th>\n",
              "      <th>fitur10</th>\n",
              "      <th>...</th>\n",
              "      <th>fitur47</th>\n",
              "      <th>fitur48</th>\n",
              "      <th>fitur49</th>\n",
              "      <th>fitur50</th>\n",
              "      <th>fitur51</th>\n",
              "      <th>fitur52</th>\n",
              "      <th>fitur53</th>\n",
              "      <th>fitur54</th>\n",
              "      <th>fitur55</th>\n",
              "      <th>fitur56</th>\n",
              "    </tr>\n",
              "  </thead>\n",
              "  <tbody>\n",
              "    <tr>\n",
              "      <th>count</th>\n",
              "      <td>32.000000</td>\n",
              "      <td>32.000000</td>\n",
              "      <td>32.000000</td>\n",
              "      <td>32.000000</td>\n",
              "      <td>32.000000</td>\n",
              "      <td>32.000000</td>\n",
              "      <td>32.000000</td>\n",
              "      <td>32.000000</td>\n",
              "      <td>32.000000</td>\n",
              "      <td>32.000000</td>\n",
              "      <td>...</td>\n",
              "      <td>32.000000</td>\n",
              "      <td>32.000000</td>\n",
              "      <td>32.000000</td>\n",
              "      <td>32.000000</td>\n",
              "      <td>32.000000</td>\n",
              "      <td>32.000000</td>\n",
              "      <td>32.000000</td>\n",
              "      <td>32.000000</td>\n",
              "      <td>32.000000</td>\n",
              "      <td>32.000000</td>\n",
              "    </tr>\n",
              "    <tr>\n",
              "      <th>mean</th>\n",
              "      <td>2.031250</td>\n",
              "      <td>0.031250</td>\n",
              "      <td>2.375000</td>\n",
              "      <td>2.031250</td>\n",
              "      <td>0.281250</td>\n",
              "      <td>2.187500</td>\n",
              "      <td>2.125000</td>\n",
              "      <td>2.406250</td>\n",
              "      <td>1.156250</td>\n",
              "      <td>1.406250</td>\n",
              "      <td>...</td>\n",
              "      <td>2.062500</td>\n",
              "      <td>2.062500</td>\n",
              "      <td>2.000000</td>\n",
              "      <td>2.000000</td>\n",
              "      <td>2.000000</td>\n",
              "      <td>1.843750</td>\n",
              "      <td>1.843750</td>\n",
              "      <td>1.562500</td>\n",
              "      <td>1.812500</td>\n",
              "      <td>1.718750</td>\n",
              "    </tr>\n",
              "    <tr>\n",
              "      <th>std</th>\n",
              "      <td>0.782237</td>\n",
              "      <td>0.176777</td>\n",
              "      <td>0.553581</td>\n",
              "      <td>1.031265</td>\n",
              "      <td>0.456803</td>\n",
              "      <td>0.737804</td>\n",
              "      <td>0.751343</td>\n",
              "      <td>0.756024</td>\n",
              "      <td>0.514899</td>\n",
              "      <td>0.559918</td>\n",
              "      <td>...</td>\n",
              "      <td>0.245935</td>\n",
              "      <td>0.245935</td>\n",
              "      <td>0.359211</td>\n",
              "      <td>0.359211</td>\n",
              "      <td>0.508001</td>\n",
              "      <td>0.447889</td>\n",
              "      <td>0.447889</td>\n",
              "      <td>0.504016</td>\n",
              "      <td>0.396558</td>\n",
              "      <td>0.456803</td>\n",
              "    </tr>\n",
              "    <tr>\n",
              "      <th>min</th>\n",
              "      <td>1.000000</td>\n",
              "      <td>0.000000</td>\n",
              "      <td>1.000000</td>\n",
              "      <td>0.000000</td>\n",
              "      <td>0.000000</td>\n",
              "      <td>1.000000</td>\n",
              "      <td>1.000000</td>\n",
              "      <td>1.000000</td>\n",
              "      <td>1.000000</td>\n",
              "      <td>1.000000</td>\n",
              "      <td>...</td>\n",
              "      <td>2.000000</td>\n",
              "      <td>2.000000</td>\n",
              "      <td>1.000000</td>\n",
              "      <td>1.000000</td>\n",
              "      <td>1.000000</td>\n",
              "      <td>1.000000</td>\n",
              "      <td>1.000000</td>\n",
              "      <td>1.000000</td>\n",
              "      <td>1.000000</td>\n",
              "      <td>1.000000</td>\n",
              "    </tr>\n",
              "    <tr>\n",
              "      <th>25%</th>\n",
              "      <td>1.000000</td>\n",
              "      <td>0.000000</td>\n",
              "      <td>2.000000</td>\n",
              "      <td>1.750000</td>\n",
              "      <td>0.000000</td>\n",
              "      <td>2.000000</td>\n",
              "      <td>2.000000</td>\n",
              "      <td>2.000000</td>\n",
              "      <td>1.000000</td>\n",
              "      <td>1.000000</td>\n",
              "      <td>...</td>\n",
              "      <td>2.000000</td>\n",
              "      <td>2.000000</td>\n",
              "      <td>2.000000</td>\n",
              "      <td>2.000000</td>\n",
              "      <td>2.000000</td>\n",
              "      <td>2.000000</td>\n",
              "      <td>2.000000</td>\n",
              "      <td>1.000000</td>\n",
              "      <td>2.000000</td>\n",
              "      <td>1.000000</td>\n",
              "    </tr>\n",
              "    <tr>\n",
              "      <th>50%</th>\n",
              "      <td>2.000000</td>\n",
              "      <td>0.000000</td>\n",
              "      <td>2.000000</td>\n",
              "      <td>2.000000</td>\n",
              "      <td>0.000000</td>\n",
              "      <td>2.000000</td>\n",
              "      <td>2.000000</td>\n",
              "      <td>3.000000</td>\n",
              "      <td>1.000000</td>\n",
              "      <td>1.000000</td>\n",
              "      <td>...</td>\n",
              "      <td>2.000000</td>\n",
              "      <td>2.000000</td>\n",
              "      <td>2.000000</td>\n",
              "      <td>2.000000</td>\n",
              "      <td>2.000000</td>\n",
              "      <td>2.000000</td>\n",
              "      <td>2.000000</td>\n",
              "      <td>2.000000</td>\n",
              "      <td>2.000000</td>\n",
              "      <td>2.000000</td>\n",
              "    </tr>\n",
              "    <tr>\n",
              "      <th>75%</th>\n",
              "      <td>3.000000</td>\n",
              "      <td>0.000000</td>\n",
              "      <td>3.000000</td>\n",
              "      <td>3.000000</td>\n",
              "      <td>1.000000</td>\n",
              "      <td>3.000000</td>\n",
              "      <td>3.000000</td>\n",
              "      <td>3.000000</td>\n",
              "      <td>1.000000</td>\n",
              "      <td>2.000000</td>\n",
              "      <td>...</td>\n",
              "      <td>2.000000</td>\n",
              "      <td>2.000000</td>\n",
              "      <td>2.000000</td>\n",
              "      <td>2.000000</td>\n",
              "      <td>2.000000</td>\n",
              "      <td>2.000000</td>\n",
              "      <td>2.000000</td>\n",
              "      <td>2.000000</td>\n",
              "      <td>2.000000</td>\n",
              "      <td>2.000000</td>\n",
              "    </tr>\n",
              "    <tr>\n",
              "      <th>max</th>\n",
              "      <td>3.000000</td>\n",
              "      <td>1.000000</td>\n",
              "      <td>3.000000</td>\n",
              "      <td>3.000000</td>\n",
              "      <td>1.000000</td>\n",
              "      <td>3.000000</td>\n",
              "      <td>3.000000</td>\n",
              "      <td>3.000000</td>\n",
              "      <td>3.000000</td>\n",
              "      <td>3.000000</td>\n",
              "      <td>...</td>\n",
              "      <td>3.000000</td>\n",
              "      <td>3.000000</td>\n",
              "      <td>3.000000</td>\n",
              "      <td>3.000000</td>\n",
              "      <td>3.000000</td>\n",
              "      <td>3.000000</td>\n",
              "      <td>3.000000</td>\n",
              "      <td>2.000000</td>\n",
              "      <td>2.000000</td>\n",
              "      <td>2.000000</td>\n",
              "    </tr>\n",
              "  </tbody>\n",
              "</table>\n",
              "<p>8 rows × 55 columns</p>\n",
              "</div>\n",
              "      <button class=\"colab-df-convert\" onclick=\"convertToInteractive('df-af993f83-83f6-45d5-8ca2-a1fa73d1ff98')\"\n",
              "              title=\"Convert this dataframe to an interactive table.\"\n",
              "              style=\"display:none;\">\n",
              "        \n",
              "  <svg xmlns=\"http://www.w3.org/2000/svg\" height=\"24px\"viewBox=\"0 0 24 24\"\n",
              "       width=\"24px\">\n",
              "    <path d=\"M0 0h24v24H0V0z\" fill=\"none\"/>\n",
              "    <path d=\"M18.56 5.44l.94 2.06.94-2.06 2.06-.94-2.06-.94-.94-2.06-.94 2.06-2.06.94zm-11 1L8.5 8.5l.94-2.06 2.06-.94-2.06-.94L8.5 2.5l-.94 2.06-2.06.94zm10 10l.94 2.06.94-2.06 2.06-.94-2.06-.94-.94-2.06-.94 2.06-2.06.94z\"/><path d=\"M17.41 7.96l-1.37-1.37c-.4-.4-.92-.59-1.43-.59-.52 0-1.04.2-1.43.59L10.3 9.45l-7.72 7.72c-.78.78-.78 2.05 0 2.83L4 21.41c.39.39.9.59 1.41.59.51 0 1.02-.2 1.41-.59l7.78-7.78 2.81-2.81c.8-.78.8-2.07 0-2.86zM5.41 20L4 18.59l7.72-7.72 1.47 1.35L5.41 20z\"/>\n",
              "  </svg>\n",
              "      </button>\n",
              "      \n",
              "  <style>\n",
              "    .colab-df-container {\n",
              "      display:flex;\n",
              "      flex-wrap:wrap;\n",
              "      gap: 12px;\n",
              "    }\n",
              "\n",
              "    .colab-df-convert {\n",
              "      background-color: #E8F0FE;\n",
              "      border: none;\n",
              "      border-radius: 50%;\n",
              "      cursor: pointer;\n",
              "      display: none;\n",
              "      fill: #1967D2;\n",
              "      height: 32px;\n",
              "      padding: 0 0 0 0;\n",
              "      width: 32px;\n",
              "    }\n",
              "\n",
              "    .colab-df-convert:hover {\n",
              "      background-color: #E2EBFA;\n",
              "      box-shadow: 0px 1px 2px rgba(60, 64, 67, 0.3), 0px 1px 3px 1px rgba(60, 64, 67, 0.15);\n",
              "      fill: #174EA6;\n",
              "    }\n",
              "\n",
              "    [theme=dark] .colab-df-convert {\n",
              "      background-color: #3B4455;\n",
              "      fill: #D2E3FC;\n",
              "    }\n",
              "\n",
              "    [theme=dark] .colab-df-convert:hover {\n",
              "      background-color: #434B5C;\n",
              "      box-shadow: 0px 1px 3px 1px rgba(0, 0, 0, 0.15);\n",
              "      filter: drop-shadow(0px 1px 2px rgba(0, 0, 0, 0.3));\n",
              "      fill: #FFFFFF;\n",
              "    }\n",
              "  </style>\n",
              "\n",
              "      <script>\n",
              "        const buttonEl =\n",
              "          document.querySelector('#df-af993f83-83f6-45d5-8ca2-a1fa73d1ff98 button.colab-df-convert');\n",
              "        buttonEl.style.display =\n",
              "          google.colab.kernel.accessAllowed ? 'block' : 'none';\n",
              "\n",
              "        async function convertToInteractive(key) {\n",
              "          const element = document.querySelector('#df-af993f83-83f6-45d5-8ca2-a1fa73d1ff98');\n",
              "          const dataTable =\n",
              "            await google.colab.kernel.invokeFunction('convertToInteractive',\n",
              "                                                     [key], {});\n",
              "          if (!dataTable) return;\n",
              "\n",
              "          const docLinkHtml = 'Like what you see? Visit the ' +\n",
              "            '<a target=\"_blank\" href=https://colab.research.google.com/notebooks/data_table.ipynb>data table notebook</a>'\n",
              "            + ' to learn more about interactive tables.';\n",
              "          element.innerHTML = '';\n",
              "          dataTable['output_type'] = 'display_data';\n",
              "          await google.colab.output.renderOutput(dataTable, element);\n",
              "          const docLink = document.createElement('div');\n",
              "          docLink.innerHTML = docLinkHtml;\n",
              "          element.appendChild(docLink);\n",
              "        }\n",
              "      </script>\n",
              "    </div>\n",
              "  </div>\n",
              "  "
            ]
          },
          "metadata": {},
          "execution_count": 229
        }
      ]
    },
    {
      "cell_type": "markdown",
      "source": [
        "## **Kesimpulan :**\n",
        "- Ada beberpa fitur yang seharusnya bertipe int64, namun tertulis object, berarti ada data yang  hilang (missing value => ?)\n",
        "- Jumlah fitur ada 57, lebih banyak dibandingkan jumlah record data pasien yang hanya 32. Sehingga masuk ke dalam **High Dimensional Dataset** => Dataset Bertipe Tinggi\n",
        "- Jumlah distribusi class 1 => 9 pasien, class 2 => 13 pasien, class 3 => 10 pasien\n"
      ],
      "metadata": {
        "id": "-gV2cC-RKKHO"
      }
    },
    {
      "cell_type": "markdown",
      "source": [
        "## 3. Memvalidasi Data\n",
        "terdiri dari :\n",
        "- Merubah fitur yang mempunyai tanda (?) menjadi nila NaN"
      ],
      "metadata": {
        "id": "Mzm-oxw9LlP1"
      }
    },
    {
      "cell_type": "code",
      "source": [
        "# cek dataframe\n",
        "df.head()"
      ],
      "metadata": {
        "colab": {
          "base_uri": "https://localhost:8080/",
          "height": 236
        },
        "id": "CtCWy2CeJ1U3",
        "outputId": "e9c2472c-d313-432b-bc07-c59a3600af84"
      },
      "execution_count": null,
      "outputs": [
        {
          "output_type": "execute_result",
          "data": {
            "text/plain": [
              "   Class  fitur1  fitur2  fitur3 fitur4  fitur5  fitur6  fitur7  fitur8  \\\n",
              "0      1       0       3       0      ?       0       2       2       2   \n",
              "1      1       0       3       3      1       0       3       1       3   \n",
              "2      1       0       3       3      2       0       3       3       3   \n",
              "3      1       0       2       3      2       1       3       3       3   \n",
              "4      1       0       3       2      1       1       3       3       3   \n",
              "\n",
              "   fitur9  ...  fitur47  fitur48  fitur49  fitur50  fitur51  fitur52  fitur53  \\\n",
              "0       1  ...        2        2        2        2        2        1        1   \n",
              "1       1  ...        2        2        2        2        2        2        2   \n",
              "2       1  ...        2        2        2        2        2        2        2   \n",
              "3       1  ...        2        2        2        2        2        2        2   \n",
              "4       2  ...        2        2        2        2        2        2        2   \n",
              "\n",
              "   fitur54  fitur55  fitur56  \n",
              "0        1        2        2  \n",
              "1        1        2        2  \n",
              "2        2        1        2  \n",
              "3        2        2        2  \n",
              "4        1        2        2  \n",
              "\n",
              "[5 rows x 57 columns]"
            ],
            "text/html": [
              "\n",
              "  <div id=\"df-d2eba1a2-e285-420f-a9d0-36d152a763de\">\n",
              "    <div class=\"colab-df-container\">\n",
              "      <div>\n",
              "<style scoped>\n",
              "    .dataframe tbody tr th:only-of-type {\n",
              "        vertical-align: middle;\n",
              "    }\n",
              "\n",
              "    .dataframe tbody tr th {\n",
              "        vertical-align: top;\n",
              "    }\n",
              "\n",
              "    .dataframe thead th {\n",
              "        text-align: right;\n",
              "    }\n",
              "</style>\n",
              "<table border=\"1\" class=\"dataframe\">\n",
              "  <thead>\n",
              "    <tr style=\"text-align: right;\">\n",
              "      <th></th>\n",
              "      <th>Class</th>\n",
              "      <th>fitur1</th>\n",
              "      <th>fitur2</th>\n",
              "      <th>fitur3</th>\n",
              "      <th>fitur4</th>\n",
              "      <th>fitur5</th>\n",
              "      <th>fitur6</th>\n",
              "      <th>fitur7</th>\n",
              "      <th>fitur8</th>\n",
              "      <th>fitur9</th>\n",
              "      <th>...</th>\n",
              "      <th>fitur47</th>\n",
              "      <th>fitur48</th>\n",
              "      <th>fitur49</th>\n",
              "      <th>fitur50</th>\n",
              "      <th>fitur51</th>\n",
              "      <th>fitur52</th>\n",
              "      <th>fitur53</th>\n",
              "      <th>fitur54</th>\n",
              "      <th>fitur55</th>\n",
              "      <th>fitur56</th>\n",
              "    </tr>\n",
              "  </thead>\n",
              "  <tbody>\n",
              "    <tr>\n",
              "      <th>0</th>\n",
              "      <td>1</td>\n",
              "      <td>0</td>\n",
              "      <td>3</td>\n",
              "      <td>0</td>\n",
              "      <td>?</td>\n",
              "      <td>0</td>\n",
              "      <td>2</td>\n",
              "      <td>2</td>\n",
              "      <td>2</td>\n",
              "      <td>1</td>\n",
              "      <td>...</td>\n",
              "      <td>2</td>\n",
              "      <td>2</td>\n",
              "      <td>2</td>\n",
              "      <td>2</td>\n",
              "      <td>2</td>\n",
              "      <td>1</td>\n",
              "      <td>1</td>\n",
              "      <td>1</td>\n",
              "      <td>2</td>\n",
              "      <td>2</td>\n",
              "    </tr>\n",
              "    <tr>\n",
              "      <th>1</th>\n",
              "      <td>1</td>\n",
              "      <td>0</td>\n",
              "      <td>3</td>\n",
              "      <td>3</td>\n",
              "      <td>1</td>\n",
              "      <td>0</td>\n",
              "      <td>3</td>\n",
              "      <td>1</td>\n",
              "      <td>3</td>\n",
              "      <td>1</td>\n",
              "      <td>...</td>\n",
              "      <td>2</td>\n",
              "      <td>2</td>\n",
              "      <td>2</td>\n",
              "      <td>2</td>\n",
              "      <td>2</td>\n",
              "      <td>2</td>\n",
              "      <td>2</td>\n",
              "      <td>1</td>\n",
              "      <td>2</td>\n",
              "      <td>2</td>\n",
              "    </tr>\n",
              "    <tr>\n",
              "      <th>2</th>\n",
              "      <td>1</td>\n",
              "      <td>0</td>\n",
              "      <td>3</td>\n",
              "      <td>3</td>\n",
              "      <td>2</td>\n",
              "      <td>0</td>\n",
              "      <td>3</td>\n",
              "      <td>3</td>\n",
              "      <td>3</td>\n",
              "      <td>1</td>\n",
              "      <td>...</td>\n",
              "      <td>2</td>\n",
              "      <td>2</td>\n",
              "      <td>2</td>\n",
              "      <td>2</td>\n",
              "      <td>2</td>\n",
              "      <td>2</td>\n",
              "      <td>2</td>\n",
              "      <td>2</td>\n",
              "      <td>1</td>\n",
              "      <td>2</td>\n",
              "    </tr>\n",
              "    <tr>\n",
              "      <th>3</th>\n",
              "      <td>1</td>\n",
              "      <td>0</td>\n",
              "      <td>2</td>\n",
              "      <td>3</td>\n",
              "      <td>2</td>\n",
              "      <td>1</td>\n",
              "      <td>3</td>\n",
              "      <td>3</td>\n",
              "      <td>3</td>\n",
              "      <td>1</td>\n",
              "      <td>...</td>\n",
              "      <td>2</td>\n",
              "      <td>2</td>\n",
              "      <td>2</td>\n",
              "      <td>2</td>\n",
              "      <td>2</td>\n",
              "      <td>2</td>\n",
              "      <td>2</td>\n",
              "      <td>2</td>\n",
              "      <td>2</td>\n",
              "      <td>2</td>\n",
              "    </tr>\n",
              "    <tr>\n",
              "      <th>4</th>\n",
              "      <td>1</td>\n",
              "      <td>0</td>\n",
              "      <td>3</td>\n",
              "      <td>2</td>\n",
              "      <td>1</td>\n",
              "      <td>1</td>\n",
              "      <td>3</td>\n",
              "      <td>3</td>\n",
              "      <td>3</td>\n",
              "      <td>2</td>\n",
              "      <td>...</td>\n",
              "      <td>2</td>\n",
              "      <td>2</td>\n",
              "      <td>2</td>\n",
              "      <td>2</td>\n",
              "      <td>2</td>\n",
              "      <td>2</td>\n",
              "      <td>2</td>\n",
              "      <td>1</td>\n",
              "      <td>2</td>\n",
              "      <td>2</td>\n",
              "    </tr>\n",
              "  </tbody>\n",
              "</table>\n",
              "<p>5 rows × 57 columns</p>\n",
              "</div>\n",
              "      <button class=\"colab-df-convert\" onclick=\"convertToInteractive('df-d2eba1a2-e285-420f-a9d0-36d152a763de')\"\n",
              "              title=\"Convert this dataframe to an interactive table.\"\n",
              "              style=\"display:none;\">\n",
              "        \n",
              "  <svg xmlns=\"http://www.w3.org/2000/svg\" height=\"24px\"viewBox=\"0 0 24 24\"\n",
              "       width=\"24px\">\n",
              "    <path d=\"M0 0h24v24H0V0z\" fill=\"none\"/>\n",
              "    <path d=\"M18.56 5.44l.94 2.06.94-2.06 2.06-.94-2.06-.94-.94-2.06-.94 2.06-2.06.94zm-11 1L8.5 8.5l.94-2.06 2.06-.94-2.06-.94L8.5 2.5l-.94 2.06-2.06.94zm10 10l.94 2.06.94-2.06 2.06-.94-2.06-.94-.94-2.06-.94 2.06-2.06.94z\"/><path d=\"M17.41 7.96l-1.37-1.37c-.4-.4-.92-.59-1.43-.59-.52 0-1.04.2-1.43.59L10.3 9.45l-7.72 7.72c-.78.78-.78 2.05 0 2.83L4 21.41c.39.39.9.59 1.41.59.51 0 1.02-.2 1.41-.59l7.78-7.78 2.81-2.81c.8-.78.8-2.07 0-2.86zM5.41 20L4 18.59l7.72-7.72 1.47 1.35L5.41 20z\"/>\n",
              "  </svg>\n",
              "      </button>\n",
              "      \n",
              "  <style>\n",
              "    .colab-df-container {\n",
              "      display:flex;\n",
              "      flex-wrap:wrap;\n",
              "      gap: 12px;\n",
              "    }\n",
              "\n",
              "    .colab-df-convert {\n",
              "      background-color: #E8F0FE;\n",
              "      border: none;\n",
              "      border-radius: 50%;\n",
              "      cursor: pointer;\n",
              "      display: none;\n",
              "      fill: #1967D2;\n",
              "      height: 32px;\n",
              "      padding: 0 0 0 0;\n",
              "      width: 32px;\n",
              "    }\n",
              "\n",
              "    .colab-df-convert:hover {\n",
              "      background-color: #E2EBFA;\n",
              "      box-shadow: 0px 1px 2px rgba(60, 64, 67, 0.3), 0px 1px 3px 1px rgba(60, 64, 67, 0.15);\n",
              "      fill: #174EA6;\n",
              "    }\n",
              "\n",
              "    [theme=dark] .colab-df-convert {\n",
              "      background-color: #3B4455;\n",
              "      fill: #D2E3FC;\n",
              "    }\n",
              "\n",
              "    [theme=dark] .colab-df-convert:hover {\n",
              "      background-color: #434B5C;\n",
              "      box-shadow: 0px 1px 3px 1px rgba(0, 0, 0, 0.15);\n",
              "      filter: drop-shadow(0px 1px 2px rgba(0, 0, 0, 0.3));\n",
              "      fill: #FFFFFF;\n",
              "    }\n",
              "  </style>\n",
              "\n",
              "      <script>\n",
              "        const buttonEl =\n",
              "          document.querySelector('#df-d2eba1a2-e285-420f-a9d0-36d152a763de button.colab-df-convert');\n",
              "        buttonEl.style.display =\n",
              "          google.colab.kernel.accessAllowed ? 'block' : 'none';\n",
              "\n",
              "        async function convertToInteractive(key) {\n",
              "          const element = document.querySelector('#df-d2eba1a2-e285-420f-a9d0-36d152a763de');\n",
              "          const dataTable =\n",
              "            await google.colab.kernel.invokeFunction('convertToInteractive',\n",
              "                                                     [key], {});\n",
              "          if (!dataTable) return;\n",
              "\n",
              "          const docLinkHtml = 'Like what you see? Visit the ' +\n",
              "            '<a target=\"_blank\" href=https://colab.research.google.com/notebooks/data_table.ipynb>data table notebook</a>'\n",
              "            + ' to learn more about interactive tables.';\n",
              "          element.innerHTML = '';\n",
              "          dataTable['output_type'] = 'display_data';\n",
              "          await google.colab.output.renderOutput(dataTable, element);\n",
              "          const docLink = document.createElement('div');\n",
              "          docLink.innerHTML = docLinkHtml;\n",
              "          element.appendChild(docLink);\n",
              "        }\n",
              "      </script>\n",
              "    </div>\n",
              "  </div>\n",
              "  "
            ]
          },
          "metadata": {},
          "execution_count": 230
        }
      ]
    },
    {
      "cell_type": "code",
      "source": [
        "# merubah nilai \"?\" menjadi \"NaN\" dengan numpy\n",
        "df.replace(\"?\", np.nan, inplace=True)"
      ],
      "metadata": {
        "id": "ICHUglz1L4h9"
      },
      "execution_count": null,
      "outputs": []
    },
    {
      "cell_type": "code",
      "source": [
        "df.head()"
      ],
      "metadata": {
        "colab": {
          "base_uri": "https://localhost:8080/",
          "height": 236
        },
        "id": "jse6wrh4MMsE",
        "outputId": "8ddf9dbc-82cf-478f-e619-467e6744a2a1"
      },
      "execution_count": null,
      "outputs": [
        {
          "output_type": "execute_result",
          "data": {
            "text/plain": [
              "   Class  fitur1  fitur2  fitur3 fitur4  fitur5  fitur6  fitur7  fitur8  \\\n",
              "0      1       0       3       0    NaN       0       2       2       2   \n",
              "1      1       0       3       3      1       0       3       1       3   \n",
              "2      1       0       3       3      2       0       3       3       3   \n",
              "3      1       0       2       3      2       1       3       3       3   \n",
              "4      1       0       3       2      1       1       3       3       3   \n",
              "\n",
              "   fitur9  ...  fitur47  fitur48  fitur49  fitur50  fitur51  fitur52  fitur53  \\\n",
              "0       1  ...        2        2        2        2        2        1        1   \n",
              "1       1  ...        2        2        2        2        2        2        2   \n",
              "2       1  ...        2        2        2        2        2        2        2   \n",
              "3       1  ...        2        2        2        2        2        2        2   \n",
              "4       2  ...        2        2        2        2        2        2        2   \n",
              "\n",
              "   fitur54  fitur55  fitur56  \n",
              "0        1        2        2  \n",
              "1        1        2        2  \n",
              "2        2        1        2  \n",
              "3        2        2        2  \n",
              "4        1        2        2  \n",
              "\n",
              "[5 rows x 57 columns]"
            ],
            "text/html": [
              "\n",
              "  <div id=\"df-9e87263d-5051-4c95-b78b-b399f78e4e4f\">\n",
              "    <div class=\"colab-df-container\">\n",
              "      <div>\n",
              "<style scoped>\n",
              "    .dataframe tbody tr th:only-of-type {\n",
              "        vertical-align: middle;\n",
              "    }\n",
              "\n",
              "    .dataframe tbody tr th {\n",
              "        vertical-align: top;\n",
              "    }\n",
              "\n",
              "    .dataframe thead th {\n",
              "        text-align: right;\n",
              "    }\n",
              "</style>\n",
              "<table border=\"1\" class=\"dataframe\">\n",
              "  <thead>\n",
              "    <tr style=\"text-align: right;\">\n",
              "      <th></th>\n",
              "      <th>Class</th>\n",
              "      <th>fitur1</th>\n",
              "      <th>fitur2</th>\n",
              "      <th>fitur3</th>\n",
              "      <th>fitur4</th>\n",
              "      <th>fitur5</th>\n",
              "      <th>fitur6</th>\n",
              "      <th>fitur7</th>\n",
              "      <th>fitur8</th>\n",
              "      <th>fitur9</th>\n",
              "      <th>...</th>\n",
              "      <th>fitur47</th>\n",
              "      <th>fitur48</th>\n",
              "      <th>fitur49</th>\n",
              "      <th>fitur50</th>\n",
              "      <th>fitur51</th>\n",
              "      <th>fitur52</th>\n",
              "      <th>fitur53</th>\n",
              "      <th>fitur54</th>\n",
              "      <th>fitur55</th>\n",
              "      <th>fitur56</th>\n",
              "    </tr>\n",
              "  </thead>\n",
              "  <tbody>\n",
              "    <tr>\n",
              "      <th>0</th>\n",
              "      <td>1</td>\n",
              "      <td>0</td>\n",
              "      <td>3</td>\n",
              "      <td>0</td>\n",
              "      <td>NaN</td>\n",
              "      <td>0</td>\n",
              "      <td>2</td>\n",
              "      <td>2</td>\n",
              "      <td>2</td>\n",
              "      <td>1</td>\n",
              "      <td>...</td>\n",
              "      <td>2</td>\n",
              "      <td>2</td>\n",
              "      <td>2</td>\n",
              "      <td>2</td>\n",
              "      <td>2</td>\n",
              "      <td>1</td>\n",
              "      <td>1</td>\n",
              "      <td>1</td>\n",
              "      <td>2</td>\n",
              "      <td>2</td>\n",
              "    </tr>\n",
              "    <tr>\n",
              "      <th>1</th>\n",
              "      <td>1</td>\n",
              "      <td>0</td>\n",
              "      <td>3</td>\n",
              "      <td>3</td>\n",
              "      <td>1</td>\n",
              "      <td>0</td>\n",
              "      <td>3</td>\n",
              "      <td>1</td>\n",
              "      <td>3</td>\n",
              "      <td>1</td>\n",
              "      <td>...</td>\n",
              "      <td>2</td>\n",
              "      <td>2</td>\n",
              "      <td>2</td>\n",
              "      <td>2</td>\n",
              "      <td>2</td>\n",
              "      <td>2</td>\n",
              "      <td>2</td>\n",
              "      <td>1</td>\n",
              "      <td>2</td>\n",
              "      <td>2</td>\n",
              "    </tr>\n",
              "    <tr>\n",
              "      <th>2</th>\n",
              "      <td>1</td>\n",
              "      <td>0</td>\n",
              "      <td>3</td>\n",
              "      <td>3</td>\n",
              "      <td>2</td>\n",
              "      <td>0</td>\n",
              "      <td>3</td>\n",
              "      <td>3</td>\n",
              "      <td>3</td>\n",
              "      <td>1</td>\n",
              "      <td>...</td>\n",
              "      <td>2</td>\n",
              "      <td>2</td>\n",
              "      <td>2</td>\n",
              "      <td>2</td>\n",
              "      <td>2</td>\n",
              "      <td>2</td>\n",
              "      <td>2</td>\n",
              "      <td>2</td>\n",
              "      <td>1</td>\n",
              "      <td>2</td>\n",
              "    </tr>\n",
              "    <tr>\n",
              "      <th>3</th>\n",
              "      <td>1</td>\n",
              "      <td>0</td>\n",
              "      <td>2</td>\n",
              "      <td>3</td>\n",
              "      <td>2</td>\n",
              "      <td>1</td>\n",
              "      <td>3</td>\n",
              "      <td>3</td>\n",
              "      <td>3</td>\n",
              "      <td>1</td>\n",
              "      <td>...</td>\n",
              "      <td>2</td>\n",
              "      <td>2</td>\n",
              "      <td>2</td>\n",
              "      <td>2</td>\n",
              "      <td>2</td>\n",
              "      <td>2</td>\n",
              "      <td>2</td>\n",
              "      <td>2</td>\n",
              "      <td>2</td>\n",
              "      <td>2</td>\n",
              "    </tr>\n",
              "    <tr>\n",
              "      <th>4</th>\n",
              "      <td>1</td>\n",
              "      <td>0</td>\n",
              "      <td>3</td>\n",
              "      <td>2</td>\n",
              "      <td>1</td>\n",
              "      <td>1</td>\n",
              "      <td>3</td>\n",
              "      <td>3</td>\n",
              "      <td>3</td>\n",
              "      <td>2</td>\n",
              "      <td>...</td>\n",
              "      <td>2</td>\n",
              "      <td>2</td>\n",
              "      <td>2</td>\n",
              "      <td>2</td>\n",
              "      <td>2</td>\n",
              "      <td>2</td>\n",
              "      <td>2</td>\n",
              "      <td>1</td>\n",
              "      <td>2</td>\n",
              "      <td>2</td>\n",
              "    </tr>\n",
              "  </tbody>\n",
              "</table>\n",
              "<p>5 rows × 57 columns</p>\n",
              "</div>\n",
              "      <button class=\"colab-df-convert\" onclick=\"convertToInteractive('df-9e87263d-5051-4c95-b78b-b399f78e4e4f')\"\n",
              "              title=\"Convert this dataframe to an interactive table.\"\n",
              "              style=\"display:none;\">\n",
              "        \n",
              "  <svg xmlns=\"http://www.w3.org/2000/svg\" height=\"24px\"viewBox=\"0 0 24 24\"\n",
              "       width=\"24px\">\n",
              "    <path d=\"M0 0h24v24H0V0z\" fill=\"none\"/>\n",
              "    <path d=\"M18.56 5.44l.94 2.06.94-2.06 2.06-.94-2.06-.94-.94-2.06-.94 2.06-2.06.94zm-11 1L8.5 8.5l.94-2.06 2.06-.94-2.06-.94L8.5 2.5l-.94 2.06-2.06.94zm10 10l.94 2.06.94-2.06 2.06-.94-2.06-.94-.94-2.06-.94 2.06-2.06.94z\"/><path d=\"M17.41 7.96l-1.37-1.37c-.4-.4-.92-.59-1.43-.59-.52 0-1.04.2-1.43.59L10.3 9.45l-7.72 7.72c-.78.78-.78 2.05 0 2.83L4 21.41c.39.39.9.59 1.41.59.51 0 1.02-.2 1.41-.59l7.78-7.78 2.81-2.81c.8-.78.8-2.07 0-2.86zM5.41 20L4 18.59l7.72-7.72 1.47 1.35L5.41 20z\"/>\n",
              "  </svg>\n",
              "      </button>\n",
              "      \n",
              "  <style>\n",
              "    .colab-df-container {\n",
              "      display:flex;\n",
              "      flex-wrap:wrap;\n",
              "      gap: 12px;\n",
              "    }\n",
              "\n",
              "    .colab-df-convert {\n",
              "      background-color: #E8F0FE;\n",
              "      border: none;\n",
              "      border-radius: 50%;\n",
              "      cursor: pointer;\n",
              "      display: none;\n",
              "      fill: #1967D2;\n",
              "      height: 32px;\n",
              "      padding: 0 0 0 0;\n",
              "      width: 32px;\n",
              "    }\n",
              "\n",
              "    .colab-df-convert:hover {\n",
              "      background-color: #E2EBFA;\n",
              "      box-shadow: 0px 1px 2px rgba(60, 64, 67, 0.3), 0px 1px 3px 1px rgba(60, 64, 67, 0.15);\n",
              "      fill: #174EA6;\n",
              "    }\n",
              "\n",
              "    [theme=dark] .colab-df-convert {\n",
              "      background-color: #3B4455;\n",
              "      fill: #D2E3FC;\n",
              "    }\n",
              "\n",
              "    [theme=dark] .colab-df-convert:hover {\n",
              "      background-color: #434B5C;\n",
              "      box-shadow: 0px 1px 3px 1px rgba(0, 0, 0, 0.15);\n",
              "      filter: drop-shadow(0px 1px 2px rgba(0, 0, 0, 0.3));\n",
              "      fill: #FFFFFF;\n",
              "    }\n",
              "  </style>\n",
              "\n",
              "      <script>\n",
              "        const buttonEl =\n",
              "          document.querySelector('#df-9e87263d-5051-4c95-b78b-b399f78e4e4f button.colab-df-convert');\n",
              "        buttonEl.style.display =\n",
              "          google.colab.kernel.accessAllowed ? 'block' : 'none';\n",
              "\n",
              "        async function convertToInteractive(key) {\n",
              "          const element = document.querySelector('#df-9e87263d-5051-4c95-b78b-b399f78e4e4f');\n",
              "          const dataTable =\n",
              "            await google.colab.kernel.invokeFunction('convertToInteractive',\n",
              "                                                     [key], {});\n",
              "          if (!dataTable) return;\n",
              "\n",
              "          const docLinkHtml = 'Like what you see? Visit the ' +\n",
              "            '<a target=\"_blank\" href=https://colab.research.google.com/notebooks/data_table.ipynb>data table notebook</a>'\n",
              "            + ' to learn more about interactive tables.';\n",
              "          element.innerHTML = '';\n",
              "          dataTable['output_type'] = 'display_data';\n",
              "          await google.colab.output.renderOutput(dataTable, element);\n",
              "          const docLink = document.createElement('div');\n",
              "          docLink.innerHTML = docLinkHtml;\n",
              "          element.appendChild(docLink);\n",
              "        }\n",
              "      </script>\n",
              "    </div>\n",
              "  </div>\n",
              "  "
            ]
          },
          "metadata": {},
          "execution_count": 232
        }
      ]
    },
    {
      "cell_type": "code",
      "source": [
        "# mengecek apakah dataframe terdapat nilai kosong\n",
        "df.isnull().values.any()"
      ],
      "metadata": {
        "colab": {
          "base_uri": "https://localhost:8080/"
        },
        "id": "ydSA9BCbMN48",
        "outputId": "e907ba5a-51ab-4bcd-e88a-1fd3d9e52b1c"
      },
      "execution_count": null,
      "outputs": [
        {
          "output_type": "execute_result",
          "data": {
            "text/plain": [
              "True"
            ]
          },
          "metadata": {},
          "execution_count": 233
        }
      ]
    },
    {
      "cell_type": "code",
      "source": [
        "# melihat lokasi pada kolom dataframe yang kosong atau NaN\n",
        "df.loc[:, df.isnull().any()].columns"
      ],
      "metadata": {
        "colab": {
          "base_uri": "https://localhost:8080/"
        },
        "id": "MIIplK7-Mmum",
        "outputId": "3168c10a-2179-425b-980f-1de022192813"
      },
      "execution_count": null,
      "outputs": [
        {
          "output_type": "execute_result",
          "data": {
            "text/plain": [
              "Index(['fitur4', 'fitur38'], dtype='object')"
            ]
          },
          "metadata": {},
          "execution_count": 234
        }
      ]
    },
    {
      "cell_type": "code",
      "source": [
        "# melihat prenstasi nilai yang kosong\n",
        "df.loc[:, list(df.loc[:, df.isnull().any()].columns)].isnull().sum()/(len(df))*100"
      ],
      "metadata": {
        "colab": {
          "base_uri": "https://localhost:8080/"
        },
        "id": "LZvq6ArMNHlk",
        "outputId": "0468b974-dd68-4acd-de0c-60be0782de5a"
      },
      "execution_count": null,
      "outputs": [
        {
          "output_type": "execute_result",
          "data": {
            "text/plain": [
              "fitur4     12.500\n",
              "fitur38     3.125\n",
              "dtype: float64"
            ]
          },
          "metadata": {},
          "execution_count": 235
        }
      ]
    },
    {
      "cell_type": "code",
      "source": [
        "# menggunakan replace missing value untuk fitur 4 dan 38\n",
        "df[['fitur4', 'fitur38']]"
      ],
      "metadata": {
        "colab": {
          "base_uri": "https://localhost:8080/",
          "height": 1000
        },
        "id": "Lp291LQ3NnWl",
        "outputId": "8871b728-ced5-4c8c-d0b9-d161ee4b4df9"
      },
      "execution_count": null,
      "outputs": [
        {
          "output_type": "execute_result",
          "data": {
            "text/plain": [
              "   fitur4 fitur38\n",
              "0     NaN       2\n",
              "1       1       1\n",
              "2       2       2\n",
              "3       2       2\n",
              "4       1       1\n",
              "5       2       1\n",
              "6       1       2\n",
              "7       1       1\n",
              "8       1       2\n",
              "9       2       2\n",
              "10      0       2\n",
              "11      2       2\n",
              "12      1       2\n",
              "13      1       1\n",
              "14    NaN       2\n",
              "15      2       2\n",
              "16      2       2\n",
              "17      1       1\n",
              "18    NaN       1\n",
              "19      1       1\n",
              "20    NaN       2\n",
              "21      2       2\n",
              "22      1       1\n",
              "23      1       3\n",
              "24      1       2\n",
              "25      2     NaN\n",
              "26      2       2\n",
              "27      1       1\n",
              "28      2       1\n",
              "29      1       3\n",
              "30      2       2\n",
              "31      1       2"
            ],
            "text/html": [
              "\n",
              "  <div id=\"df-24e960ec-8d8f-4f22-9dd8-3b651a535223\">\n",
              "    <div class=\"colab-df-container\">\n",
              "      <div>\n",
              "<style scoped>\n",
              "    .dataframe tbody tr th:only-of-type {\n",
              "        vertical-align: middle;\n",
              "    }\n",
              "\n",
              "    .dataframe tbody tr th {\n",
              "        vertical-align: top;\n",
              "    }\n",
              "\n",
              "    .dataframe thead th {\n",
              "        text-align: right;\n",
              "    }\n",
              "</style>\n",
              "<table border=\"1\" class=\"dataframe\">\n",
              "  <thead>\n",
              "    <tr style=\"text-align: right;\">\n",
              "      <th></th>\n",
              "      <th>fitur4</th>\n",
              "      <th>fitur38</th>\n",
              "    </tr>\n",
              "  </thead>\n",
              "  <tbody>\n",
              "    <tr>\n",
              "      <th>0</th>\n",
              "      <td>NaN</td>\n",
              "      <td>2</td>\n",
              "    </tr>\n",
              "    <tr>\n",
              "      <th>1</th>\n",
              "      <td>1</td>\n",
              "      <td>1</td>\n",
              "    </tr>\n",
              "    <tr>\n",
              "      <th>2</th>\n",
              "      <td>2</td>\n",
              "      <td>2</td>\n",
              "    </tr>\n",
              "    <tr>\n",
              "      <th>3</th>\n",
              "      <td>2</td>\n",
              "      <td>2</td>\n",
              "    </tr>\n",
              "    <tr>\n",
              "      <th>4</th>\n",
              "      <td>1</td>\n",
              "      <td>1</td>\n",
              "    </tr>\n",
              "    <tr>\n",
              "      <th>5</th>\n",
              "      <td>2</td>\n",
              "      <td>1</td>\n",
              "    </tr>\n",
              "    <tr>\n",
              "      <th>6</th>\n",
              "      <td>1</td>\n",
              "      <td>2</td>\n",
              "    </tr>\n",
              "    <tr>\n",
              "      <th>7</th>\n",
              "      <td>1</td>\n",
              "      <td>1</td>\n",
              "    </tr>\n",
              "    <tr>\n",
              "      <th>8</th>\n",
              "      <td>1</td>\n",
              "      <td>2</td>\n",
              "    </tr>\n",
              "    <tr>\n",
              "      <th>9</th>\n",
              "      <td>2</td>\n",
              "      <td>2</td>\n",
              "    </tr>\n",
              "    <tr>\n",
              "      <th>10</th>\n",
              "      <td>0</td>\n",
              "      <td>2</td>\n",
              "    </tr>\n",
              "    <tr>\n",
              "      <th>11</th>\n",
              "      <td>2</td>\n",
              "      <td>2</td>\n",
              "    </tr>\n",
              "    <tr>\n",
              "      <th>12</th>\n",
              "      <td>1</td>\n",
              "      <td>2</td>\n",
              "    </tr>\n",
              "    <tr>\n",
              "      <th>13</th>\n",
              "      <td>1</td>\n",
              "      <td>1</td>\n",
              "    </tr>\n",
              "    <tr>\n",
              "      <th>14</th>\n",
              "      <td>NaN</td>\n",
              "      <td>2</td>\n",
              "    </tr>\n",
              "    <tr>\n",
              "      <th>15</th>\n",
              "      <td>2</td>\n",
              "      <td>2</td>\n",
              "    </tr>\n",
              "    <tr>\n",
              "      <th>16</th>\n",
              "      <td>2</td>\n",
              "      <td>2</td>\n",
              "    </tr>\n",
              "    <tr>\n",
              "      <th>17</th>\n",
              "      <td>1</td>\n",
              "      <td>1</td>\n",
              "    </tr>\n",
              "    <tr>\n",
              "      <th>18</th>\n",
              "      <td>NaN</td>\n",
              "      <td>1</td>\n",
              "    </tr>\n",
              "    <tr>\n",
              "      <th>19</th>\n",
              "      <td>1</td>\n",
              "      <td>1</td>\n",
              "    </tr>\n",
              "    <tr>\n",
              "      <th>20</th>\n",
              "      <td>NaN</td>\n",
              "      <td>2</td>\n",
              "    </tr>\n",
              "    <tr>\n",
              "      <th>21</th>\n",
              "      <td>2</td>\n",
              "      <td>2</td>\n",
              "    </tr>\n",
              "    <tr>\n",
              "      <th>22</th>\n",
              "      <td>1</td>\n",
              "      <td>1</td>\n",
              "    </tr>\n",
              "    <tr>\n",
              "      <th>23</th>\n",
              "      <td>1</td>\n",
              "      <td>3</td>\n",
              "    </tr>\n",
              "    <tr>\n",
              "      <th>24</th>\n",
              "      <td>1</td>\n",
              "      <td>2</td>\n",
              "    </tr>\n",
              "    <tr>\n",
              "      <th>25</th>\n",
              "      <td>2</td>\n",
              "      <td>NaN</td>\n",
              "    </tr>\n",
              "    <tr>\n",
              "      <th>26</th>\n",
              "      <td>2</td>\n",
              "      <td>2</td>\n",
              "    </tr>\n",
              "    <tr>\n",
              "      <th>27</th>\n",
              "      <td>1</td>\n",
              "      <td>1</td>\n",
              "    </tr>\n",
              "    <tr>\n",
              "      <th>28</th>\n",
              "      <td>2</td>\n",
              "      <td>1</td>\n",
              "    </tr>\n",
              "    <tr>\n",
              "      <th>29</th>\n",
              "      <td>1</td>\n",
              "      <td>3</td>\n",
              "    </tr>\n",
              "    <tr>\n",
              "      <th>30</th>\n",
              "      <td>2</td>\n",
              "      <td>2</td>\n",
              "    </tr>\n",
              "    <tr>\n",
              "      <th>31</th>\n",
              "      <td>1</td>\n",
              "      <td>2</td>\n",
              "    </tr>\n",
              "  </tbody>\n",
              "</table>\n",
              "</div>\n",
              "      <button class=\"colab-df-convert\" onclick=\"convertToInteractive('df-24e960ec-8d8f-4f22-9dd8-3b651a535223')\"\n",
              "              title=\"Convert this dataframe to an interactive table.\"\n",
              "              style=\"display:none;\">\n",
              "        \n",
              "  <svg xmlns=\"http://www.w3.org/2000/svg\" height=\"24px\"viewBox=\"0 0 24 24\"\n",
              "       width=\"24px\">\n",
              "    <path d=\"M0 0h24v24H0V0z\" fill=\"none\"/>\n",
              "    <path d=\"M18.56 5.44l.94 2.06.94-2.06 2.06-.94-2.06-.94-.94-2.06-.94 2.06-2.06.94zm-11 1L8.5 8.5l.94-2.06 2.06-.94-2.06-.94L8.5 2.5l-.94 2.06-2.06.94zm10 10l.94 2.06.94-2.06 2.06-.94-2.06-.94-.94-2.06-.94 2.06-2.06.94z\"/><path d=\"M17.41 7.96l-1.37-1.37c-.4-.4-.92-.59-1.43-.59-.52 0-1.04.2-1.43.59L10.3 9.45l-7.72 7.72c-.78.78-.78 2.05 0 2.83L4 21.41c.39.39.9.59 1.41.59.51 0 1.02-.2 1.41-.59l7.78-7.78 2.81-2.81c.8-.78.8-2.07 0-2.86zM5.41 20L4 18.59l7.72-7.72 1.47 1.35L5.41 20z\"/>\n",
              "  </svg>\n",
              "      </button>\n",
              "      \n",
              "  <style>\n",
              "    .colab-df-container {\n",
              "      display:flex;\n",
              "      flex-wrap:wrap;\n",
              "      gap: 12px;\n",
              "    }\n",
              "\n",
              "    .colab-df-convert {\n",
              "      background-color: #E8F0FE;\n",
              "      border: none;\n",
              "      border-radius: 50%;\n",
              "      cursor: pointer;\n",
              "      display: none;\n",
              "      fill: #1967D2;\n",
              "      height: 32px;\n",
              "      padding: 0 0 0 0;\n",
              "      width: 32px;\n",
              "    }\n",
              "\n",
              "    .colab-df-convert:hover {\n",
              "      background-color: #E2EBFA;\n",
              "      box-shadow: 0px 1px 2px rgba(60, 64, 67, 0.3), 0px 1px 3px 1px rgba(60, 64, 67, 0.15);\n",
              "      fill: #174EA6;\n",
              "    }\n",
              "\n",
              "    [theme=dark] .colab-df-convert {\n",
              "      background-color: #3B4455;\n",
              "      fill: #D2E3FC;\n",
              "    }\n",
              "\n",
              "    [theme=dark] .colab-df-convert:hover {\n",
              "      background-color: #434B5C;\n",
              "      box-shadow: 0px 1px 3px 1px rgba(0, 0, 0, 0.15);\n",
              "      filter: drop-shadow(0px 1px 2px rgba(0, 0, 0, 0.3));\n",
              "      fill: #FFFFFF;\n",
              "    }\n",
              "  </style>\n",
              "\n",
              "      <script>\n",
              "        const buttonEl =\n",
              "          document.querySelector('#df-24e960ec-8d8f-4f22-9dd8-3b651a535223 button.colab-df-convert');\n",
              "        buttonEl.style.display =\n",
              "          google.colab.kernel.accessAllowed ? 'block' : 'none';\n",
              "\n",
              "        async function convertToInteractive(key) {\n",
              "          const element = document.querySelector('#df-24e960ec-8d8f-4f22-9dd8-3b651a535223');\n",
              "          const dataTable =\n",
              "            await google.colab.kernel.invokeFunction('convertToInteractive',\n",
              "                                                     [key], {});\n",
              "          if (!dataTable) return;\n",
              "\n",
              "          const docLinkHtml = 'Like what you see? Visit the ' +\n",
              "            '<a target=\"_blank\" href=https://colab.research.google.com/notebooks/data_table.ipynb>data table notebook</a>'\n",
              "            + ' to learn more about interactive tables.';\n",
              "          element.innerHTML = '';\n",
              "          dataTable['output_type'] = 'display_data';\n",
              "          await google.colab.output.renderOutput(dataTable, element);\n",
              "          const docLink = document.createElement('div');\n",
              "          docLink.innerHTML = docLinkHtml;\n",
              "          element.appendChild(docLink);\n",
              "        }\n",
              "      </script>\n",
              "    </div>\n",
              "  </div>\n",
              "  "
            ]
          },
          "metadata": {},
          "execution_count": 236
        }
      ]
    },
    {
      "cell_type": "markdown",
      "source": [
        "## 4. Menentukan Objek Data\n",
        "tidak masuk dalam soal"
      ],
      "metadata": {
        "id": "sEsQy3umOmEs"
      }
    },
    {
      "cell_type": "markdown",
      "source": [
        "## 5. Membersihkan Data\n",
        "Strategi pembersihan data :\n",
        "- Memperbaiki nilai yang hilang\n",
        "- Menghapus data yang duplicate\n",
        "- Cek fitur yang bernilai konstant"
      ],
      "metadata": {
        "id": "LnNg29XEOvBE"
      }
    },
    {
      "cell_type": "code",
      "source": [
        "from numpy.matrixlib.defmatrix import matrix\n",
        "# memperbaiki nilai yang hilang\n",
        "md = df.columns[df.isnull().any()].tolist()\n",
        "missingno.matrix(df[md])"
      ],
      "metadata": {
        "colab": {
          "base_uri": "https://localhost:8080/",
          "height": 657
        },
        "id": "p9lx41PeOO5N",
        "outputId": "7754b93d-cd1d-4f2d-8200-4f1216bfae51"
      },
      "execution_count": null,
      "outputs": [
        {
          "output_type": "execute_result",
          "data": {
            "text/plain": [
              "<matplotlib.axes._subplots.AxesSubplot at 0x7fcc8597f160>"
            ]
          },
          "metadata": {},
          "execution_count": 237
        },
        {
          "output_type": "display_data",
          "data": {
            "text/plain": [
              "<Figure size 1800x720 with 2 Axes>"
            ],
            "image/png": "[encoded data removed]"
          },
          "metadata": {}
        }
      ]
    },
    {
      "cell_type": "code",
      "source": [
        "# memperbaiki nilai yang hilang dengan nilai rata-rata (median) => fillna : untuk mengisi nilai yang kosong\n",
        "mv = df['fitur4'].median()\n",
        "df['fitur4'] = df['fitur4'].fillna(mv)"
      ],
      "metadata": {
        "id": "XW0Rah2RP2Et"
      },
      "execution_count": null,
      "outputs": []
    },
    {
      "cell_type": "code",
      "source": [
        "mev = df['fitur38'].median()\n",
        "df['fitur38'] = df['fitur38'].fillna(mev)"
      ],
      "metadata": {
        "id": "UCRotbBFvu2D"
      },
      "execution_count": null,
      "outputs": []
    },
    {
      "cell_type": "code",
      "source": [
        "# melihat kembali prosentasi dari nilai kosong (NaN) untuk fitur 4 dan fitur 38 setelah dibersihkan\n",
        "df.loc[:,list(df.loc[:,df.isnull().any()].columns)].isnull().sum()/(len(df))*100"
      ],
      "metadata": {
        "colab": {
          "base_uri": "https://localhost:8080/"
        },
        "id": "B2MJX9lPwhPE",
        "outputId": "922989e3-5a39-4add-b1a2-d78cf816f1ed"
      },
      "execution_count": null,
      "outputs": [
        {
          "output_type": "execute_result",
          "data": {
            "text/plain": [
              "Series([], dtype: float64)"
            ]
          },
          "metadata": {},
          "execution_count": 240
        }
      ]
    },
    {
      "cell_type": "code",
      "source": [
        "# Menghapus Data Duplikat\n",
        "# Melihat ukuran baris dan kolom dataframe\n",
        "df.shape"
      ],
      "metadata": {
        "colab": {
          "base_uri": "https://localhost:8080/"
        },
        "id": "M4OEJmdlySpb",
        "outputId": "c66aa2c8-4577-4303-e8bd-d1fa01890a86"
      },
      "execution_count": null,
      "outputs": [
        {
          "output_type": "execute_result",
          "data": {
            "text/plain": [
              "(32, 57)"
            ]
          },
          "metadata": {},
          "execution_count": 241
        }
      ]
    },
    {
      "cell_type": "code",
      "source": [
        "# Menghapus Data Duplikat dan melihat kembali ukuran baris & kolom dataframe\n",
        "df = df.drop_duplicates()\n",
        "df.shape"
      ],
      "metadata": {
        "colab": {
          "base_uri": "https://localhost:8080/"
        },
        "id": "kkUcuPc_yopx",
        "outputId": "ce10c192-121e-4ab9-df66-91139deb4f39"
      },
      "execution_count": null,
      "outputs": [
        {
          "output_type": "execute_result",
          "data": {
            "text/plain": [
              "(32, 57)"
            ]
          },
          "metadata": {},
          "execution_count": 242
        }
      ]
    },
    {
      "cell_type": "markdown",
      "source": [
        "**Kesimpulan** : Tidak ada data yang sama"
      ],
      "metadata": {
        "id": "4S7NBOJZzIkh"
      }
    },
    {
      "cell_type": "code",
      "source": [
        "# Menghapus fitur yang bernilai konstant\n",
        "df = df.loc[:, df.apply(pd.Series.nunique) !=1]"
      ],
      "metadata": {
        "id": "1US-97fPytky"
      },
      "execution_count": null,
      "outputs": []
    },
    {
      "cell_type": "code",
      "source": [
        "df.shape"
      ],
      "metadata": {
        "colab": {
          "base_uri": "https://localhost:8080/"
        },
        "id": "graHMyeIzjEb",
        "outputId": "b4087db0-a209-4378-bb8a-8eebcc5299e5"
      },
      "execution_count": null,
      "outputs": [
        {
          "output_type": "execute_result",
          "data": {
            "text/plain": [
              "(32, 57)"
            ]
          },
          "metadata": {},
          "execution_count": 244
        }
      ]
    },
    {
      "cell_type": "markdown",
      "source": [
        "**Kesimpulan** : Tidak ada fitut yang bernilai konstant"
      ],
      "metadata": {
        "id": "j4nQxuFMzmfy"
      }
    },
    {
      "cell_type": "markdown",
      "source": [
        "### 6. Mengkonstruksi Data\n",
        "terdiri dari :\n",
        "- Representasi fitur dan merubah tipenya. \n",
        "- Membagi data menjadi training dan testing. \n",
        "- Membandingkan Data Original, Data Normalisasi, Data Original PCA, Data Normalisasi PCA."
      ],
      "metadata": {
        "id": "zDG99roQ0Af7"
      }
    },
    {
      "cell_type": "code",
      "source": [
        "# mengecheck representasi fitur\n",
        "df.info()"
      ],
      "metadata": {
        "colab": {
          "base_uri": "https://localhost:8080/"
        },
        "id": "ZGdGPG6mzkd5",
        "outputId": "da76718a-f660-448b-bd3a-344a2762b46d"
      },
      "execution_count": null,
      "outputs": [
        {
          "output_type": "stream",
          "name": "stdout",
          "text": [
            "<class 'pandas.core.frame.DataFrame'>\n",
            "Int64Index: 32 entries, 0 to 31\n",
            "Data columns (total 57 columns):\n",
            " #   Column   Non-Null Count  Dtype \n",
            "---  ------   --------------  ----- \n",
            " 0   Class    32 non-null     int64 \n",
            " 1   fitur1   32 non-null     int64 \n",
            " 2   fitur2   32 non-null     int64 \n",
            " 3   fitur3   32 non-null     int64 \n",
            " 4   fitur4   32 non-null     object\n",
            " 5   fitur5   32 non-null     int64 \n",
            " 6   fitur6   32 non-null     int64 \n",
            " 7   fitur7   32 non-null     int64 \n",
            " 8   fitur8   32 non-null     int64 \n",
            " 9   fitur9   32 non-null     int64 \n",
            " 10  fitur10  32 non-null     int64 \n",
            " 11  fitur11  32 non-null     int64 \n",
            " 12  fitur12  32 non-null     int64 \n",
            " 13  fitur13  32 non-null     int64 \n",
            " 14  fitur14  32 non-null     int64 \n",
            " 15  fitur15  32 non-null     int64 \n",
            " 16  fitur16  32 non-null     int64 \n",
            " 17  fitur17  32 non-null     int64 \n",
            " 18  fitur18  32 non-null     int64 \n",
            " 19  fitur19  32 non-null     int64 \n",
            " 20  fitur20  32 non-null     int64 \n",
            " 21  fitur21  32 non-null     int64 \n",
            " 22  fitur22  32 non-null     int64 \n",
            " 23  fitur23  32 non-null     int64 \n",
            " 24  fitur24  32 non-null     int64 \n",
            " 25  fitur25  32 non-null     int64 \n",
            " 26  fitur26  32 non-null     int64 \n",
            " 27  fitur27  32 non-null     int64 \n",
            " 28  fitur28  32 non-null     int64 \n",
            " 29  fitur29  32 non-null     int64 \n",
            " 30  fitur30  32 non-null     int64 \n",
            " 31  fitur31  32 non-null     int64 \n",
            " 32  fitur32  32 non-null     int64 \n",
            " 33  fitur33  32 non-null     int64 \n",
            " 34  fitur34  32 non-null     int64 \n",
            " 35  fitur35  32 non-null     int64 \n",
            " 36  fitur36  32 non-null     int64 \n",
            " 37  fitur37  32 non-null     int64 \n",
            " 38  fitur38  32 non-null     object\n",
            " 39  fitur39  32 non-null     int64 \n",
            " 40  fitur40  32 non-null     int64 \n",
            " 41  fitur41  32 non-null     int64 \n",
            " 42  fitur42  32 non-null     int64 \n",
            " 43  fitur43  32 non-null     int64 \n",
            " 44  fitur44  32 non-null     int64 \n",
            " 45  fitur45  32 non-null     int64 \n",
            " 46  fitur46  32 non-null     int64 \n",
            " 47  fitur47  32 non-null     int64 \n",
            " 48  fitur48  32 non-null     int64 \n",
            " 49  fitur49  32 non-null     int64 \n",
            " 50  fitur50  32 non-null     int64 \n",
            " 51  fitur51  32 non-null     int64 \n",
            " 52  fitur52  32 non-null     int64 \n",
            " 53  fitur53  32 non-null     int64 \n",
            " 54  fitur54  32 non-null     int64 \n",
            " 55  fitur55  32 non-null     int64 \n",
            " 56  fitur56  32 non-null     int64 \n",
            "dtypes: int64(55), object(2)\n",
            "memory usage: 14.5+ KB\n"
          ]
        }
      ]
    },
    {
      "cell_type": "code",
      "source": [
        "# mengubah data yang bertipe object menjadi int64\n",
        "df[\"fitur38\"] = df[\"fitur38\"].astype('int64')\n",
        "df[\"fitur4\"] = df[\"fitur4\"].astype('int64')"
      ],
      "metadata": {
        "id": "oQpJ1pKq0aU6"
      },
      "execution_count": null,
      "outputs": []
    },
    {
      "cell_type": "code",
      "source": [
        "# cek kembali representasi fitur\n",
        "df.info()"
      ],
      "metadata": {
        "colab": {
          "base_uri": "https://localhost:8080/"
        },
        "id": "Z24X5B5j0nnq",
        "outputId": "bcb932e7-e1a2-4bb0-efe0-14e1ae8b6ab5"
      },
      "execution_count": null,
      "outputs": [
        {
          "output_type": "stream",
          "name": "stdout",
          "text": [
            "<class 'pandas.core.frame.DataFrame'>\n",
            "Int64Index: 32 entries, 0 to 31\n",
            "Data columns (total 57 columns):\n",
            " #   Column   Non-Null Count  Dtype\n",
            "---  ------   --------------  -----\n",
            " 0   Class    32 non-null     int64\n",
            " 1   fitur1   32 non-null     int64\n",
            " 2   fitur2   32 non-null     int64\n",
            " 3   fitur3   32 non-null     int64\n",
            " 4   fitur4   32 non-null     int64\n",
            " 5   fitur5   32 non-null     int64\n",
            " 6   fitur6   32 non-null     int64\n",
            " 7   fitur7   32 non-null     int64\n",
            " 8   fitur8   32 non-null     int64\n",
            " 9   fitur9   32 non-null     int64\n",
            " 10  fitur10  32 non-null     int64\n",
            " 11  fitur11  32 non-null     int64\n",
            " 12  fitur12  32 non-null     int64\n",
            " 13  fitur13  32 non-null     int64\n",
            " 14  fitur14  32 non-null     int64\n",
            " 15  fitur15  32 non-null     int64\n",
            " 16  fitur16  32 non-null     int64\n",
            " 17  fitur17  32 non-null     int64\n",
            " 18  fitur18  32 non-null     int64\n",
            " 19  fitur19  32 non-null     int64\n",
            " 20  fitur20  32 non-null     int64\n",
            " 21  fitur21  32 non-null     int64\n",
            " 22  fitur22  32 non-null     int64\n",
            " 23  fitur23  32 non-null     int64\n",
            " 24  fitur24  32 non-null     int64\n",
            " 25  fitur25  32 non-null     int64\n",
            " 26  fitur26  32 non-null     int64\n",
            " 27  fitur27  32 non-null     int64\n",
            " 28  fitur28  32 non-null     int64\n",
            " 29  fitur29  32 non-null     int64\n",
            " 30  fitur30  32 non-null     int64\n",
            " 31  fitur31  32 non-null     int64\n",
            " 32  fitur32  32 non-null     int64\n",
            " 33  fitur33  32 non-null     int64\n",
            " 34  fitur34  32 non-null     int64\n",
            " 35  fitur35  32 non-null     int64\n",
            " 36  fitur36  32 non-null     int64\n",
            " 37  fitur37  32 non-null     int64\n",
            " 38  fitur38  32 non-null     int64\n",
            " 39  fitur39  32 non-null     int64\n",
            " 40  fitur40  32 non-null     int64\n",
            " 41  fitur41  32 non-null     int64\n",
            " 42  fitur42  32 non-null     int64\n",
            " 43  fitur43  32 non-null     int64\n",
            " 44  fitur44  32 non-null     int64\n",
            " 45  fitur45  32 non-null     int64\n",
            " 46  fitur46  32 non-null     int64\n",
            " 47  fitur47  32 non-null     int64\n",
            " 48  fitur48  32 non-null     int64\n",
            " 49  fitur49  32 non-null     int64\n",
            " 50  fitur50  32 non-null     int64\n",
            " 51  fitur51  32 non-null     int64\n",
            " 52  fitur52  32 non-null     int64\n",
            " 53  fitur53  32 non-null     int64\n",
            " 54  fitur54  32 non-null     int64\n",
            " 55  fitur55  32 non-null     int64\n",
            " 56  fitur56  32 non-null     int64\n",
            "dtypes: int64(57)\n",
            "memory usage: 14.5 KB\n"
          ]
        }
      ]
    },
    {
      "cell_type": "code",
      "source": [
        "# Membagi Training dan Testing\n",
        "X = df.iloc[:,1:57]\n",
        "y = df['Class']"
      ],
      "metadata": {
        "id": "RtBQvMG-0wv6"
      },
      "execution_count": null,
      "outputs": []
    },
    {
      "cell_type": "code",
      "source": [
        "# menampilkan X\n",
        "X.head()"
      ],
      "metadata": {
        "colab": {
          "base_uri": "https://localhost:8080/",
          "height": 236
        },
        "id": "058SnyU_03Jx",
        "outputId": "c8e63c88-d0b9-439a-eb05-5168efde47e1"
      },
      "execution_count": null,
      "outputs": [
        {
          "output_type": "execute_result",
          "data": {
            "text/plain": [
              "   fitur1  fitur2  fitur3  fitur4  fitur5  fitur6  fitur7  fitur8  fitur9  \\\n",
              "0       0       3       0       1       0       2       2       2       1   \n",
              "1       0       3       3       1       0       3       1       3       1   \n",
              "2       0       3       3       2       0       3       3       3       1   \n",
              "3       0       2       3       2       1       3       3       3       1   \n",
              "4       0       3       2       1       1       3       3       3       2   \n",
              "\n",
              "   fitur10  ...  fitur47  fitur48  fitur49  fitur50  fitur51  fitur52  \\\n",
              "0        1  ...        2        2        2        2        2        1   \n",
              "1        1  ...        2        2        2        2        2        2   \n",
              "2        1  ...        2        2        2        2        2        2   \n",
              "3        2  ...        2        2        2        2        2        2   \n",
              "4        2  ...        2        2        2        2        2        2   \n",
              "\n",
              "   fitur53  fitur54  fitur55  fitur56  \n",
              "0        1        1        2        2  \n",
              "1        2        1        2        2  \n",
              "2        2        2        1        2  \n",
              "3        2        2        2        2  \n",
              "4        2        1        2        2  \n",
              "\n",
              "[5 rows x 56 columns]"
            ],
            "text/html": [
              "\n",
              "  <div id=\"df-0e66834c-98d9-4f63-a621-0c0b5e8060f2\">\n",
              "    <div class=\"colab-df-container\">\n",
              "      <div>\n",
              "<style scoped>\n",
              "    .dataframe tbody tr th:only-of-type {\n",
              "        vertical-align: middle;\n",
              "    }\n",
              "\n",
              "    .dataframe tbody tr th {\n",
              "        vertical-align: top;\n",
              "    }\n",
              "\n",
              "    .dataframe thead th {\n",
              "        text-align: right;\n",
              "    }\n",
              "</style>\n",
              "<table border=\"1\" class=\"dataframe\">\n",
              "  <thead>\n",
              "    <tr style=\"text-align: right;\">\n",
              "      <th></th>\n",
              "      <th>fitur1</th>\n",
              "      <th>fitur2</th>\n",
              "      <th>fitur3</th>\n",
              "      <th>fitur4</th>\n",
              "      <th>fitur5</th>\n",
              "      <th>fitur6</th>\n",
              "      <th>fitur7</th>\n",
              "      <th>fitur8</th>\n",
              "      <th>fitur9</th>\n",
              "      <th>fitur10</th>\n",
              "      <th>...</th>\n",
              "      <th>fitur47</th>\n",
              "      <th>fitur48</th>\n",
              "      <th>fitur49</th>\n",
              "      <th>fitur50</th>\n",
              "      <th>fitur51</th>\n",
              "      <th>fitur52</th>\n",
              "      <th>fitur53</th>\n",
              "      <th>fitur54</th>\n",
              "      <th>fitur55</th>\n",
              "      <th>fitur56</th>\n",
              "    </tr>\n",
              "  </thead>\n",
              "  <tbody>\n",
              "    <tr>\n",
              "      <th>0</th>\n",
              "      <td>0</td>\n",
              "      <td>3</td>\n",
              "      <td>0</td>\n",
              "      <td>1</td>\n",
              "      <td>0</td>\n",
              "      <td>2</td>\n",
              "      <td>2</td>\n",
              "      <td>2</td>\n",
              "      <td>1</td>\n",
              "      <td>1</td>\n",
              "      <td>...</td>\n",
              "      <td>2</td>\n",
              "      <td>2</td>\n",
              "      <td>2</td>\n",
              "      <td>2</td>\n",
              "      <td>2</td>\n",
              "      <td>1</td>\n",
              "      <td>1</td>\n",
              "      <td>1</td>\n",
              "      <td>2</td>\n",
              "      <td>2</td>\n",
              "    </tr>\n",
              "    <tr>\n",
              "      <th>1</th>\n",
              "      <td>0</td>\n",
              "      <td>3</td>\n",
              "      <td>3</td>\n",
              "      <td>1</td>\n",
              "      <td>0</td>\n",
              "      <td>3</td>\n",
              "      <td>1</td>\n",
              "      <td>3</td>\n",
              "      <td>1</td>\n",
              "      <td>1</td>\n",
              "      <td>...</td>\n",
              "      <td>2</td>\n",
              "      <td>2</td>\n",
              "      <td>2</td>\n",
              "      <td>2</td>\n",
              "      <td>2</td>\n",
              "      <td>2</td>\n",
              "      <td>2</td>\n",
              "      <td>1</td>\n",
              "      <td>2</td>\n",
              "      <td>2</td>\n",
              "    </tr>\n",
              "    <tr>\n",
              "      <th>2</th>\n",
              "      <td>0</td>\n",
              "      <td>3</td>\n",
              "      <td>3</td>\n",
              "      <td>2</td>\n",
              "      <td>0</td>\n",
              "      <td>3</td>\n",
              "      <td>3</td>\n",
              "      <td>3</td>\n",
              "      <td>1</td>\n",
              "      <td>1</td>\n",
              "      <td>...</td>\n",
              "      <td>2</td>\n",
              "      <td>2</td>\n",
              "      <td>2</td>\n",
              "      <td>2</td>\n",
              "      <td>2</td>\n",
              "      <td>2</td>\n",
              "      <td>2</td>\n",
              "      <td>2</td>\n",
              "      <td>1</td>\n",
              "      <td>2</td>\n",
              "    </tr>\n",
              "    <tr>\n",
              "      <th>3</th>\n",
              "      <td>0</td>\n",
              "      <td>2</td>\n",
              "      <td>3</td>\n",
              "      <td>2</td>\n",
              "      <td>1</td>\n",
              "      <td>3</td>\n",
              "      <td>3</td>\n",
              "      <td>3</td>\n",
              "      <td>1</td>\n",
              "      <td>2</td>\n",
              "      <td>...</td>\n",
              "      <td>2</td>\n",
              "      <td>2</td>\n",
              "      <td>2</td>\n",
              "      <td>2</td>\n",
              "      <td>2</td>\n",
              "      <td>2</td>\n",
              "      <td>2</td>\n",
              "      <td>2</td>\n",
              "      <td>2</td>\n",
              "      <td>2</td>\n",
              "    </tr>\n",
              "    <tr>\n",
              "      <th>4</th>\n",
              "      <td>0</td>\n",
              "      <td>3</td>\n",
              "      <td>2</td>\n",
              "      <td>1</td>\n",
              "      <td>1</td>\n",
              "      <td>3</td>\n",
              "      <td>3</td>\n",
              "      <td>3</td>\n",
              "      <td>2</td>\n",
              "      <td>2</td>\n",
              "      <td>...</td>\n",
              "      <td>2</td>\n",
              "      <td>2</td>\n",
              "      <td>2</td>\n",
              "      <td>2</td>\n",
              "      <td>2</td>\n",
              "      <td>2</td>\n",
              "      <td>2</td>\n",
              "      <td>1</td>\n",
              "      <td>2</td>\n",
              "      <td>2</td>\n",
              "    </tr>\n",
              "  </tbody>\n",
              "</table>\n",
              "<p>5 rows × 56 columns</p>\n",
              "</div>\n",
              "      <button class=\"colab-df-convert\" onclick=\"convertToInteractive('df-0e66834c-98d9-4f63-a621-0c0b5e8060f2')\"\n",
              "              title=\"Convert this dataframe to an interactive table.\"\n",
              "              style=\"display:none;\">\n",
              "        \n",
              "  <svg xmlns=\"http://www.w3.org/2000/svg\" height=\"24px\"viewBox=\"0 0 24 24\"\n",
              "       width=\"24px\">\n",
              "    <path d=\"M0 0h24v24H0V0z\" fill=\"none\"/>\n",
              "    <path d=\"M18.56 5.44l.94 2.06.94-2.06 2.06-.94-2.06-.94-.94-2.06-.94 2.06-2.06.94zm-11 1L8.5 8.5l.94-2.06 2.06-.94-2.06-.94L8.5 2.5l-.94 2.06-2.06.94zm10 10l.94 2.06.94-2.06 2.06-.94-2.06-.94-.94-2.06-.94 2.06-2.06.94z\"/><path d=\"M17.41 7.96l-1.37-1.37c-.4-.4-.92-.59-1.43-.59-.52 0-1.04.2-1.43.59L10.3 9.45l-7.72 7.72c-.78.78-.78 2.05 0 2.83L4 21.41c.39.39.9.59 1.41.59.51 0 1.02-.2 1.41-.59l7.78-7.78 2.81-2.81c.8-.78.8-2.07 0-2.86zM5.41 20L4 18.59l7.72-7.72 1.47 1.35L5.41 20z\"/>\n",
              "  </svg>\n",
              "      </button>\n",
              "      \n",
              "  <style>\n",
              "    .colab-df-container {\n",
              "      display:flex;\n",
              "      flex-wrap:wrap;\n",
              "      gap: 12px;\n",
              "    }\n",
              "\n",
              "    .colab-df-convert {\n",
              "      background-color: #E8F0FE;\n",
              "      border: none;\n",
              "      border-radius: 50%;\n",
              "      cursor: pointer;\n",
              "      display: none;\n",
              "      fill: #1967D2;\n",
              "      height: 32px;\n",
              "      padding: 0 0 0 0;\n",
              "      width: 32px;\n",
              "    }\n",
              "\n",
              "    .colab-df-convert:hover {\n",
              "      background-color: #E2EBFA;\n",
              "      box-shadow: 0px 1px 2px rgba(60, 64, 67, 0.3), 0px 1px 3px 1px rgba(60, 64, 67, 0.15);\n",
              "      fill: #174EA6;\n",
              "    }\n",
              "\n",
              "    [theme=dark] .colab-df-convert {\n",
              "      background-color: #3B4455;\n",
              "      fill: #D2E3FC;\n",
              "    }\n",
              "\n",
              "    [theme=dark] .colab-df-convert:hover {\n",
              "      background-color: #434B5C;\n",
              "      box-shadow: 0px 1px 3px 1px rgba(0, 0, 0, 0.15);\n",
              "      filter: drop-shadow(0px 1px 2px rgba(0, 0, 0, 0.3));\n",
              "      fill: #FFFFFF;\n",
              "    }\n",
              "  </style>\n",
              "\n",
              "      <script>\n",
              "        const buttonEl =\n",
              "          document.querySelector('#df-0e66834c-98d9-4f63-a621-0c0b5e8060f2 button.colab-df-convert');\n",
              "        buttonEl.style.display =\n",
              "          google.colab.kernel.accessAllowed ? 'block' : 'none';\n",
              "\n",
              "        async function convertToInteractive(key) {\n",
              "          const element = document.querySelector('#df-0e66834c-98d9-4f63-a621-0c0b5e8060f2');\n",
              "          const dataTable =\n",
              "            await google.colab.kernel.invokeFunction('convertToInteractive',\n",
              "                                                     [key], {});\n",
              "          if (!dataTable) return;\n",
              "\n",
              "          const docLinkHtml = 'Like what you see? Visit the ' +\n",
              "            '<a target=\"_blank\" href=https://colab.research.google.com/notebooks/data_table.ipynb>data table notebook</a>'\n",
              "            + ' to learn more about interactive tables.';\n",
              "          element.innerHTML = '';\n",
              "          dataTable['output_type'] = 'display_data';\n",
              "          await google.colab.output.renderOutput(dataTable, element);\n",
              "          const docLink = document.createElement('div');\n",
              "          docLink.innerHTML = docLinkHtml;\n",
              "          element.appendChild(docLink);\n",
              "        }\n",
              "      </script>\n",
              "    </div>\n",
              "  </div>\n",
              "  "
            ]
          },
          "metadata": {},
          "execution_count": 249
        }
      ]
    },
    {
      "cell_type": "code",
      "source": [
        "# menampilkan y\n",
        "y.head()"
      ],
      "metadata": {
        "colab": {
          "base_uri": "https://localhost:8080/"
        },
        "id": "zEmUi45h08e5",
        "outputId": "e3cb244a-06ea-43dd-f62d-3cc1cb4b7a65"
      },
      "execution_count": null,
      "outputs": [
        {
          "output_type": "execute_result",
          "data": {
            "text/plain": [
              "0    1\n",
              "1    1\n",
              "2    1\n",
              "3    1\n",
              "4    1\n",
              "Name: Class, dtype: int64"
            ]
          },
          "metadata": {},
          "execution_count": 250
        }
      ]
    },
    {
      "cell_type": "markdown",
      "source": [
        "### Data Original"
      ],
      "metadata": {
        "id": "u31loIBW1Cv6"
      }
    },
    {
      "cell_type": "code",
      "source": [
        "# membagi data menjadi training = 70% dan testing = 30%\n",
        "X_train, X_test, Y_train, Y_test = train_test_split(X,y, test_size=0.3, random_state=2022)"
      ],
      "metadata": {
        "id": "wScQdNiQ1Ajh"
      },
      "execution_count": null,
      "outputs": []
    },
    {
      "cell_type": "code",
      "source": [
        "# Menampilkan Data\n",
        "X_train.head()"
      ],
      "metadata": {
        "colab": {
          "base_uri": "https://localhost:8080/",
          "height": 236
        },
        "id": "yDO1Ta5X1Kyx",
        "outputId": "2196afbc-fbb5-4f5b-8d55-aa8491cfa09c"
      },
      "execution_count": null,
      "outputs": [
        {
          "output_type": "execute_result",
          "data": {
            "text/plain": [
              "    fitur1  fitur2  fitur3  fitur4  fitur5  fitur6  fitur7  fitur8  fitur9  \\\n",
              "10       0       2       2       0       0       3       2       3       1   \n",
              "15       0       3       2       2       1       2       2       2       1   \n",
              "26       0       2       2       2       0       2       1       2       1   \n",
              "6        0       3       2       1       0       3       3       3       1   \n",
              "3        0       2       3       2       1       3       3       3       1   \n",
              "\n",
              "    fitur10  ...  fitur47  fitur48  fitur49  fitur50  fitur51  fitur52  \\\n",
              "10        1  ...        2        2        2        2        2        2   \n",
              "15        1  ...        2        2        2        2        2        2   \n",
              "26        1  ...        2        2        2        2        2        2   \n",
              "6         2  ...        2        2        2        2        1        2   \n",
              "3         2  ...        2        2        2        2        2        2   \n",
              "\n",
              "    fitur53  fitur54  fitur55  fitur56  \n",
              "10        2        2        2        2  \n",
              "15        2        2        2        2  \n",
              "26        2        1        2        1  \n",
              "6         2        2        1        2  \n",
              "3         2        2        2        2  \n",
              "\n",
              "[5 rows x 56 columns]"
            ],
            "text/html": [
              "\n",
              "  <div id=\"df-0348b64b-aed9-44a1-a6b9-771f1596a9c0\">\n",
              "    <div class=\"colab-df-container\">\n",
              "      <div>\n",
              "<style scoped>\n",
              "    .dataframe tbody tr th:only-of-type {\n",
              "        vertical-align: middle;\n",
              "    }\n",
              "\n",
              "    .dataframe tbody tr th {\n",
              "        vertical-align: top;\n",
              "    }\n",
              "\n",
              "    .dataframe thead th {\n",
              "        text-align: right;\n",
              "    }\n",
              "</style>\n",
              "<table border=\"1\" class=\"dataframe\">\n",
              "  <thead>\n",
              "    <tr style=\"text-align: right;\">\n",
              "      <th></th>\n",
              "      <th>fitur1</th>\n",
              "      <th>fitur2</th>\n",
              "      <th>fitur3</th>\n",
              "      <th>fitur4</th>\n",
              "      <th>fitur5</th>\n",
              "      <th>fitur6</th>\n",
              "      <th>fitur7</th>\n",
              "      <th>fitur8</th>\n",
              "      <th>fitur9</th>\n",
              "      <th>fitur10</th>\n",
              "      <th>...</th>\n",
              "      <th>fitur47</th>\n",
              "      <th>fitur48</th>\n",
              "      <th>fitur49</th>\n",
              "      <th>fitur50</th>\n",
              "      <th>fitur51</th>\n",
              "      <th>fitur52</th>\n",
              "      <th>fitur53</th>\n",
              "      <th>fitur54</th>\n",
              "      <th>fitur55</th>\n",
              "      <th>fitur56</th>\n",
              "    </tr>\n",
              "  </thead>\n",
              "  <tbody>\n",
              "    <tr>\n",
              "      <th>10</th>\n",
              "      <td>0</td>\n",
              "      <td>2</td>\n",
              "      <td>2</td>\n",
              "      <td>0</td>\n",
              "      <td>0</td>\n",
              "      <td>3</td>\n",
              "      <td>2</td>\n",
              "      <td>3</td>\n",
              "      <td>1</td>\n",
              "      <td>1</td>\n",
              "      <td>...</td>\n",
              "      <td>2</td>\n",
              "      <td>2</td>\n",
              "      <td>2</td>\n",
              "      <td>2</td>\n",
              "      <td>2</td>\n",
              "      <td>2</td>\n",
              "      <td>2</td>\n",
              "      <td>2</td>\n",
              "      <td>2</td>\n",
              "      <td>2</td>\n",
              "    </tr>\n",
              "    <tr>\n",
              "      <th>15</th>\n",
              "      <td>0</td>\n",
              "      <td>3</td>\n",
              "      <td>2</td>\n",
              "      <td>2</td>\n",
              "      <td>1</td>\n",
              "      <td>2</td>\n",
              "      <td>2</td>\n",
              "      <td>2</td>\n",
              "      <td>1</td>\n",
              "      <td>1</td>\n",
              "      <td>...</td>\n",
              "      <td>2</td>\n",
              "      <td>2</td>\n",
              "      <td>2</td>\n",
              "      <td>2</td>\n",
              "      <td>2</td>\n",
              "      <td>2</td>\n",
              "      <td>2</td>\n",
              "      <td>2</td>\n",
              "      <td>2</td>\n",
              "      <td>2</td>\n",
              "    </tr>\n",
              "    <tr>\n",
              "      <th>26</th>\n",
              "      <td>0</td>\n",
              "      <td>2</td>\n",
              "      <td>2</td>\n",
              "      <td>2</td>\n",
              "      <td>0</td>\n",
              "      <td>2</td>\n",
              "      <td>1</td>\n",
              "      <td>2</td>\n",
              "      <td>1</td>\n",
              "      <td>1</td>\n",
              "      <td>...</td>\n",
              "      <td>2</td>\n",
              "      <td>2</td>\n",
              "      <td>2</td>\n",
              "      <td>2</td>\n",
              "      <td>2</td>\n",
              "      <td>2</td>\n",
              "      <td>2</td>\n",
              "      <td>1</td>\n",
              "      <td>2</td>\n",
              "      <td>1</td>\n",
              "    </tr>\n",
              "    <tr>\n",
              "      <th>6</th>\n",
              "      <td>0</td>\n",
              "      <td>3</td>\n",
              "      <td>2</td>\n",
              "      <td>1</td>\n",
              "      <td>0</td>\n",
              "      <td>3</td>\n",
              "      <td>3</td>\n",
              "      <td>3</td>\n",
              "      <td>1</td>\n",
              "      <td>2</td>\n",
              "      <td>...</td>\n",
              "      <td>2</td>\n",
              "      <td>2</td>\n",
              "      <td>2</td>\n",
              "      <td>2</td>\n",
              "      <td>1</td>\n",
              "      <td>2</td>\n",
              "      <td>2</td>\n",
              "      <td>2</td>\n",
              "      <td>1</td>\n",
              "      <td>2</td>\n",
              "    </tr>\n",
              "    <tr>\n",
              "      <th>3</th>\n",
              "      <td>0</td>\n",
              "      <td>2</td>\n",
              "      <td>3</td>\n",
              "      <td>2</td>\n",
              "      <td>1</td>\n",
              "      <td>3</td>\n",
              "      <td>3</td>\n",
              "      <td>3</td>\n",
              "      <td>1</td>\n",
              "      <td>2</td>\n",
              "      <td>...</td>\n",
              "      <td>2</td>\n",
              "      <td>2</td>\n",
              "      <td>2</td>\n",
              "      <td>2</td>\n",
              "      <td>2</td>\n",
              "      <td>2</td>\n",
              "      <td>2</td>\n",
              "      <td>2</td>\n",
              "      <td>2</td>\n",
              "      <td>2</td>\n",
              "    </tr>\n",
              "  </tbody>\n",
              "</table>\n",
              "<p>5 rows × 56 columns</p>\n",
              "</div>\n",
              "      <button class=\"colab-df-convert\" onclick=\"convertToInteractive('df-0348b64b-aed9-44a1-a6b9-771f1596a9c0')\"\n",
              "              title=\"Convert this dataframe to an interactive table.\"\n",
              "              style=\"display:none;\">\n",
              "        \n",
              "  <svg xmlns=\"http://www.w3.org/2000/svg\" height=\"24px\"viewBox=\"0 0 24 24\"\n",
              "       width=\"24px\">\n",
              "    <path d=\"M0 0h24v24H0V0z\" fill=\"none\"/>\n",
              "    <path d=\"M18.56 5.44l.94 2.06.94-2.06 2.06-.94-2.06-.94-.94-2.06-.94 2.06-2.06.94zm-11 1L8.5 8.5l.94-2.06 2.06-.94-2.06-.94L8.5 2.5l-.94 2.06-2.06.94zm10 10l.94 2.06.94-2.06 2.06-.94-2.06-.94-.94-2.06-.94 2.06-2.06.94z\"/><path d=\"M17.41 7.96l-1.37-1.37c-.4-.4-.92-.59-1.43-.59-.52 0-1.04.2-1.43.59L10.3 9.45l-7.72 7.72c-.78.78-.78 2.05 0 2.83L4 21.41c.39.39.9.59 1.41.59.51 0 1.02-.2 1.41-.59l7.78-7.78 2.81-2.81c.8-.78.8-2.07 0-2.86zM5.41 20L4 18.59l7.72-7.72 1.47 1.35L5.41 20z\"/>\n",
              "  </svg>\n",
              "      </button>\n",
              "      \n",
              "  <style>\n",
              "    .colab-df-container {\n",
              "      display:flex;\n",
              "      flex-wrap:wrap;\n",
              "      gap: 12px;\n",
              "    }\n",
              "\n",
              "    .colab-df-convert {\n",
              "      background-color: #E8F0FE;\n",
              "      border: none;\n",
              "      border-radius: 50%;\n",
              "      cursor: pointer;\n",
              "      display: none;\n",
              "      fill: #1967D2;\n",
              "      height: 32px;\n",
              "      padding: 0 0 0 0;\n",
              "      width: 32px;\n",
              "    }\n",
              "\n",
              "    .colab-df-convert:hover {\n",
              "      background-color: #E2EBFA;\n",
              "      box-shadow: 0px 1px 2px rgba(60, 64, 67, 0.3), 0px 1px 3px 1px rgba(60, 64, 67, 0.15);\n",
              "      fill: #174EA6;\n",
              "    }\n",
              "\n",
              "    [theme=dark] .colab-df-convert {\n",
              "      background-color: #3B4455;\n",
              "      fill: #D2E3FC;\n",
              "    }\n",
              "\n",
              "    [theme=dark] .colab-df-convert:hover {\n",
              "      background-color: #434B5C;\n",
              "      box-shadow: 0px 1px 3px 1px rgba(0, 0, 0, 0.15);\n",
              "      filter: drop-shadow(0px 1px 2px rgba(0, 0, 0, 0.3));\n",
              "      fill: #FFFFFF;\n",
              "    }\n",
              "  </style>\n",
              "\n",
              "      <script>\n",
              "        const buttonEl =\n",
              "          document.querySelector('#df-0348b64b-aed9-44a1-a6b9-771f1596a9c0 button.colab-df-convert');\n",
              "        buttonEl.style.display =\n",
              "          google.colab.kernel.accessAllowed ? 'block' : 'none';\n",
              "\n",
              "        async function convertToInteractive(key) {\n",
              "          const element = document.querySelector('#df-0348b64b-aed9-44a1-a6b9-771f1596a9c0');\n",
              "          const dataTable =\n",
              "            await google.colab.kernel.invokeFunction('convertToInteractive',\n",
              "                                                     [key], {});\n",
              "          if (!dataTable) return;\n",
              "\n",
              "          const docLinkHtml = 'Like what you see? Visit the ' +\n",
              "            '<a target=\"_blank\" href=https://colab.research.google.com/notebooks/data_table.ipynb>data table notebook</a>'\n",
              "            + ' to learn more about interactive tables.';\n",
              "          element.innerHTML = '';\n",
              "          dataTable['output_type'] = 'display_data';\n",
              "          await google.colab.output.renderOutput(dataTable, element);\n",
              "          const docLink = document.createElement('div');\n",
              "          docLink.innerHTML = docLinkHtml;\n",
              "          element.appendChild(docLink);\n",
              "        }\n",
              "      </script>\n",
              "    </div>\n",
              "  </div>\n",
              "  "
            ]
          },
          "metadata": {},
          "execution_count": 252
        }
      ]
    },
    {
      "cell_type": "markdown",
      "source": [
        "### Data Normaliasi"
      ],
      "metadata": {
        "id": "G4KCGKw-1PNS"
      }
    },
    {
      "cell_type": "code",
      "source": [
        "# Normalisasi menggunakan StandardScaler\n",
        "scaler = StandardScaler().fit_transform(X)"
      ],
      "metadata": {
        "id": "_jKfMj-A1Nnh"
      },
      "execution_count": null,
      "outputs": []
    },
    {
      "cell_type": "code",
      "source": [
        "# Melihat hasil normalisasi dengan StandardScaler\n",
        "scaler"
      ],
      "metadata": {
        "colab": {
          "base_uri": "https://localhost:8080/"
        },
        "id": "zF5UDhxT1Ydi",
        "outputId": "19705a37-be60-49fa-b046-e2cd956227bc"
      },
      "execution_count": null,
      "outputs": [
        {
          "output_type": "execute_result",
          "data": {
            "text/plain": [
              "array([[-0.1796053 ,  1.14707867, -2.00118448, ..., -1.13389342,\n",
              "         0.48038446,  0.62554324],\n",
              "       [-0.1796053 ,  1.14707867,  0.95441106, ..., -1.13389342,\n",
              "         0.48038446,  0.62554324],\n",
              "       [-0.1796053 ,  1.14707867,  0.95441106, ...,  0.8819171 ,\n",
              "        -2.081666  ,  0.62554324],\n",
              "       ...,\n",
              "       [-0.1796053 , -0.6882472 , -1.01598597, ...,  0.8819171 ,\n",
              "         0.48038446, -1.59861051],\n",
              "       [-0.1796053 , -0.6882472 ,  0.95441106, ..., -1.13389342,\n",
              "         0.48038446,  0.62554324],\n",
              "       [-0.1796053 , -0.6882472 ,  0.95441106, ...,  0.8819171 ,\n",
              "         0.48038446,  0.62554324]])"
            ]
          },
          "metadata": {},
          "execution_count": 254
        }
      ]
    },
    {
      "cell_type": "code",
      "source": [
        "X_train_scal, X_test_scal, Y_train_scal, Y_test_scal = train_test_split(scaler,y, test_size=0.3, random_state=2022)"
      ],
      "metadata": {
        "id": "k8rdTV4H1iDD"
      },
      "execution_count": null,
      "outputs": []
    },
    {
      "cell_type": "markdown",
      "source": [
        "### Data Original PCA"
      ],
      "metadata": {
        "id": "DJWCRh1C2AdB"
      }
    },
    {
      "cell_type": "code",
      "source": [
        "pca = PCA(random_state=2022)\n",
        "pca.fit(X)\n",
        "ori_pca_array = pca.transform(X)\n",
        "ori_pca = pd.DataFrame(ori_pca_array)\n",
        "print(\"Heads of Original_PCA:\",ori_pca.head())\n",
        "var_ratio = pca.explained_variance_ratio_\n",
        "print(\"\\n Explained Variance Ratio:\",var_ratio)\n",
        "sv = pca.singular_values_\n",
        "print(\"\\n Singular Value:\",sv)"
      ],
      "metadata": {
        "colab": {
          "base_uri": "https://localhost:8080/"
        },
        "id": "ysgIk4hc1r8p",
        "outputId": "fea51f40-970a-4437-cfe6-6017830e0433"
      },
      "execution_count": null,
      "outputs": [
        {
          "output_type": "stream",
          "name": "stdout",
          "text": [
            "Heads of Original_PCA:          0         1         2         3         4         5         6   \\\n",
            "0 -1.057646  2.260422 -1.985713 -0.023184 -0.771633 -0.695836  0.125112   \n",
            "1 -2.031824  1.281974  1.597589 -1.688171  0.754078  0.411962  0.874224   \n",
            "2 -1.601070 -1.522187  0.904781  0.490203 -0.237550 -1.095035 -1.915412   \n",
            "3 -0.841556 -1.738084  0.484309  2.097076  1.255459 -1.088126 -1.547277   \n",
            "4 -1.464877  0.901017  1.088615  0.745350  1.286815  1.848524  0.612184   \n",
            "\n",
            "         7         8         9   ...        22        23        24        25  \\\n",
            "0 -0.905445  0.047716  0.917133  ... -0.428479  0.279299 -0.337633 -0.071038   \n",
            "1  0.978529 -0.735173  0.922356  ...  0.684697  0.374345 -0.275613  0.235054   \n",
            "2  0.810770 -0.881391 -0.402055  ...  0.282514 -0.292853 -0.377844 -0.128548   \n",
            "3  0.459730  0.186126 -0.014296  ...  0.096951  0.030326  0.369293 -0.492249   \n",
            "4 -0.359838  0.014906  0.601446  ...  0.014950  0.401673  0.375134 -0.050496   \n",
            "\n",
            "         26        27        28        29        30            31  \n",
            "0  0.047716 -0.373385  0.182484 -0.228307  0.137464  2.064321e-16  \n",
            "1 -0.372581  0.394584 -0.017866  0.012183  0.125652 -4.180684e-16  \n",
            "2  0.510381  0.205862  0.450720 -0.058445 -0.090446  1.462372e-15  \n",
            "3 -0.245298 -0.243987  0.082018 -0.009426  0.025997  3.521489e-16  \n",
            "4  0.653336 -0.282278 -0.193095  0.030040 -0.139313  1.524822e-15  \n",
            "\n",
            "[5 rows x 32 columns]\n",
            "\n",
            " Explained Variance Ratio: [1.59340820e-01 1.15545204e-01 8.37241357e-02 7.99730640e-02\n",
            " 7.48752279e-02 6.02951663e-02 5.77545494e-02 4.70180486e-02\n",
            " 4.37853618e-02 3.29522026e-02 2.84865300e-02 2.67094410e-02\n",
            " 2.36439057e-02 2.27978334e-02 2.07310441e-02 1.94444377e-02\n",
            " 1.70558373e-02 1.35482229e-02 1.21711803e-02 1.11304870e-02\n",
            " 9.76008622e-03 8.36352494e-03 7.30735596e-03 6.05033188e-03\n",
            " 4.79826311e-03 3.80892034e-03 2.78308867e-03 2.58517145e-03\n",
            " 1.74318947e-03 1.11621291e-03 7.01155862e-04 1.17609660e-33]\n",
            "\n",
            " Singular Value: [1.00403170e+01 8.54987693e+00 7.27795285e+00 7.11304849e+00\n",
            " 6.88260713e+00 6.17625403e+00 6.04473131e+00 5.45401342e+00\n",
            " 5.26318181e+00 4.56589716e+00 4.24525397e+00 4.11070490e+00\n",
            " 3.86761745e+00 3.79778775e+00 3.62155003e+00 3.50737010e+00\n",
            " 3.28488692e+00 2.92768985e+00 2.77491861e+00 2.65363376e+00\n",
            " 2.48491037e+00 2.30026875e+00 2.15012660e+00 1.95647138e+00\n",
            " 1.74231201e+00 1.55233284e+00 1.32692820e+00 1.27887641e+00\n",
            " 1.05016175e+00 8.40344614e-01 6.66026004e-01 8.62591947e-16]\n"
          ]
        }
      ]
    },
    {
      "cell_type": "code",
      "source": [
        "# Visualisasi Data Original PCA\n",
        "cum_var_ratio = np.cumsum(var_ratio)"
      ],
      "metadata": {
        "id": "zFRszk1Q2LCT"
      },
      "execution_count": null,
      "outputs": []
    },
    {
      "cell_type": "code",
      "source": [
        "plt.figure(figsize=(10, 5))\n",
        "plt.bar(range(len(var_ratio)),var_ratio,alpha=0.3333,align='center',label='individual explained variance',color = 'g')\n",
        "plt.step(range(len(cum_var_ratio)),cum_var_ratio,where='mid',label='cumulative explained variance')\n",
        "\n",
        "plt.ylabel('Explained variance ratio')\n",
        "plt.xlabel('Principal components')\n",
        "plt.legend(loc='best')\n",
        "plt.show()\n",
        "print(\"Cumulative explained ratio:\",cum_var_ratio)"
      ],
      "metadata": {
        "colab": {
          "base_uri": "https://localhost:8080/",
          "height": 453
        },
        "id": "qYlFY6Si2dXJ",
        "outputId": "cb287af9-3dd6-4105-bd0a-e45b32260547"
      },
      "execution_count": null,
      "outputs": [
        {
          "output_type": "display_data",
          "data": {
            "text/plain": [
              "<Figure size 720x360 with 1 Axes>"
            ],
            "image/png": "[encoded data removed]"
          },
          "metadata": {}
        },
        {
          "output_type": "stream",
          "name": "stdout",
          "text": [
            "Cumulative explained ratio: [0.15934082 0.27488602 0.35861016 0.43858322 0.51345845 0.57375362\n",
            " 0.63150817 0.67852622 0.72231158 0.75526378 0.78375031 0.81045975\n",
            " 0.83410366 0.85690149 0.87763253 0.89707697 0.91413281 0.92768103\n",
            " 0.93985221 0.9509827  0.96074279 0.96910631 0.97641367 0.982464\n",
            " 0.98726226 0.99107118 0.99385427 0.99643944 0.99818263 0.99929884\n",
            " 1.         1.        ]\n"
          ]
        }
      ]
    },
    {
      "cell_type": "code",
      "source": [
        "# Dipilih 18 PC\n",
        "pca = PCA(n_components=18, random_state=2022)\n",
        "pca.fit(X)\n",
        "ori_pca_array = pca.transform(X)\n",
        "ori_pca = pd.DataFrame(data=ori_pca_array, columns = ['PC1', 'PC2','PC3','PC4','PC5','PC6','PC7','PC8','PC9','PC10','PC11','PC12','PC13','PC14','PC15','PC16','PC17','PC18'])"
      ],
      "metadata": {
        "id": "emhqIXFO2gSJ"
      },
      "execution_count": null,
      "outputs": []
    },
    {
      "cell_type": "code",
      "source": [
        "X_train_pca, X_test_pca, Y_train_pca, Y_test_pca = train_test_split(ori_pca,y, test_size=0.3, random_state=2022)"
      ],
      "metadata": {
        "id": "yfkBj4cg2sby"
      },
      "execution_count": null,
      "outputs": []
    },
    {
      "cell_type": "markdown",
      "source": [
        "### Data Normalisasi PCA"
      ],
      "metadata": {
        "id": "2jdOnV-o2wix"
      }
    },
    {
      "cell_type": "code",
      "source": [
        "pca = PCA(random_state=2022)\n",
        "pca.fit(scaler)\n",
        "norm_pca_array = pca.transform(scaler)\n",
        "norm_pca = pd.DataFrame(norm_pca_array)\n",
        "print(\"Heads of iris_pca:\",norm_pca.head())\n",
        "var_ratio = pca.explained_variance_ratio_\n",
        "print(\"\\n Explained variance ratio:\",var_ratio)\n",
        "sv = pca.singular_values_\n",
        "print(\"\\n Singular Value:\",sv)"
      ],
      "metadata": {
        "colab": {
          "base_uri": "https://localhost:8080/"
        },
        "id": "NSlvidsx20hZ",
        "outputId": "b53a649a-e9e0-474b-d5d3-fa116c6ab5b3"
      },
      "execution_count": null,
      "outputs": [
        {
          "output_type": "stream",
          "name": "stdout",
          "text": [
            "Heads of iris_pca:          0         1         2         3         4         5         6   \\\n",
            "0 -1.875112 -1.074126 -3.114162 -0.202740 -1.578644  0.472907 -0.306629   \n",
            "1 -2.228485 -3.085196 -0.355241  0.321562  0.962612  1.183493  1.933027   \n",
            "2 -2.045345 -0.560281  2.529009  1.166134 -1.090708 -2.418340 -2.856828   \n",
            "3 -1.232962  0.268831  1.314142 -1.177625  0.699316 -4.038767 -1.566536   \n",
            "4 -1.185845 -1.218255  0.987464 -2.566320  0.910664  0.388925  1.540951   \n",
            "\n",
            "         7         8         9   ...        22        23        24        25  \\\n",
            "0  0.744336  0.034727  0.193626  ...  0.801308 -0.131015 -0.279103 -0.296633   \n",
            "1 -2.332710 -1.001260  0.199715  ...  1.362424 -0.451698 -0.856956  0.210401   \n",
            "2 -1.527885 -0.540103 -1.621999  ...  0.367649  0.574592 -0.423554  0.428521   \n",
            "3  1.393874  0.537139  1.077903  ...  0.977745 -0.977776  0.341032  0.467428   \n",
            "4 -1.405633  0.411415  2.363635  ... -0.411097 -1.176693 -0.084704 -0.818883   \n",
            "\n",
            "         26        27        28        29        30            31  \n",
            "0 -0.428839 -0.254632  0.844160  0.390232  0.060895  4.152731e-16  \n",
            "1  1.026224 -0.251100 -0.037227  0.141975  0.322947  5.818066e-16  \n",
            "2 -0.155165  0.913248  0.696061 -0.399670 -0.352887 -1.259606e-16  \n",
            "3 -0.872812 -0.542995  0.129540  0.013835  0.029897  6.858900e-16  \n",
            "4 -0.774030  0.915883 -0.362863 -0.000356 -0.193487 -1.060533e-18  \n",
            "\n",
            "[5 rows x 32 columns]\n",
            "\n",
            " Explained variance ratio: [1.53555200e-01 1.07668083e-01 8.27175332e-02 6.67599663e-02\n",
            " 6.24522141e-02 5.95944999e-02 4.88180764e-02 4.62321248e-02\n",
            " 4.19658843e-02 3.95327207e-02 3.28863410e-02 3.09141143e-02\n",
            " 3.00563481e-02 2.74616704e-02 2.27737930e-02 2.07076923e-02\n",
            " 1.83656504e-02 1.73420209e-02 1.60759913e-02 1.51078353e-02\n",
            " 1.24068633e-02 9.22526292e-03 7.89227700e-03 7.06051006e-03\n",
            " 5.51630276e-03 4.55485247e-03 4.16030906e-03 3.02118815e-03\n",
            " 2.28881167e-03 1.74516688e-03 1.14069605e-03 3.02834235e-32]\n",
            "\n",
            " Singular Value: [1.65882765e+01 1.38903278e+01 1.21749669e+01 1.09377264e+01\n",
            " 1.05789587e+01 1.03340865e+01 9.35318090e+00 9.10208590e+00\n",
            " 8.67195853e+00 8.41680672e+00 7.67673909e+00 7.44298950e+00\n",
            " 7.33900373e+00 7.01507758e+00 6.38832036e+00 6.09164876e+00\n",
            " 5.73683236e+00 5.57466604e+00 5.36732489e+00 5.20319526e+00\n",
            " 4.71519873e+00 4.06591578e+00 3.76071275e+00 3.55702601e+00\n",
            " 3.14407610e+00 2.85697316e+00 2.73043473e+00 2.32679375e+00\n",
            " 2.02522851e+00 1.76842841e+00 1.42972981e+00 7.36667461e-15]\n"
          ]
        }
      ]
    },
    {
      "cell_type": "code",
      "source": [
        "# Visualisasi Data Normalisasi PCA\n",
        "cum_var_ratio = np.cumsum(var_ratio)\n",
        "\n",
        "plt.figure(figsize=(10, 5))\n",
        "plt.bar(range(len(var_ratio)),var_ratio,alpha=0.3333,align='center',\n",
        "label='individual explained variance',color = 'g')\n",
        "plt.step(range(len(cum_var_ratio)),cum_var_ratio,where='mid',\n",
        "label='cumulative explained variance')\n",
        "\n",
        "plt.ylabel('Explained variance ratio')\n",
        "plt.xlabel('Principal components')\n",
        "plt.legend(loc='best')\n",
        "plt.show()\n",
        "print(\"Cumulative explained ratio:\",cum_var_ratio)"
      ],
      "metadata": {
        "colab": {
          "base_uri": "https://localhost:8080/",
          "height": 453
        },
        "id": "y2s0vXqr225h",
        "outputId": "1a31f6fe-6d54-4ff4-d913-04b2edc6ebd1"
      },
      "execution_count": null,
      "outputs": [
        {
          "output_type": "display_data",
          "data": {
            "text/plain": [
              "<Figure size 720x360 with 1 Axes>"
            ],
            "image/png": "[encoded data removed]"
          },
          "metadata": {}
        },
        {
          "output_type": "stream",
          "name": "stdout",
          "text": [
            "Cumulative explained ratio: [0.1535552  0.26122328 0.34394082 0.41070078 0.473153   0.5327475\n",
            " 0.58156557 0.6277977  0.66976358 0.7092963  0.74218264 0.77309676\n",
            " 0.80315311 0.83061478 0.85338857 0.87409626 0.89246191 0.90980393\n",
            " 0.92587992 0.94098776 0.95339462 0.96261989 0.97051216 0.97757267\n",
            " 0.98308898 0.98764383 0.99180414 0.99482533 0.99711414 0.9988593\n",
            " 1.         1.        ]\n"
          ]
        }
      ]
    },
    {
      "cell_type": "code",
      "source": [
        "# Dipilih 18 PC\n",
        "pca = PCA(n_components=18, random_state=2022)\n",
        "pca.fit(scaler)\n",
        "norm_pca_array = pca.transform(scaler)\n",
        "norm_pca = pd.DataFrame(data=norm_pca_array, columns = ['PC1', 'PC2','PC3','PC4','PC5','PC6','PC7','PC8','PC9','PC10','PC11','PC12','PC13','PC14','PC15','PC16','PC17','PC18'])"
      ],
      "metadata": {
        "id": "bCR9HLPl3f-T"
      },
      "execution_count": null,
      "outputs": []
    },
    {
      "cell_type": "code",
      "source": [
        "X_train_norm_pca, X_test_norm_pca, Y_train_norm_pca, Y_test_norm_pca = train_test_split(norm_pca,y, test_size=0.3, random_state=2022)"
      ],
      "metadata": {
        "id": "h50-pF2J4B-R"
      },
      "execution_count": null,
      "outputs": []
    },
    {
      "cell_type": "markdown",
      "source": [
        "### 7. Menentukan Label Data\n",
        "\n",
        "- Tidak perlu dikerjakan karena label sudah diputuskan dibagian transformasi data. \n",
        "- Merupakan Soal Tertulis."
      ],
      "metadata": {
        "id": "2AeRFis14Gn5"
      }
    },
    {
      "cell_type": "markdown",
      "source": [
        "### 8. Membangun Model\n",
        "\n",
        "- Teknik Pemodelan yang dipakai: Menggunakan Decision Tree Parameter yang dipakai:\n",
        "        - [criterion: gini, entropy]\n",
        "        - [max_depth]\n",
        "        - [min sample split]\n",
        "        - [min sample leaf]\n",
        "- Skenario Pengujian\n",
        "        - Menggunakan akurasi, presisi dan recall\n",
        "        - Pengujian menggunakan Data Original\n",
        "        - Pengujian menggunakan Data yang sudah dinormalisasi\n",
        "        - Pengujian menggunakan Data Original yang diberikan PCA\n",
        "        - Pengujian menggunakan Data yang sudah dinormalisasi dan diberikan PCA"
      ],
      "metadata": {
        "id": "2Lsuc6py4aRx"
      }
    },
    {
      "cell_type": "markdown",
      "source": [
        "### Decision Tree"
      ],
      "metadata": {
        "id": "UNHCE6QE5_xZ"
      }
    },
    {
      "cell_type": "code",
      "source": [
        "# menyiapkan parameter yang digunakan\n",
        "parameters_dt = {\n",
        "\"model__max_depth\": np.arange(1,21),\n",
        "\"model__min_samples_leaf\": np.arange(1,101,2),\n",
        "\"model__min_samples_split\": np.arange(2,11),\n",
        "\"model__criterion\": ['gini','entropy'],\n",
        "\"model__random_state\": [2022]\n",
        "}"
      ],
      "metadata": {
        "id": "R-kpfidU4LTR"
      },
      "execution_count": null,
      "outputs": []
    },
    {
      "cell_type": "markdown",
      "source": [
        "### Pemodelan Decision Tree"
      ],
      "metadata": {
        "id": "dQKMJrCb6kaB"
      }
    },
    {
      "cell_type": "code",
      "source": [
        "# Pemodelan Decision Tree\n",
        "classifier_dt_pipeline = Pipeline([('model',DecisionTreeClassifier()),])"
      ],
      "metadata": {
        "id": "WTa5YTc16Es5"
      },
      "execution_count": null,
      "outputs": []
    },
    {
      "cell_type": "code",
      "source": [
        "from sklearn.ensemble import RandomForestClassifier\n",
        "# pemodelan random forest\n",
        "clf = RandomForestClassifier(n_estimators=10)"
      ],
      "metadata": {
        "id": "QM0ELLYWOei2"
      },
      "execution_count": null,
      "outputs": []
    },
    {
      "cell_type": "code",
      "source": [
        "clf.fit(X_train,Y_train.ravel())"
      ],
      "metadata": {
        "colab": {
          "base_uri": "https://localhost:8080/"
        },
        "id": "4eX_aoqZUke1",
        "outputId": "7a4856d2-d562-4034-b228-0c2618ab8717"
      },
      "execution_count": null,
      "outputs": [
        {
          "output_type": "execute_result",
          "data": {
            "text/plain": [
              "RandomForestClassifier(n_estimators=10)"
            ]
          },
          "metadata": {},
          "execution_count": 297
        }
      ]
    },
    {
      "cell_type": "markdown",
      "source": [
        "### Pemodelan dengan Data Original"
      ],
      "metadata": {
        "id": "9gmiSTFt7CaZ"
      }
    },
    {
      "cell_type": "code",
      "source": [
        "ori_classifier_dt = GridSearchCV(classifier_dt_pipeline, parameters_dt, cv=3, n_jobs=-1)"
      ],
      "metadata": {
        "id": "cPlRSErv_UWo"
      },
      "execution_count": null,
      "outputs": []
    },
    {
      "cell_type": "code",
      "source": [
        "ori_classifier_dt.fit(X_train,Y_train.ravel())"
      ],
      "metadata": {
        "colab": {
          "base_uri": "https://localhost:8080/"
        },
        "id": "Bc4rchr8_ewq",
        "outputId": "5d532a50-a6d9-4486-f543-10851d4c4986"
      },
      "execution_count": null,
      "outputs": [
        {
          "output_type": "execute_result",
          "data": {
            "text/plain": [
              "GridSearchCV(cv=3,\n",
              "             estimator=Pipeline(steps=[('model', DecisionTreeClassifier())]),\n",
              "             n_jobs=-1,\n",
              "             param_grid={'model__criterion': ['gini', 'entropy'],\n",
              "                         'model__max_depth': array([ 1,  2,  3,  4,  5,  6,  7,  8,  9, 10, 11, 12, 13, 14, 15, 16, 17,\n",
              "       18, 19, 20]),\n",
              "                         'model__min_samples_leaf': array([ 1,  3,  5,  7,  9, 11, 13, 15, 17, 19, 21, 23, 25, 27, 29, 31, 33,\n",
              "       35, 37, 39, 41, 43, 45, 47, 49, 51, 53, 55, 57, 59, 61, 63, 65, 67,\n",
              "       69, 71, 73, 75, 77, 79, 81, 83, 85, 87, 89, 91, 93, 95, 97, 99]),\n",
              "                         'model__min_samples_split': array([ 2,  3,  4,  5,  6,  7,  8,  9, 10]),\n",
              "                         'model__random_state': [2022]})"
            ]
          },
          "metadata": {},
          "execution_count": 269
        }
      ]
    },
    {
      "cell_type": "code",
      "source": [
        "ori_classifier_dt.best_estimator_"
      ],
      "metadata": {
        "colab": {
          "base_uri": "https://localhost:8080/"
        },
        "id": "zRWxhQ8n7Nvo",
        "outputId": "e9fe9291-f5aa-4a1e-e727-0ad3fc8ea113"
      },
      "execution_count": null,
      "outputs": [
        {
          "output_type": "execute_result",
          "data": {
            "text/plain": [
              "Pipeline(steps=[('model',\n",
              "                 DecisionTreeClassifier(max_depth=1, random_state=2022))])"
            ]
          },
          "metadata": {},
          "execution_count": 270
        }
      ]
    },
    {
      "cell_type": "code",
      "source": [
        "for param_name in sorted(parameters_dt.keys()):\n",
        "  print('%s: %r' %(param_name,ori_classifier_dt.best_params_[param_name]))"
      ],
      "metadata": {
        "colab": {
          "base_uri": "https://localhost:8080/"
        },
        "id": "PcST9D4UFSF3",
        "outputId": "2a048287-8c78-4ec2-e2cc-2d1164ee4e0f"
      },
      "execution_count": null,
      "outputs": [
        {
          "output_type": "stream",
          "name": "stdout",
          "text": [
            "model__criterion: 'gini'\n",
            "model__max_depth: 1\n",
            "model__min_samples_leaf: 1\n",
            "model__min_samples_split: 2\n",
            "model__random_state: 2022\n"
          ]
        }
      ]
    },
    {
      "cell_type": "markdown",
      "source": [
        "### Pemodelan Decision Tree dengan Data Normalisasi"
      ],
      "metadata": {
        "id": "b8s2SmqS-rhQ"
      }
    },
    {
      "cell_type": "code",
      "source": [
        "norm_classifier_dt = GridSearchCV(classifier_dt_pipeline, parameters_dt, cv=3, n_jobs=-1)"
      ],
      "metadata": {
        "id": "mvmh1DWQ7x1q"
      },
      "execution_count": null,
      "outputs": []
    },
    {
      "cell_type": "code",
      "source": [
        "norm_classifier_dt.fit(X_train_scal,Y_train_scal.ravel())"
      ],
      "metadata": {
        "colab": {
          "base_uri": "https://localhost:8080/"
        },
        "id": "kV9YuYCp-343",
        "outputId": "cd990e4e-02bd-42c7-cf1a-7de15c8f8eb0"
      },
      "execution_count": null,
      "outputs": [
        {
          "output_type": "execute_result",
          "data": {
            "text/plain": [
              "GridSearchCV(cv=3,\n",
              "             estimator=Pipeline(steps=[('model', DecisionTreeClassifier())]),\n",
              "             n_jobs=-1,\n",
              "             param_grid={'model__criterion': ['gini', 'entropy'],\n",
              "                         'model__max_depth': array([ 1,  2,  3,  4,  5,  6,  7,  8,  9, 10, 11, 12, 13, 14, 15, 16, 17,\n",
              "       18, 19, 20]),\n",
              "                         'model__min_samples_leaf': array([ 1,  3,  5,  7,  9, 11, 13, 15, 17, 19, 21, 23, 25, 27, 29, 31, 33,\n",
              "       35, 37, 39, 41, 43, 45, 47, 49, 51, 53, 55, 57, 59, 61, 63, 65, 67,\n",
              "       69, 71, 73, 75, 77, 79, 81, 83, 85, 87, 89, 91, 93, 95, 97, 99]),\n",
              "                         'model__min_samples_split': array([ 2,  3,  4,  5,  6,  7,  8,  9, 10]),\n",
              "                         'model__random_state': [2022]})"
            ]
          },
          "metadata": {},
          "execution_count": 273
        }
      ]
    },
    {
      "cell_type": "code",
      "source": [
        "norm_classifier_dt.best_estimator_"
      ],
      "metadata": {
        "colab": {
          "base_uri": "https://localhost:8080/"
        },
        "id": "OSRbRMkLGX3X",
        "outputId": "ccd3931f-e1cf-4b00-a58c-6c8314aa3c0b"
      },
      "execution_count": null,
      "outputs": [
        {
          "output_type": "execute_result",
          "data": {
            "text/plain": [
              "Pipeline(steps=[('model',\n",
              "                 DecisionTreeClassifier(max_depth=1, random_state=2022))])"
            ]
          },
          "metadata": {},
          "execution_count": 274
        }
      ]
    },
    {
      "cell_type": "code",
      "source": [
        "for param_name in sorted(parameters_dt.keys()):\n",
        "  print('%s: %r' %(param_name,norm_classifier_dt.best_params_[param_name]))"
      ],
      "metadata": {
        "colab": {
          "base_uri": "https://localhost:8080/"
        },
        "id": "ahfE6oKfGdKH",
        "outputId": "0e79cf7e-7399-409e-e27f-b783f71fe45c"
      },
      "execution_count": null,
      "outputs": [
        {
          "output_type": "stream",
          "name": "stdout",
          "text": [
            "model__criterion: 'gini'\n",
            "model__max_depth: 1\n",
            "model__min_samples_leaf: 1\n",
            "model__min_samples_split: 2\n",
            "model__random_state: 2022\n"
          ]
        }
      ]
    },
    {
      "cell_type": "markdown",
      "source": [
        "### Pemodelan Decision Tree dengan Data Original tapi diberikan PCA"
      ],
      "metadata": {
        "id": "L-IcRXMFGhsB"
      }
    },
    {
      "cell_type": "code",
      "source": [
        "ori_pca_classifier_dt = GridSearchCV(classifier_dt_pipeline, parameters_dt, cv=3, n_jobs=-1)"
      ],
      "metadata": {
        "id": "_tSdILjlGgMP"
      },
      "execution_count": null,
      "outputs": []
    },
    {
      "cell_type": "code",
      "source": [
        "ori_pca_classifier_dt.fit(X_train_pca,Y_train_pca.ravel())"
      ],
      "metadata": {
        "colab": {
          "base_uri": "https://localhost:8080/"
        },
        "id": "XbzQolfaGtaf",
        "outputId": "a6748c9a-2577-4c40-c233-737b151e028f"
      },
      "execution_count": null,
      "outputs": [
        {
          "output_type": "execute_result",
          "data": {
            "text/plain": [
              "GridSearchCV(cv=3,\n",
              "             estimator=Pipeline(steps=[('model', DecisionTreeClassifier())]),\n",
              "             n_jobs=-1,\n",
              "             param_grid={'model__criterion': ['gini', 'entropy'],\n",
              "                         'model__max_depth': array([ 1,  2,  3,  4,  5,  6,  7,  8,  9, 10, 11, 12, 13, 14, 15, 16, 17,\n",
              "       18, 19, 20]),\n",
              "                         'model__min_samples_leaf': array([ 1,  3,  5,  7,  9, 11, 13, 15, 17, 19, 21, 23, 25, 27, 29, 31, 33,\n",
              "       35, 37, 39, 41, 43, 45, 47, 49, 51, 53, 55, 57, 59, 61, 63, 65, 67,\n",
              "       69, 71, 73, 75, 77, 79, 81, 83, 85, 87, 89, 91, 93, 95, 97, 99]),\n",
              "                         'model__min_samples_split': array([ 2,  3,  4,  5,  6,  7,  8,  9, 10]),\n",
              "                         'model__random_state': [2022]})"
            ]
          },
          "metadata": {},
          "execution_count": 277
        }
      ]
    },
    {
      "cell_type": "code",
      "source": [
        "ori_pca_classifier_dt.best_estimator_"
      ],
      "metadata": {
        "colab": {
          "base_uri": "https://localhost:8080/"
        },
        "id": "0xofI9sPG5yS",
        "outputId": "67e3693a-2515-44fa-da73-ee106e907083"
      },
      "execution_count": null,
      "outputs": [
        {
          "output_type": "execute_result",
          "data": {
            "text/plain": [
              "Pipeline(steps=[('model',\n",
              "                 DecisionTreeClassifier(max_depth=1, random_state=2022))])"
            ]
          },
          "metadata": {},
          "execution_count": 278
        }
      ]
    },
    {
      "cell_type": "code",
      "source": [
        "for param_name in sorted(parameters_dt.keys()):\n",
        "  print('%s: %r' %(param_name,ori_pca_classifier_dt.best_params_[param_name]))"
      ],
      "metadata": {
        "colab": {
          "base_uri": "https://localhost:8080/"
        },
        "id": "o3AFQ8ckG9km",
        "outputId": "d1e3b1f3-24c7-4903-9efa-bb0f3deae59d"
      },
      "execution_count": null,
      "outputs": [
        {
          "output_type": "stream",
          "name": "stdout",
          "text": [
            "model__criterion: 'gini'\n",
            "model__max_depth: 1\n",
            "model__min_samples_leaf: 1\n",
            "model__min_samples_split: 2\n",
            "model__random_state: 2022\n"
          ]
        }
      ]
    },
    {
      "cell_type": "markdown",
      "source": [
        "### Pemodelan Decision Tree dengan Data Normalisasi tapi diberikan PCA"
      ],
      "metadata": {
        "id": "yJThS72KHc5o"
      }
    },
    {
      "cell_type": "code",
      "source": [
        "norm_pca_classifier_dt = GridSearchCV(classifier_dt_pipeline, parameters_dt, cv=3, n_jobs=-1)"
      ],
      "metadata": {
        "id": "zn5sEOxOHBLX"
      },
      "execution_count": null,
      "outputs": []
    },
    {
      "cell_type": "code",
      "source": [
        "norm_pca_classifier_dt.fit(X_train_norm_pca,Y_train_norm_pca.ravel())"
      ],
      "metadata": {
        "colab": {
          "base_uri": "https://localhost:8080/"
        },
        "id": "utD7Y2mUHjYJ",
        "outputId": "ce6c4683-27a7-4b97-ca8a-be845dba4193"
      },
      "execution_count": null,
      "outputs": [
        {
          "output_type": "execute_result",
          "data": {
            "text/plain": [
              "GridSearchCV(cv=3,\n",
              "             estimator=Pipeline(steps=[('model', DecisionTreeClassifier())]),\n",
              "             n_jobs=-1,\n",
              "             param_grid={'model__criterion': ['gini', 'entropy'],\n",
              "                         'model__max_depth': array([ 1,  2,  3,  4,  5,  6,  7,  8,  9, 10, 11, 12, 13, 14, 15, 16, 17,\n",
              "       18, 19, 20]),\n",
              "                         'model__min_samples_leaf': array([ 1,  3,  5,  7,  9, 11, 13, 15, 17, 19, 21, 23, 25, 27, 29, 31, 33,\n",
              "       35, 37, 39, 41, 43, 45, 47, 49, 51, 53, 55, 57, 59, 61, 63, 65, 67,\n",
              "       69, 71, 73, 75, 77, 79, 81, 83, 85, 87, 89, 91, 93, 95, 97, 99]),\n",
              "                         'model__min_samples_split': array([ 2,  3,  4,  5,  6,  7,  8,  9, 10]),\n",
              "                         'model__random_state': [2022]})"
            ]
          },
          "metadata": {},
          "execution_count": 281
        }
      ]
    },
    {
      "cell_type": "code",
      "source": [
        "norm_pca_classifier_dt.best_estimator_"
      ],
      "metadata": {
        "colab": {
          "base_uri": "https://localhost:8080/"
        },
        "id": "xk4dpbJoHu3y",
        "outputId": "b2364d64-e634-4650-9c01-746bb2a6b838"
      },
      "execution_count": null,
      "outputs": [
        {
          "output_type": "execute_result",
          "data": {
            "text/plain": [
              "Pipeline(steps=[('model',\n",
              "                 DecisionTreeClassifier(max_depth=3, random_state=2022))])"
            ]
          },
          "metadata": {},
          "execution_count": 282
        }
      ]
    },
    {
      "cell_type": "code",
      "source": [
        "for param_name in sorted(parameters_dt.keys()):\n",
        "  print('%s: %r' %(param_name,norm_pca_classifier_dt.best_params_[param_name]))"
      ],
      "metadata": {
        "colab": {
          "base_uri": "https://localhost:8080/"
        },
        "id": "9ZNo4EL_H5Tv",
        "outputId": "e91b748a-6443-4111-c38d-aeb0f485bc3a"
      },
      "execution_count": null,
      "outputs": [
        {
          "output_type": "stream",
          "name": "stdout",
          "text": [
            "model__criterion: 'gini'\n",
            "model__max_depth: 3\n",
            "model__min_samples_leaf: 1\n",
            "model__min_samples_split: 2\n",
            "model__random_state: 2022\n"
          ]
        }
      ]
    },
    {
      "cell_type": "markdown",
      "source": [
        "### 9. Mengevaluasi Hasil Pemodelan\n",
        "- Menjadi soal coding"
      ],
      "metadata": {
        "id": "CO9_pl9PH-gB"
      }
    },
    {
      "cell_type": "markdown",
      "source": [
        "### Evaluasi Dengan Data Original"
      ],
      "metadata": {
        "id": "sQXXpX1oIk7m"
      }
    },
    {
      "cell_type": "code",
      "source": [
        "ori_y_pred_dt_train = ori_classifier_dt.predict(X_train)\n",
        "ori_accuracy_dt_train = accuracy_score(Y_train,ori_y_pred_dt_train)\n",
        "print('Akurasi pada training set: ', ori_accuracy_dt_train)\n",
        "ori_precision_dt_train = precision_score(Y_train,ori_y_pred_dt_train, average='micro')\n",
        "print('Precision pada training set: ', ori_precision_dt_train)\n",
        "ori_recall_dt_train = recall_score(Y_train,ori_y_pred_dt_train, average='micro')\n",
        "print('Recall pada training set: ', ori_recall_dt_train)\n",
        "ori_y_pred_dt_test = ori_classifier_dt.predict(X_test)\n",
        "ori_accuracy_dt_test = accuracy_score(Y_test,ori_y_pred_dt_test)\n",
        "print('Akurasi pada test set: ', ori_accuracy_dt_test)\n",
        "ori_precision_dt_test = precision_score(Y_test,ori_y_pred_dt_test, average='micro')\n",
        "print('Precision pada test set: ', ori_precision_dt_test)\n",
        "ori_recall_dt_test = recall_score(Y_test,ori_y_pred_dt_test, average='micro')\n",
        "print('Recall pada test set: ', ori_recall_dt_test)"
      ],
      "metadata": {
        "colab": {
          "base_uri": "https://localhost:8080/"
        },
        "id": "Z35WGoBnH99H",
        "outputId": "5fd8a46b-2a8a-480c-821f-0105007eb6e7"
      },
      "execution_count": null,
      "outputs": [
        {
          "output_type": "stream",
          "name": "stdout",
          "text": [
            "Akurasi pada training set:  0.6363636363636364\n",
            "Precision pada training set:  0.6363636363636364\n",
            "Recall pada training set:  0.6363636363636364\n",
            "Akurasi pada test set:  0.5\n",
            "Precision pada test set:  0.5\n",
            "Recall pada test set:  0.5\n"
          ]
        }
      ]
    },
    {
      "cell_type": "code",
      "source": [
        "# Visualisasi Confusion Matrix dengan Seaborn\n",
        "sns.heatmap(confusion_matrix(Y_test,ori_y_pred_dt_test),annot=True,cmap='viridis', fmt='.0f')\n",
        "plt.xlabel('Predicted Values', fontdict={'size':14}, labelpad=10)\n",
        "plt.ylabel('Actual Values', fontdict={'size':14}, labelpad=10)\n",
        "plt.title('Confusion Matrix pada bagian testing untuk data asli')\n",
        "plt.show()"
      ],
      "metadata": {
        "colab": {
          "base_uri": "https://localhost:8080/",
          "height": 317
        },
        "id": "fO7-k1q6IaVH",
        "outputId": "af6f53eb-f536-4e3e-f85d-48798feb76f7"
      },
      "execution_count": null,
      "outputs": [
        {
          "output_type": "display_data",
          "data": {
            "text/plain": [
              "<Figure size 432x288 with 2 Axes>"
            ],
            "image/png": "[encoded data removed]"
          },
          "metadata": {}
        }
      ]
    },
    {
      "cell_type": "markdown",
      "source": [
        "### Evaluasi dengan Data Normalisasi"
      ],
      "metadata": {
        "id": "FiM0B2cWIhI3"
      }
    },
    {
      "cell_type": "code",
      "source": [
        "norm_y_pred_dt_train = norm_classifier_dt.predict(X_train_scal)\n",
        "norm_accuracy_dt_train = accuracy_score(Y_train_scal,norm_y_pred_dt_train)\n",
        "print('Akurasi pada training set: ', norm_accuracy_dt_train)\n",
        "norm_precision_dt_train = precision_score(Y_train_scal,norm_y_pred_dt_train, average='micro')\n",
        "print('Precision pada training set: ', norm_precision_dt_train)\n",
        "norm_recall_dt_train = recall_score(Y_train_scal,norm_y_pred_dt_train, average='micro')\n",
        "print('Recall pada training set: ', norm_recall_dt_train)\n",
        "norm_y_pred_dt_test = norm_classifier_dt.predict(X_test_scal)\n",
        "norm_accuracy_dt_test = accuracy_score(Y_test_scal,norm_y_pred_dt_test)\n",
        "print('Akurasi pada test set: ', norm_accuracy_dt_test)\n",
        "norm_precision_dt_test = precision_score(Y_test_scal,norm_y_pred_dt_test, average='micro')\n",
        "print('Precision pada test set: ', norm_precision_dt_test)\n",
        "norm_recall_dt_test = recall_score(Y_test_scal,norm_y_pred_dt_test, average='micro')\n",
        "print('Recall pada test set: ', norm_recall_dt_test)"
      ],
      "metadata": {
        "colab": {
          "base_uri": "https://localhost:8080/"
        },
        "id": "ND4NaEAvIcwY",
        "outputId": "67c5a93f-e7ed-4bee-eb07-4552c0cd1bf3"
      },
      "execution_count": null,
      "outputs": [
        {
          "output_type": "stream",
          "name": "stdout",
          "text": [
            "Akurasi pada training set:  0.6363636363636364\n",
            "Precision pada training set:  0.6363636363636364\n",
            "Recall pada training set:  0.6363636363636364\n",
            "Akurasi pada test set:  0.5\n",
            "Precision pada test set:  0.5\n",
            "Recall pada test set:  0.5\n"
          ]
        }
      ]
    },
    {
      "cell_type": "code",
      "source": [
        "# Visualisasi Confusion Matrix dengan Seaborn\n",
        "sns.heatmap(confusion_matrix(Y_test_scal,norm_y_pred_dt_test),annot=True,cmap='viridis', fmt='.0f')\n",
        "plt.xlabel('Predicted Values', fontdict={'size':14}, labelpad=10)\n",
        "plt.ylabel('Actual Values', fontdict={'size':14}, labelpad=10)\n",
        "plt.title('Confusion Matrix pada bagian testing untuk data asli')\n",
        "plt.show()"
      ],
      "metadata": {
        "colab": {
          "base_uri": "https://localhost:8080/",
          "height": 317
        },
        "id": "adCf2_PqIpbG",
        "outputId": "8b0bc357-2791-4c0f-d486-a2bb61844bc9"
      },
      "execution_count": null,
      "outputs": [
        {
          "output_type": "display_data",
          "data": {
            "text/plain": [
              "<Figure size 432x288 with 2 Axes>"
            ],
            "image/png": "[encoded data removed]"
          },
          "metadata": {}
        }
      ]
    },
    {
      "cell_type": "markdown",
      "source": [
        "### Evaluasi PCA dengan Data Original"
      ],
      "metadata": {
        "id": "2nDQIcycIr2e"
      }
    },
    {
      "cell_type": "code",
      "source": [
        "ori_pca_y_pred_dt_train = ori_pca_classifier_dt.predict(X_train_pca)\n",
        "ori_pca_accuracy_dt_train = accuracy_score(Y_train_pca,ori_pca_y_pred_dt_train)\n",
        "print('Akurasi pada training set: ', ori_pca_accuracy_dt_train)\n",
        "ori_pca_precision_dt_train = precision_score(Y_train_pca,ori_pca_y_pred_dt_train, average='micro')\n",
        "print('Precision pada training set: ', ori_pca_precision_dt_train)\n",
        "ori_pca_recall_dt_train = recall_score(Y_train_pca,ori_pca_y_pred_dt_train, average='micro')\n",
        "print('Recall pada training set: ', ori_pca_recall_dt_train)\n",
        "ori_pca_y_pred_dt_test = ori_pca_classifier_dt.predict(X_test_pca)\n",
        "ori_pca_accuracy_dt_test = accuracy_score(Y_test_pca,ori_pca_y_pred_dt_test)\n",
        "print('Akurasi pada test set: ', ori_pca_accuracy_dt_test)\n",
        "ori_pca_precision_dt_test = precision_score(Y_test_pca,ori_pca_y_pred_dt_test, average='micro')\n",
        "print('Precision pada test set: ', ori_pca_precision_dt_test)\n",
        "ori_pca_recall_dt_test = recall_score(Y_test_pca,ori_pca_y_pred_dt_test, average='micro')\n",
        "print('Recall pada test set: ', ori_pca_recall_dt_test)"
      ],
      "metadata": {
        "colab": {
          "base_uri": "https://localhost:8080/"
        },
        "id": "3aC0lZe-ItX4",
        "outputId": "e2ea9f16-d76a-48e2-d2ab-680320b8b9ff"
      },
      "execution_count": null,
      "outputs": [
        {
          "output_type": "stream",
          "name": "stdout",
          "text": [
            "Akurasi pada training set:  0.6363636363636364\n",
            "Precision pada training set:  0.6363636363636364\n",
            "Recall pada training set:  0.6363636363636364\n",
            "Akurasi pada test set:  0.4\n",
            "Precision pada test set:  0.4\n",
            "Recall pada test set:  0.4\n"
          ]
        }
      ]
    },
    {
      "cell_type": "code",
      "source": [
        "# Visualisasi Confusion Matrix dengan Seaborn\n",
        "sns.heatmap(confusion_matrix(Y_test_pca,ori_pca_y_pred_dt_test),annot=True,cmap='viridis', fmt='.0f')\n",
        "plt.xlabel('Predicted Values', fontdict={'size':14}, labelpad=10)\n",
        "plt.ylabel('Actual Values', fontdict={'size':14}, labelpad=10)\n",
        "plt.title('Confusion Matrix pada bagian testing untuk data asli')\n",
        "plt.show()"
      ],
      "metadata": {
        "colab": {
          "base_uri": "https://localhost:8080/",
          "height": 317
        },
        "id": "-S4I0K8mIwMo",
        "outputId": "cc76a0b6-6b61-4e43-aa51-53c741ff788a"
      },
      "execution_count": null,
      "outputs": [
        {
          "output_type": "display_data",
          "data": {
            "text/plain": [
              "<Figure size 432x288 with 2 Axes>"
            ],
            "image/png": "[encoded data removed]"
          },
          "metadata": {}
        }
      ]
    },
    {
      "cell_type": "markdown",
      "source": [
        "### Evaluasi Data Normalisasi dengan PCA"
      ],
      "metadata": {
        "id": "vxyAiOP1Iy-Z"
      }
    },
    {
      "cell_type": "code",
      "source": [
        "norm_pca_y_pred_dt_train = norm_pca_classifier_dt.predict(X_train_norm_pca)\n",
        "norm_pca_accuracy_dt_train = accuracy_score(Y_train_norm_pca,norm_pca_y_pred_dt_train)\n",
        "print('Akurasi pada training set: ', norm_pca_accuracy_dt_train)\n",
        "norm_pca_precision_dt_train = precision_score(Y_train_norm_pca,norm_pca_y_pred_dt_train, average='micro')\n",
        "print('Precision pada training set: ', norm_pca_precision_dt_train)\n",
        "norm_pca_recall_dt_train = recall_score(Y_train_norm_pca,norm_pca_y_pred_dt_train, average='micro')\n",
        "print('Recall pada training set: ', norm_pca_recall_dt_train)\n",
        "norm_pca_y_pred_dt_test = norm_pca_classifier_dt.predict(X_test_norm_pca)\n",
        "norm_pca_accuracy_dt_test = accuracy_score(Y_test_norm_pca,norm_pca_y_pred_dt_test)\n",
        "print('Akurasi pada test set: ', norm_pca_accuracy_dt_test)\n",
        "norm_pca_precision_dt_test = precision_score(Y_test_norm_pca,norm_pca_y_pred_dt_test, average='micro')\n",
        "print('Precision pada test set: ', norm_pca_precision_dt_test)\n",
        "norm_pca_recall_dt_test = recall_score(Y_test_norm_pca,norm_pca_y_pred_dt_test, average='micro')\n",
        "print('Recall pada test set: ', norm_pca_recall_dt_test)"
      ],
      "metadata": {
        "colab": {
          "base_uri": "https://localhost:8080/"
        },
        "id": "vqiPSKYKIz83",
        "outputId": "08ea1af2-c3c7-4898-d11c-34422357d622"
      },
      "execution_count": null,
      "outputs": [
        {
          "output_type": "stream",
          "name": "stdout",
          "text": [
            "Akurasi pada training set:  0.9090909090909091\n",
            "Precision pada training set:  0.9090909090909091\n",
            "Recall pada training set:  0.9090909090909091\n",
            "Akurasi pada test set:  0.6\n",
            "Precision pada test set:  0.6\n",
            "Recall pada test set:  0.6\n"
          ]
        }
      ]
    },
    {
      "cell_type": "code",
      "source": [
        "# Visualisasi Confusion Matrix dengan Seaborn\n",
        "sns.heatmap(confusion_matrix(Y_test_norm_pca,norm_pca_y_pred_dt_test),annot=True,cmap='viridis', fmt='.0f')\n",
        "plt.xlabel('Predicted Values', fontdict={'size':14}, labelpad=10)\n",
        "plt.ylabel('Actual Values', fontdict={'size':14}, labelpad=10)\n",
        "plt.title('Confusion Matrix pada bagian testing untuk data asli')\n",
        "plt.show()"
      ],
      "metadata": {
        "colab": {
          "base_uri": "https://localhost:8080/",
          "height": 317
        },
        "id": "ASIfMedoLGLW",
        "outputId": "a1bffab7-497f-44bf-8f90-e761ec29ac85"
      },
      "execution_count": null,
      "outputs": [
        {
          "output_type": "display_data",
          "data": {
            "text/plain": [
              "<Figure size 432x288 with 2 Axes>"
            ],
            "image/png": "[encoded data removed]"
          },
          "metadata": {}
        }
      ]
    },
    {
      "cell_type": "markdown",
      "source": [
        "### 10. Melakukan Proses Review Pemodelan"
      ],
      "metadata": {
        "id": "UAjBfeRsI_9O"
      }
    },
    {
      "cell_type": "code",
      "source": [
        "models = [\n",
        "('Decision Tree Data Original', ori_accuracy_dt_train, ori_accuracy_dt_test),\n",
        "('Decision Tree Data Normalisasi', norm_accuracy_dt_train, norm_accuracy_dt_test),\n",
        "('Decision Tree PCA Data Original', ori_pca_accuracy_dt_train, ori_pca_accuracy_dt_test),\n",
        "('Decision Tree PCA Data Normalisasi', norm_pca_accuracy_dt_train, norm_pca_accuracy_dt_test),\n",
        "]"
      ],
      "metadata": {
        "id": "HzyS2eQxI8No"
      },
      "execution_count": null,
      "outputs": []
    },
    {
      "cell_type": "code",
      "source": [
        "# Melakukan perbandingan hasil training akurasi dan test akurasi dengan 4 model\n",
        "predict = pd.DataFrame(data = models, columns=['Model', 'Training Accuracy', 'Test Accuracy'])\n",
        "predict"
      ],
      "metadata": {
        "colab": {
          "base_uri": "https://localhost:8080/",
          "height": 175
        },
        "id": "cjkhD8FAJLlX",
        "outputId": "3e33514d-d197-438d-a9f2-0e4679fe608a"
      },
      "execution_count": null,
      "outputs": [
        {
          "output_type": "execute_result",
          "data": {
            "text/plain": [
              "                                Model  Training Accuracy  Test Accuracy\n",
              "0         Decision Tree Data Original           0.636364            0.5\n",
              "1      Decision Tree Data Normalisasi           0.636364            0.5\n",
              "2     Decision Tree PCA Data Original           0.636364            0.4\n",
              "3  Decision Tree PCA Data Normalisasi           0.909091            0.6"
            ],
            "text/html": [
              "\n",
              "  <div id=\"df-ca42cb82-8c2e-41f8-bc2d-f985926c5c90\">\n",
              "    <div class=\"colab-df-container\">\n",
              "      <div>\n",
              "<style scoped>\n",
              "    .dataframe tbody tr th:only-of-type {\n",
              "        vertical-align: middle;\n",
              "    }\n",
              "\n",
              "    .dataframe tbody tr th {\n",
              "        vertical-align: top;\n",
              "    }\n",
              "\n",
              "    .dataframe thead th {\n",
              "        text-align: right;\n",
              "    }\n",
              "</style>\n",
              "<table border=\"1\" class=\"dataframe\">\n",
              "  <thead>\n",
              "    <tr style=\"text-align: right;\">\n",
              "      <th></th>\n",
              "      <th>Model</th>\n",
              "      <th>Training Accuracy</th>\n",
              "      <th>Test Accuracy</th>\n",
              "    </tr>\n",
              "  </thead>\n",
              "  <tbody>\n",
              "    <tr>\n",
              "      <th>0</th>\n",
              "      <td>Decision Tree Data Original</td>\n",
              "      <td>0.636364</td>\n",
              "      <td>0.5</td>\n",
              "    </tr>\n",
              "    <tr>\n",
              "      <th>1</th>\n",
              "      <td>Decision Tree Data Normalisasi</td>\n",
              "      <td>0.636364</td>\n",
              "      <td>0.5</td>\n",
              "    </tr>\n",
              "    <tr>\n",
              "      <th>2</th>\n",
              "      <td>Decision Tree PCA Data Original</td>\n",
              "      <td>0.636364</td>\n",
              "      <td>0.4</td>\n",
              "    </tr>\n",
              "    <tr>\n",
              "      <th>3</th>\n",
              "      <td>Decision Tree PCA Data Normalisasi</td>\n",
              "      <td>0.909091</td>\n",
              "      <td>0.6</td>\n",
              "    </tr>\n",
              "  </tbody>\n",
              "</table>\n",
              "</div>\n",
              "      <button class=\"colab-df-convert\" onclick=\"convertToInteractive('df-ca42cb82-8c2e-41f8-bc2d-f985926c5c90')\"\n",
              "              title=\"Convert this dataframe to an interactive table.\"\n",
              "              style=\"display:none;\">\n",
              "        \n",
              "  <svg xmlns=\"http://www.w3.org/2000/svg\" height=\"24px\"viewBox=\"0 0 24 24\"\n",
              "       width=\"24px\">\n",
              "    <path d=\"M0 0h24v24H0V0z\" fill=\"none\"/>\n",
              "    <path d=\"M18.56 5.44l.94 2.06.94-2.06 2.06-.94-2.06-.94-.94-2.06-.94 2.06-2.06.94zm-11 1L8.5 8.5l.94-2.06 2.06-.94-2.06-.94L8.5 2.5l-.94 2.06-2.06.94zm10 10l.94 2.06.94-2.06 2.06-.94-2.06-.94-.94-2.06-.94 2.06-2.06.94z\"/><path d=\"M17.41 7.96l-1.37-1.37c-.4-.4-.92-.59-1.43-.59-.52 0-1.04.2-1.43.59L10.3 9.45l-7.72 7.72c-.78.78-.78 2.05 0 2.83L4 21.41c.39.39.9.59 1.41.59.51 0 1.02-.2 1.41-.59l7.78-7.78 2.81-2.81c.8-.78.8-2.07 0-2.86zM5.41 20L4 18.59l7.72-7.72 1.47 1.35L5.41 20z\"/>\n",
              "  </svg>\n",
              "      </button>\n",
              "      \n",
              "  <style>\n",
              "    .colab-df-container {\n",
              "      display:flex;\n",
              "      flex-wrap:wrap;\n",
              "      gap: 12px;\n",
              "    }\n",
              "\n",
              "    .colab-df-convert {\n",
              "      background-color: #E8F0FE;\n",
              "      border: none;\n",
              "      border-radius: 50%;\n",
              "      cursor: pointer;\n",
              "      display: none;\n",
              "      fill: #1967D2;\n",
              "      height: 32px;\n",
              "      padding: 0 0 0 0;\n",
              "      width: 32px;\n",
              "    }\n",
              "\n",
              "    .colab-df-convert:hover {\n",
              "      background-color: #E2EBFA;\n",
              "      box-shadow: 0px 1px 2px rgba(60, 64, 67, 0.3), 0px 1px 3px 1px rgba(60, 64, 67, 0.15);\n",
              "      fill: #174EA6;\n",
              "    }\n",
              "\n",
              "    [theme=dark] .colab-df-convert {\n",
              "      background-color: #3B4455;\n",
              "      fill: #D2E3FC;\n",
              "    }\n",
              "\n",
              "    [theme=dark] .colab-df-convert:hover {\n",
              "      background-color: #434B5C;\n",
              "      box-shadow: 0px 1px 3px 1px rgba(0, 0, 0, 0.15);\n",
              "      filter: drop-shadow(0px 1px 2px rgba(0, 0, 0, 0.3));\n",
              "      fill: #FFFFFF;\n",
              "    }\n",
              "  </style>\n",
              "\n",
              "      <script>\n",
              "        const buttonEl =\n",
              "          document.querySelector('#df-ca42cb82-8c2e-41f8-bc2d-f985926c5c90 button.colab-df-convert');\n",
              "        buttonEl.style.display =\n",
              "          google.colab.kernel.accessAllowed ? 'block' : 'none';\n",
              "\n",
              "        async function convertToInteractive(key) {\n",
              "          const element = document.querySelector('#df-ca42cb82-8c2e-41f8-bc2d-f985926c5c90');\n",
              "          const dataTable =\n",
              "            await google.colab.kernel.invokeFunction('convertToInteractive',\n",
              "                                                     [key], {});\n",
              "          if (!dataTable) return;\n",
              "\n",
              "          const docLinkHtml = 'Like what you see? Visit the ' +\n",
              "            '<a target=\"_blank\" href=https://colab.research.google.com/notebooks/data_table.ipynb>data table notebook</a>'\n",
              "            + ' to learn more about interactive tables.';\n",
              "          element.innerHTML = '';\n",
              "          dataTable['output_type'] = 'display_data';\n",
              "          await google.colab.output.renderOutput(dataTable, element);\n",
              "          const docLink = document.createElement('div');\n",
              "          docLink.innerHTML = docLinkHtml;\n",
              "          element.appendChild(docLink);\n",
              "        }\n",
              "      </script>\n",
              "    </div>\n",
              "  </div>\n",
              "  "
            ]
          },
          "metadata": {},
          "execution_count": 293
        }
      ]
    },
    {
      "cell_type": "code",
      "source": [
        "models_comparison = [\n",
        "\n",
        "('Decision Tree Data Original', ori_accuracy_dt_test, ori_recall_dt_test, ori_precision_dt_test),\n",
        "('Decision Tree Data Normalisasi', norm_accuracy_dt_test, norm_recall_dt_test, norm_precision_dt_test),\n",
        "('Decision Tree PCA Data Original', ori_pca_accuracy_dt_test, ori_pca_recall_dt_test, ori_pca_precision_dt_test),\n",
        "('Decision Tree PCA Data Normalisasi', norm_pca_accuracy_dt_test, norm_pca_recall_dt_test, norm_pca_precision_dt_test),\n",
        "]"
      ],
      "metadata": {
        "id": "a04Oc_UlJOlH"
      },
      "execution_count": null,
      "outputs": []
    },
    {
      "cell_type": "code",
      "source": [
        "# Melakukan perbandingan hasil Akurasi, Presisi dan Recall pada data Testing dengan 4 model\n",
        "comparison = pd.DataFrame(data = models_comparison, columns=['Model', 'Accuracy', 'Recall', 'Precision'])\n",
        "comparison"
      ],
      "metadata": {
        "colab": {
          "base_uri": "https://localhost:8080/",
          "height": 175
        },
        "id": "42JXKN6QJPc3",
        "outputId": "31686c18-a580-4046-87fb-4d8f95b13870"
      },
      "execution_count": null,
      "outputs": [
        {
          "output_type": "execute_result",
          "data": {
            "text/plain": [
              "                                Model  Accuracy  Recall  Precision\n",
              "0         Decision Tree Data Original       0.5     0.5        0.5\n",
              "1      Decision Tree Data Normalisasi       0.5     0.5        0.5\n",
              "2     Decision Tree PCA Data Original       0.4     0.4        0.4\n",
              "3  Decision Tree PCA Data Normalisasi       0.6     0.6        0.6"
            ],
            "text/html": [
              "\n",
              "  <div id=\"df-d5919531-9b54-458b-9cac-8e15f9533234\">\n",
              "    <div class=\"colab-df-container\">\n",
              "      <div>\n",
              "<style scoped>\n",
              "    .dataframe tbody tr th:only-of-type {\n",
              "        vertical-align: middle;\n",
              "    }\n",
              "\n",
              "    .dataframe tbody tr th {\n",
              "        vertical-align: top;\n",
              "    }\n",
              "\n",
              "    .dataframe thead th {\n",
              "        text-align: right;\n",
              "    }\n",
              "</style>\n",
              "<table border=\"1\" class=\"dataframe\">\n",
              "  <thead>\n",
              "    <tr style=\"text-align: right;\">\n",
              "      <th></th>\n",
              "      <th>Model</th>\n",
              "      <th>Accuracy</th>\n",
              "      <th>Recall</th>\n",
              "      <th>Precision</th>\n",
              "    </tr>\n",
              "  </thead>\n",
              "  <tbody>\n",
              "    <tr>\n",
              "      <th>0</th>\n",
              "      <td>Decision Tree Data Original</td>\n",
              "      <td>0.5</td>\n",
              "      <td>0.5</td>\n",
              "      <td>0.5</td>\n",
              "    </tr>\n",
              "    <tr>\n",
              "      <th>1</th>\n",
              "      <td>Decision Tree Data Normalisasi</td>\n",
              "      <td>0.5</td>\n",
              "      <td>0.5</td>\n",
              "      <td>0.5</td>\n",
              "    </tr>\n",
              "    <tr>\n",
              "      <th>2</th>\n",
              "      <td>Decision Tree PCA Data Original</td>\n",
              "      <td>0.4</td>\n",
              "      <td>0.4</td>\n",
              "      <td>0.4</td>\n",
              "    </tr>\n",
              "    <tr>\n",
              "      <th>3</th>\n",
              "      <td>Decision Tree PCA Data Normalisasi</td>\n",
              "      <td>0.6</td>\n",
              "      <td>0.6</td>\n",
              "      <td>0.6</td>\n",
              "    </tr>\n",
              "  </tbody>\n",
              "</table>\n",
              "</div>\n",
              "      <button class=\"colab-df-convert\" onclick=\"convertToInteractive('df-d5919531-9b54-458b-9cac-8e15f9533234')\"\n",
              "              title=\"Convert this dataframe to an interactive table.\"\n",
              "              style=\"display:none;\">\n",
              "        \n",
              "  <svg xmlns=\"http://www.w3.org/2000/svg\" height=\"24px\"viewBox=\"0 0 24 24\"\n",
              "       width=\"24px\">\n",
              "    <path d=\"M0 0h24v24H0V0z\" fill=\"none\"/>\n",
              "    <path d=\"M18.56 5.44l.94 2.06.94-2.06 2.06-.94-2.06-.94-.94-2.06-.94 2.06-2.06.94zm-11 1L8.5 8.5l.94-2.06 2.06-.94-2.06-.94L8.5 2.5l-.94 2.06-2.06.94zm10 10l.94 2.06.94-2.06 2.06-.94-2.06-.94-.94-2.06-.94 2.06-2.06.94z\"/><path d=\"M17.41 7.96l-1.37-1.37c-.4-.4-.92-.59-1.43-.59-.52 0-1.04.2-1.43.59L10.3 9.45l-7.72 7.72c-.78.78-.78 2.05 0 2.83L4 21.41c.39.39.9.59 1.41.59.51 0 1.02-.2 1.41-.59l7.78-7.78 2.81-2.81c.8-.78.8-2.07 0-2.86zM5.41 20L4 18.59l7.72-7.72 1.47 1.35L5.41 20z\"/>\n",
              "  </svg>\n",
              "      </button>\n",
              "      \n",
              "  <style>\n",
              "    .colab-df-container {\n",
              "      display:flex;\n",
              "      flex-wrap:wrap;\n",
              "      gap: 12px;\n",
              "    }\n",
              "\n",
              "    .colab-df-convert {\n",
              "      background-color: #E8F0FE;\n",
              "      border: none;\n",
              "      border-radius: 50%;\n",
              "      cursor: pointer;\n",
              "      display: none;\n",
              "      fill: #1967D2;\n",
              "      height: 32px;\n",
              "      padding: 0 0 0 0;\n",
              "      width: 32px;\n",
              "    }\n",
              "\n",
              "    .colab-df-convert:hover {\n",
              "      background-color: #E2EBFA;\n",
              "      box-shadow: 0px 1px 2px rgba(60, 64, 67, 0.3), 0px 1px 3px 1px rgba(60, 64, 67, 0.15);\n",
              "      fill: #174EA6;\n",
              "    }\n",
              "\n",
              "    [theme=dark] .colab-df-convert {\n",
              "      background-color: #3B4455;\n",
              "      fill: #D2E3FC;\n",
              "    }\n",
              "\n",
              "    [theme=dark] .colab-df-convert:hover {\n",
              "      background-color: #434B5C;\n",
              "      box-shadow: 0px 1px 3px 1px rgba(0, 0, 0, 0.15);\n",
              "      filter: drop-shadow(0px 1px 2px rgba(0, 0, 0, 0.3));\n",
              "      fill: #FFFFFF;\n",
              "    }\n",
              "  </style>\n",
              "\n",
              "      <script>\n",
              "        const buttonEl =\n",
              "          document.querySelector('#df-d5919531-9b54-458b-9cac-8e15f9533234 button.colab-df-convert');\n",
              "        buttonEl.style.display =\n",
              "          google.colab.kernel.accessAllowed ? 'block' : 'none';\n",
              "\n",
              "        async function convertToInteractive(key) {\n",
              "          const element = document.querySelector('#df-d5919531-9b54-458b-9cac-8e15f9533234');\n",
              "          const dataTable =\n",
              "            await google.colab.kernel.invokeFunction('convertToInteractive',\n",
              "                                                     [key], {});\n",
              "          if (!dataTable) return;\n",
              "\n",
              "          const docLinkHtml = 'Like what you see? Visit the ' +\n",
              "            '<a target=\"_blank\" href=https://colab.research.google.com/notebooks/data_table.ipynb>data table notebook</a>'\n",
              "            + ' to learn more about interactive tables.';\n",
              "          element.innerHTML = '';\n",
              "          dataTable['output_type'] = 'display_data';\n",
              "          await google.colab.output.renderOutput(dataTable, element);\n",
              "          const docLink = document.createElement('div');\n",
              "          docLink.innerHTML = docLinkHtml;\n",
              "          element.appendChild(docLink);\n",
              "        }\n",
              "      </script>\n",
              "    </div>\n",
              "  </div>\n",
              "  "
            ]
          },
          "metadata": {},
          "execution_count": 295
        }
      ]
    },
    {
      "cell_type": "code",
      "source": [
        "# Visualisasi Perbandingan 4 model dengan Seaborn\n",
        "f, axes = plt.subplots(2,1, figsize=(14,10))\n",
        "predict.sort_values(by=['Training Accuracy'], ascending=False, inplace=True)\n",
        "sns.barplot(x='Training Accuracy', y='Model', data = predict, palette='Blues_d', ax = axes[0])\n",
        "#axes[0].set(xlabel='Region', ylabel='Charges')\n",
        "axes[0].set_xlabel('Training Accuracy', size=16)\n",
        "axes[0].set_ylabel('Model')\n",
        "axes[0].set_xlim(0,1.0)\n",
        "axes[0].set_xticks(np.arange(0, 1.1, 0.1))\n",
        "predict.sort_values(by=['Test Accuracy'], ascending=False, inplace=True)\n",
        "sns.barplot(x='Test Accuracy', y='Model', data = predict, palette='Greens_d', ax = axes[1])\n",
        "#axes[0].set(xlabel='Region', ylabel='Charges')\n",
        "axes[1].set_xlabel('Test Accuracy', size=16)\n",
        "axes[1].set_ylabel('Model')\n",
        "axes[1].set_xlim(0,1.0)\n",
        "axes[1].set_xticks(np.arange(0, 1.1, 0.1))\n",
        "plt.show()"
      ],
      "metadata": {
        "colab": {
          "base_uri": "https://localhost:8080/",
          "height": 618
        },
        "id": "a9FoaxQaJULn",
        "outputId": "70fbded4-4d9e-463c-c5ca-91a1a24a76b7"
      },
      "execution_count": null,
      "outputs": [
        {
          "output_type": "display_data",
          "data": {
            "text/plain": [
              "<Figure size 1008x720 with 2 Axes>"
            ],
            "image/png": "[encoded data removed]"
          },
          "metadata": {}
        }
      ]
    },
    {
      "cell_type": "markdown",
      "source": [
        "### Kesimpulan :\n",
        "- Model terbaik dari Dataset Kanker Paru-Paru adalah menggunakan Decision Tree PCA Data Normalisasi dengan nilai akurasi tertinggi\n",
        "pada Data Training sebesar 90,9% dan akurasi tertinggi pada Data Testing sebesar 60%."
      ],
      "metadata": {
        "id": "vxknUFwyJaTO"
      }
    },
    {
      "cell_type": "code",
      "source": [],
      "metadata": {
        "id": "Y7pCjWmyJgnJ"
      },
      "execution_count": null,
      "outputs": []
    }
  ]
}